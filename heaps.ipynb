{
 "cells": [
  {
   "cell_type": "markdown",
   "id": "edfd8f44-e533-4afe-a39f-56532540d242",
   "metadata": {},
   "source": [
    "# **Heaps**\n",
    "_______"
   ]
  },
  {
   "cell_type": "markdown",
   "id": "23dac4ce-5ae0-4fb6-9cf7-81b0ba342ccb",
   "metadata": {},
   "source": [
    "1. Heaps are arrays of size *n*\n",
    "2. But heaps can be visualized as a tree (a special binary tree)\n",
    "3. For A[i] which is a parent:\n",
    "        - A[2i] is the left child if 2i <= n\n",
    "        - A[2i+1] is the right child if 2i+1 <= n\n",
    "4. If A[i] has a right child, then it should have a left child as well\n",
    "5. MinHeap property: Every parent is less than or equal to its children\n",
    "    - every node A[i] <= A[2i] and A[i] <= A[2i+1]\n",
    "    - MaxHeap property is the opposite\n",
    "6. If A is a MinHeap, then the root (first element (A[0])) is the minimum element of A\n",
    "7. Depth of a heap is the number of its tree levels\n",
    "    "
   ]
  },
  {
   "cell_type": "markdown",
   "id": "9576dcf9-e50d-4a47-a5d5-55880b9965e8",
   "metadata": {},
   "source": [
    "<img src = 'pics/heaps.png' width = 500>"
   ]
  },
  {
   "cell_type": "markdown",
   "id": "8a4c4884-3c93-4b04-b0d7-9f296e80a13b",
   "metadata": {},
   "source": [
    "## Primitives:\n",
    "Bubble Up, Bubble Down"
   ]
  },
  {
   "cell_type": "markdown",
   "id": "2657ed63-c505-4b1d-9418-85c690ed9ef9",
   "metadata": {},
   "source": [
    "**When the heap is 'broken' just in one place:**\n",
    "\n",
    "1. if parent  is >= left child in MinHeap (**child is broken**), then we implement a ***Bubble Up*** - recursively swap the element which is in incorrect with its parent (**child goes up**)\n",
    "2. if parent is in the wrong relation with both of its children (**parent is broken**), then we implement a ***BubbleDown*** - recursively swap the parent with its smallest child (**parent goes down**)"
   ]
  },
  {
   "cell_type": "raw",
   "id": "9fe5c7d1-c659-4f25-9bb9-d006343112c3",
   "metadata": {},
   "source": [
    "def BubbleUp(A, j):\n",
    "    if j <= 1:\n",
    "        return\n",
    "    else:\n",
    "        if A[j] < A[j//2]:        # A[j//2] is a parent of A[j]\n",
    "            swap(A[j], A[j//2])\n",
    "            BubbleUp(A, j//2)\n",
    "    return "
   ]
  },
  {
   "cell_type": "raw",
   "id": "5e989462-55a0-4b85-bc81-36d2da77c1b6",
   "metadata": {},
   "source": [
    "def BubbleDown(A, j):\n",
    "    if 2j > n:                 # A has no left child\n",
    "        return\n",
    "    if 2j <= n and 2j+1 > n:   # A has exactly 1 child\n",
    "        if A[j] > A[2j]:\n",
    "            swap(A[j], A[2j])\n",
    "            BubbleDown(A, 2j)\n",
    "    else:                      # A has 2 children\n",
    "                               # find the smallest child\n",
    "        if A[2j] < A[2j+1]:\n",
    "            small = 2j\n",
    "        else:\n",
    "            small = 2j+1\n",
    "            \n",
    "        swap(A[j], A[small])\n",
    "        BubbleDown(A, small)\n",
    "    return"
   ]
  },
  {
   "cell_type": "markdown",
   "id": "1bef57d8-c366-4fbb-8f11-4521e08c8253",
   "metadata": {
    "tags": []
   },
   "source": [
    "## Operations:\n",
    "1. Insert element into the heap\n",
    "2. Deleting an element from heap\n",
    "3. Find the smallest element in MinHeap\n",
    "4. Priority queue\n",
    "5. Converting an array into a heap (heapify)\n",
    "6. HeapSort"
   ]
  },
  {
   "cell_type": "markdown",
   "id": "3d7e8688-00e0-49a2-a4de-8f27ef46156f",
   "metadata": {},
   "source": [
    "#### Insertion O(logn)\n",
    "Finding the exact position of the new element is performed in *logn* since it is only compared with the position of the parent nodes.\n",
    "- ***append*** an element to an end of a heap -> heap may not be a heap now (broken heap property)\n",
    "- make a ***Bubble Up*** operation of this newly added element (BubbleUp(A, n+1))"
   ]
  },
  {
   "cell_type": "markdown",
   "id": "cb1a9bfa-82b9-4ca8-b517-52befedfd2e7",
   "metadata": {},
   "source": [
    "#### Deletion O(logn)\n",
    "A specific element from the heap can be removed in *logn* time.\n",
    "- replace an element we delete with a last element in a heap\n",
    "- adjust size of a heap to n-1 length\n",
    "- fix what's broken:\n",
    "    - either make ***BubbleUp***\n",
    "    - or ***BubbleDown***"
   ]
  },
  {
   "cell_type": "markdown",
   "id": "9785e07e-d635-493b-ae21-bb826bfde5fb",
   "metadata": {
    "jp-MarkdownHeadingCollapsed": true,
    "tags": []
   },
   "source": [
    "#### Find the smallest element O(1)\n",
    "This is possible because the heap data structure always has the minimum element on the root node.\n",
    "- just take the first element which is a root of a MinHeap"
   ]
  },
  {
   "cell_type": "markdown",
   "id": "f14aca9f-05f4-4796-ade2-771e04417994",
   "metadata": {},
   "source": [
    "#### Priority queue\n",
    "- this is a FIFO data structure (FIFO queue), but with a priorities of the elmenets\n",
    "- Priority queue = MinHeap -> we add new element to a heap taking into account its priority value"
   ]
  },
  {
   "cell_type": "markdown",
   "id": "6e662044-735b-4a73-ada9-3a6ac0d08c30",
   "metadata": {
    "tags": []
   },
   "source": [
    "#### Heapify an array O(n)\n",
    "This operation rearranges all the nodes after deletion or insertion operation. The cost of this operation is n\n",
    " since all the elements have to be moved to keep the heap\n",
    "how do we turn an array into a heap?\n",
    "- move from the end to the beginning of an array\n",
    "- Bubble Down each element (for i = n/2 to 0: BubbleDown(A, i))"
   ]
  },
  {
   "cell_type": "markdown",
   "id": "c1230793-1368-447d-b731-3c7528776f2c",
   "metadata": {
    "tags": []
   },
   "source": [
    "#### HeapSort O(nlogn)\n",
    "sorting an array:\n",
    "- Convert an array list into a heap\n",
    "- Keep the first element, which is always the min as a root in MinHeap\n",
    "- Heapify the rest of an array\n",
    "- Repeat till the end of an array"
   ]
  },
  {
   "cell_type": "code",
   "execution_count": 1,
   "id": "dc6dadce-7469-495d-bd38-7e71a33aba31",
   "metadata": {},
   "outputs": [],
   "source": [
    "# Heap Sort in place\n",
    "def HeapSort(A):\n",
    "    heapify(A)\n",
    "    n = len(A)-1\n",
    "    for i in range(0, n):\n",
    "        A[i:n+1] = heapify(A[i:n+1])\n",
    "    return A "
   ]
  },
  {
   "cell_type": "markdown",
   "id": "8e53da90-b7ee-4b7e-b704-00c69793c909",
   "metadata": {},
   "source": [
    "## Implementation"
   ]
  },
  {
   "cell_type": "code",
   "execution_count": 2,
   "id": "c4ca6b30-775e-4e19-984f-a767f29d5a66",
   "metadata": {},
   "outputs": [
    {
     "name": "stdout",
     "output_type": "stream",
     "text": [
      "5\n"
     ]
    }
   ],
   "source": [
    "class MinHeap:\n",
    "    def __init__(self):\n",
    "        self.heap_list = [0]\n",
    "        self.current_size = 0\n",
    " \n",
    "    def BubbleUp(self, i):\n",
    "        # While the element is not the root or the left element\n",
    "        while i // 2 > 0:\n",
    "            # If the element is less than its parent swap the elements\n",
    "            if self.heap_list[i] < self.heap_list[i // 2]:\n",
    "                self.heap_list[i], self.heap_list[i // 2] = self.heap_list[i // 2], self.heap_list[i]\n",
    "            # Move the index to the parent to keep the properties\n",
    "            i = i // 2\n",
    " \n",
    "    def insert(self, k):\n",
    "        # Append the element to the heap\n",
    "        self.heap_list.append(k)\n",
    "        # Increase the size of the heap.\n",
    "        self.current_size += 1\n",
    "        # Move the element to its position from bottom to the top\n",
    "        self.BubbleDown(self.current_size)\n",
    " \n",
    "    def BubbleDown(self, i):\n",
    "        # if the current node has at least one child\n",
    "        while (i * 2) <= self.current_size:\n",
    "            # Get the index of the min child of the current node\n",
    "            mc = self.min_child(i)\n",
    "            # Swap the values of the current element is greater than its min child\n",
    "            if self.heap_list[i] > self.heap_list[mc]:\n",
    "                self.heap_list[i], self.heap_list[mc] = self.heap_list[mc], self.heap_list[i]\n",
    "            i = mc\n",
    " \n",
    "    def min_child(self, i):\n",
    "        # If the current node has only one child, return the index of the unique child\n",
    "        if (i * 2)+1 > self.current_size:\n",
    "            return i * 2\n",
    "        else:\n",
    "            # Herein the current node has two children\n",
    "            # Return the index of the min child according to their values\n",
    "            if self.heap_list[i*2] < self.heap_list[(i*2)+1]:\n",
    "                return i * 2\n",
    "            else:\n",
    "                return (i * 2) + 1\n",
    " \n",
    "    def delete_min(self):\n",
    "        # Equal to 1 since the heap list was initialized with a value\n",
    "        if len(self.heap_list) == 1:\n",
    "            return 'Empty heap'\n",
    " \n",
    "        # Get root of the heap (The min value of the heap)\n",
    "        root = self.heap_list[1]\n",
    " \n",
    "        # Move the last value of the heap to the root\n",
    "        self.heap_list[1] = self.heap_list[self.current_size]\n",
    " \n",
    "        # Pop the last value since a copy was set on the root\n",
    "        *self.heap_list, _ = self.heap_list\n",
    " \n",
    "        # Decrease the size of the heap\n",
    "        self.current_size -= 1\n",
    " \n",
    "        # Move down the root (value at index 1) to keep the heap property\n",
    "        self.BubbleDown(1)\n",
    " \n",
    "        # Return the min value of the heap\n",
    "        return root\n",
    "\n",
    "my_heap = MinHeap()\n",
    "my_heap.insert(5)\n",
    "my_heap.insert(6)\n",
    "my_heap.insert(7)\n",
    "my_heap.insert(9)\n",
    "my_heap.insert(13)\n",
    "my_heap.insert(11)\n",
    "my_heap.insert(10)\n",
    "\n",
    "print(my_heap.delete_min()) # removing min node i.e 5 \n"
   ]
  }
 ],
 "metadata": {
  "kernelspec": {
   "display_name": "Python 3 (ipykernel)",
   "language": "python",
   "name": "python3"
  },
  "language_info": {
   "codemirror_mode": {
    "name": "ipython",
    "version": 3
   },
   "file_extension": ".py",
   "mimetype": "text/x-python",
   "name": "python",
   "nbconvert_exporter": "python",
   "pygments_lexer": "ipython3",
   "version": "3.9.12"
  }
 },
 "nbformat": 4,
 "nbformat_minor": 5
}
