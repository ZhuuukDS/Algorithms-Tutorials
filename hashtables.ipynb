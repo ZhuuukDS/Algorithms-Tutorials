{
 "cells": [
  {
   "cell_type": "markdown",
   "id": "07f216a2-805c-4755-b2da-cfd787c3b34b",
   "metadata": {},
   "source": [
    "# **Hashtables**\n",
    "_______"
   ]
  },
  {
   "cell_type": "markdown",
   "id": "35b80c2b-1d58-4d1b-aecd-296082929352",
   "metadata": {},
   "source": [
    "#### Dictionary in python is a kind of a Hashtable data structure"
   ]
  },
  {
   "cell_type": "markdown",
   "id": "c89a97b6-9ca9-4183-a148-787ba692ffa9",
   "metadata": {},
   "source": [
    "Hashtable implements mapping from keys to values"
   ]
  },
  {
   "cell_type": "markdown",
   "id": "0706e19b-6c44-43a7-ab7a-fbe677e3a9b8",
   "metadata": {
    "tags": []
   },
   "source": [
    "## Operations:\n",
    "1. Find a key\n",
    "2. Insert a key\n",
    "3. Delete a key\n",
    "4. Update key -> value mapping"
   ]
  },
  {
   "cell_type": "markdown",
   "id": "62545f93-fabd-414c-af8c-e55152691ced",
   "metadata": {},
   "source": [
    "### Basic idea\n",
    "- Hashtable is a table\n",
    "- There are slots/rows with keys and values\n",
    "- Type of a key or value doesn't matter\n",
    "- Hash function takes a key and calculates a number - an index of a slot in a hashtable (a place for a key value)\n",
    "- Hash function is computed efficiently"
   ]
  },
  {
   "cell_type": "markdown",
   "id": "c9dc03ff-3c21-4724-8b02-5b5cf940b0e4",
   "metadata": {},
   "source": [
    "Hash function must map key to slot in the table.\n",
    "\n",
    "The main issue of a hash function is that it should map lots of keys and if there are a lot of keys, it can map several keys to one slot and we have to deal with such *collision*"
   ]
  },
  {
   "cell_type": "markdown",
   "id": "eac1aeac-5766-48f1-a805-2ce86b26b097",
   "metadata": {},
   "source": [
    "### Insertion\n",
    "- compute a hash of a key\n",
    "- if computed slot is free (no collision):\n",
    "    - put a key-value in a slot \n",
    "- if there's a collision:\n",
    "    - make Chaining - deal with collision"
   ]
  },
  {
   "cell_type": "markdown",
   "id": "a4e732b7-a646-4866-a0ca-db6c5a5fe8c7",
   "metadata": {},
   "source": [
    "### Chaining\n",
    "Dealing with collisions\n",
    "- Idea is to make a hashtable so that each slot maps to a **list** (initially empty)\n",
    "- A list can grow and contain multiple key-value pairs\n",
    "- Each slot is associated with a list of key-value pairs\n",
    "\n",
    "#### Pros:\n",
    "- Never filled up\n",
    "\n",
    "#### Cons:\n",
    "- Wasted space (by linked lists)\n",
    "- Maintaining a dynamic array\n",
    "- Clustering"
   ]
  },
  {
   "cell_type": "markdown",
   "id": "df385a61-2bf1-43f1-aef9-fcb3d3a17a75",
   "metadata": {},
   "source": [
    "### Find\n",
    "How to find a value by its key\n",
    "- Hash the key -> find a slot\n",
    "- Search the list in this slot to find a key"
   ]
  },
  {
   "cell_type": "markdown",
   "id": "bf0fd4d8-bbda-44cd-9196-aae3d4f09402",
   "metadata": {},
   "source": [
    "### Delete\n",
    "How to delete a key\n",
    "- Hash the key -> find a slot\n",
    "- If no slot found -> return None\n",
    "- If slot found -> search through the list to find a key\n",
    "- Delete a key"
   ]
  },
  {
   "cell_type": "markdown",
   "id": "9215ab06-9c14-430a-a58f-a051c409a7c4",
   "metadata": {},
   "source": [
    "### Load factor\n",
    "- Assume hashtable has *m* slots\n",
    "- Let's insert *n* elements into the hash table\n",
    "- ***Worst case*** - all *n* elements collide onto the same slot\n",
    "    - poorly designed hash function?\n",
    "    - adversary chosen keys?\n",
    "- ***Average case***:\n",
    "    - $ P(h(k_i)=j)=1/m $ - probability of putting a key into a slot *j*\n",
    "    - Average list size = $n/m$ \n",
    "\n",
    "**Load factor** - is a number of elements in a hash table divided by the number of slots"
   ]
  },
  {
   "cell_type": "markdown",
   "id": "1e523766-d62d-462a-a5b7-14236183ca70",
   "metadata": {},
   "source": [
    "Complexity of Insert, Delete and Find operations equals to a load factor of a hash table"
   ]
  },
  {
   "cell_type": "markdown",
   "id": "2e6c8d38-51f9-48e2-bd04-ea9d8d616c1d",
   "metadata": {
    "tags": []
   },
   "source": [
    "### Rehashing\n",
    "To improve a load factor (to manage distribution of the elements in a hash function)\n",
    "\n",
    "It's a process to modify a hash table with increased number of slots with O(n+m) complexity"
   ]
  },
  {
   "cell_type": "markdown",
   "id": "b15c7504-75a9-4986-8a82-d1bc187a69dd",
   "metadata": {},
   "source": [
    "### Open Address Hashtables\n",
    "Sometimes solving the collisions using Chaining method can be very memory consuming. If so, we can use a technique that simplifies hashtable design - open address hastable.\n",
    "\n",
    "#### The main idea:\n",
    "- when our function returns a slot *j* which is already occupied,\n",
    "- then we look at slot *j+1*\n",
    "- if it is empty we store our key-value there, if not...\n",
    "- try *j+2*, *j+3* etc until *j*\n",
    "- if no place found -> rehashing a table\n",
    "\n",
    "#### Pros:\n",
    "- Better space utilization compared to Chaining\n",
    "- Solves clustering problem\n",
    "\n",
    "#### Cons:\n",
    "- Needs rehashing\n",
    "- 'cache locality'"
   ]
  },
  {
   "cell_type": "markdown",
   "id": "2b129e28-6ed3-4896-a84c-2243a2d49777",
   "metadata": {
    "tags": []
   },
   "source": [
    "### Universal hash families\n",
    "\n",
    "This is a family of hash functions, not just a single function.<br>\n",
    "Each hash function is going to take keys into the slots of a hash table.<br>\n",
    "For any key we randomly choose a hash function from a hash family.<br>\n",
    "That helps to avoid collisions.\n"
   ]
  },
  {
   "cell_type": "markdown",
   "id": "4eec775b-c5bd-46fa-b60b-102f9dcda827",
   "metadata": {},
   "source": [
    "*Family of hash functions* $ H:\\{h_1,...,h_N\\} $\n",
    "$$ h_i: Keys \\rightarrow \\{0,...,m-1\\} $$\n",
    "\n",
    "***Guarantee***: *if we randomly choose two different functions $h_i, h_j$ from this family*:\n",
    " for any keys $k_i, k_j$ where $k_i \\neq k_j$\n",
    " probability that they collide for randomly chosen hash function:\n",
    " $$\\mathbb{P}_{h\\in H}(h(k_i)=h(k_j)) \\le \\frac{c}{m} \\sim \\frac{1}{m}  $$\n",
    "    *which means keys are randomly distributed in slot and its randomness is over a randomly chosen hash function.*<br>\n",
    "Although the average length of chains is small, there may be few big outliers, so it's not a *perfect* solution"
   ]
  },
  {
   "cell_type": "markdown",
   "id": "30b2c9c1-2770-4c44-9a27-e37e04f666d3",
   "metadata": {
    "jp-MarkdownHeadingCollapsed": true,
    "tags": []
   },
   "source": [
    "### Perfect hashing\n",
    "\n",
    "It's about finding a hash function and creating a hashtable where no collisions possible (strong guarantee).\n",
    "\n",
    "One of the techniques known - ***two-level hashtables***\n",
    "\n",
    "#### Idea:\n",
    "\n",
    "Assume we know the number *n* of distinct keys to be inserted into a hashtable, then:\n",
    "- Choose a random hash function: $h\\in H$\n",
    "- Create a hashtable with $Kn^2$ slots, where K is a parameter to be determined\n",
    "- Insert each key into this *big* hashtable\n",
    "- If collision happens: *abort* and redo a procedure\n",
    "\n",
    "**Two-level hashtable** is a hash table whose slots are themselves hash tables \n",
    "\n"
   ]
  },
  {
   "cell_type": "markdown",
   "id": "53c779f1-eb7d-47ef-a89c-ee3289abcc9f",
   "metadata": {
    "tags": []
   },
   "source": [
    "### Cuckoo hashing\n",
    "\n",
    "Key advantage is that deletion and lookup operation is guaranteed O(1) time complexity. Insertion is O(1) in average.\n",
    "\n",
    "#### Idea:\n",
    "- we use two hashtables\n",
    "- we use random hash function for each of two hashtables\n",
    "- every key can be found either in the first hashtable or in the second\n",
    "- when we insert a new key $k$, we try first to put it in the fisrt hashtable,\n",
    "- if it is empty -> done, else:\n",
    "    - kick out the key that was initially in the first hashtable $k_1$ to the second hashtable\n",
    "    - if the slot in the second hashtable is free -> done, else:\n",
    "        - displace the key in the second hashtable $k_2$ into the first hashtable\n",
    "    - repeat\n",
    "\n",
    "#### Pros:\n",
    "- no chaining\n",
    "- no open addressing"
   ]
  },
  {
   "cell_type": "markdown",
   "id": "7f93a0c6-0d11-4221-9719-99216f8df7bd",
   "metadata": {
    "tags": []
   },
   "source": [
    "## Problems"
   ]
  },
  {
   "cell_type": "markdown",
   "id": "f7c516e9-4231-4ce1-a9d7-b1d17a23b630",
   "metadata": {},
   "source": [
    "There are sorts of problems for hashtables"
   ]
  },
  {
   "cell_type": "markdown",
   "id": "c8604566-2334-43ec-a306-22b66ae4f70a",
   "metadata": {},
   "source": [
    "#### Leetcode 1. Two Sum\n",
    "**Given an array of integers nums and an integer target, return indices of the two numbers such that they add up to target**\n",
    "\n",
    "You may assume that each input would have exactly one solution, and you may not use the same element twice."
   ]
  },
  {
   "cell_type": "code",
   "execution_count": 4,
   "id": "720f7581-f3dc-4bf6-a447-541545c87a44",
   "metadata": {},
   "outputs": [],
   "source": [
    "def twoSum(self, nums: int, target: int):\n",
    "# here is the naive version that takes O(n2) time complexity:\n",
    "    # n = len(nums)\n",
    "    # for i in range(n):\n",
    "    #     for j in range(i+1, n):\n",
    "    #         if nums[i] + nums[j] == target and i != j:\n",
    "    #             return [i, j]\n",
    "\n",
    "# using hashtable (python dictionary) we have O(n) complexity:   \n",
    "    d = {}\n",
    "    n = len(nums)\n",
    "    for i in range(n):\n",
    "        key = target - nums[i]\n",
    "        if key in d:\n",
    "            return [d[key], i]\n",
    "        d[nums[i]] = i"
   ]
  },
  {
   "cell_type": "code",
   "execution_count": null,
   "id": "4f929aa8-c4ee-4ec0-813b-70db8a766c4d",
   "metadata": {},
   "outputs": [],
   "source": []
  }
 ],
 "metadata": {
  "kernelspec": {
   "display_name": "Python 3 (ipykernel)",
   "language": "python",
   "name": "python3"
  },
  "language_info": {
   "codemirror_mode": {
    "name": "ipython",
    "version": 3
   },
   "file_extension": ".py",
   "mimetype": "text/x-python",
   "name": "python",
   "nbconvert_exporter": "python",
   "pygments_lexer": "ipython3",
   "version": "3.9.12"
  }
 },
 "nbformat": 4,
 "nbformat_minor": 5
}
