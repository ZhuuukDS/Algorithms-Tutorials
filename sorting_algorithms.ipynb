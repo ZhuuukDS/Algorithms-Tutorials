{
 "cells": [
  {
   "cell_type": "markdown",
   "id": "d43f020e-0091-4f52-ad6d-449092c44af3",
   "metadata": {
    "tags": []
   },
   "source": [
    "# **Sorting algorithms**\n",
    "______________________________"
   ]
  },
  {
   "cell_type": "markdown",
   "id": "eff2613a-cedd-4f01-8ef8-df3499e7f31c",
   "metadata": {},
   "source": [
    "## Contents:\n",
    "- [Selection Sort](#Selection-Sort)\n",
    "- [Bubble Sort](#Bubble-Sort)\n",
    "- [Insertion Sort](#Insertion-Sort)\n",
    "- [Merge Sort](#Merge-Sort)\n",
    "- [Heap Sort](#Heap-Sort)\n",
    "- [Quick Sort](#Quick-Sort)"
   ]
  },
  {
   "cell_type": "markdown",
   "id": "3f9b08cd-6b49-4f60-9cbd-3f3ac414c499",
   "metadata": {},
   "source": [
    "Firstly, we need to import module `random` to have randomly shuffled lists of integers"
   ]
  },
  {
   "cell_type": "code",
   "execution_count": 1,
   "id": "4e256623-7ad1-482a-9729-f7adb02e2dde",
   "metadata": {},
   "outputs": [],
   "source": [
    "import random"
   ]
  },
  {
   "cell_type": "markdown",
   "id": "eca02a1d-99c3-48ae-aa21-e835f11d0f17",
   "metadata": {},
   "source": [
    "Assume that we have a sorted list of integers"
   ]
  },
  {
   "cell_type": "code",
   "execution_count": 2,
   "id": "06a2af34-f114-42ef-9cca-ed96dd0890ac",
   "metadata": {},
   "outputs": [
    {
     "data": {
      "text/plain": [
       "[-5, -2, 1, 4, 7, 10, 13, 16, 19]"
      ]
     },
     "execution_count": 2,
     "metadata": {},
     "output_type": "execute_result"
    }
   ],
   "source": [
    "lst = list(range(-5, 22, 3))\n",
    "lst"
   ]
  },
  {
   "cell_type": "markdown",
   "id": "ee594ae2-32e8-47df-8cfc-e1c2577f3709",
   "metadata": {},
   "source": [
    "Now let's randomly shuffle it"
   ]
  },
  {
   "cell_type": "code",
   "execution_count": 3,
   "id": "10ce5417-42a0-4563-8d5c-8bf6ab59c4b0",
   "metadata": {},
   "outputs": [
    {
     "data": {
      "text/plain": [
       "[1, 13, 4, 16, 7, 19, -5, -2, 10]"
      ]
     },
     "execution_count": 3,
     "metadata": {},
     "output_type": "execute_result"
    }
   ],
   "source": [
    "random.shuffle(lst)\n",
    "lst"
   ]
  },
  {
   "cell_type": "markdown",
   "id": "d04922c6-736e-4584-85a7-e152838f7cec",
   "metadata": {
    "tags": []
   },
   "source": [
    "## **`Selection Sort`**"
   ]
  },
  {
   "cell_type": "markdown",
   "id": "0a7bb88b-af11-4532-bab0-2b77918bb940",
   "metadata": {},
   "source": [
    "*This is one of the slowest sorting algorithm with $O(n^2)$ time complexity*"
   ]
  },
  {
   "cell_type": "markdown",
   "id": "f48f507a-a9e6-430e-9f9e-87152f569589",
   "metadata": {},
   "source": [
    "**`Selection Sort`** is a sorting algorithm that selects the smallest (largest) element from an unsorted list in each iteration and places that element at the beginning of the unsorted list."
   ]
  },
  {
   "cell_type": "markdown",
   "id": "582e3cce-1d9b-4aff-aeb2-8575b335a52d",
   "metadata": {
    "pycharm": {
     "name": "#%% md\n"
    }
   },
   "source": [
    "<img src=\"pics/selection_sort.gif\" width = 600, height = 400, align = 'left' />"
   ]
  },
  {
   "cell_type": "markdown",
   "id": "7d8621e4-47e8-468f-9bb7-6525eaef15ad",
   "metadata": {},
   "source": [
    "#### Let's implement `Selection Sort` algorithm to get the sorted list"
   ]
  },
  {
   "cell_type": "code",
   "execution_count": 4,
   "id": "93f084a5-1101-46d7-82f6-92a54d08c4d5",
   "metadata": {
    "tags": []
   },
   "outputs": [
    {
     "data": {
      "text/plain": [
       "[-5, -2, 1, 4, 7, 10, 13, 16, 19]"
      ]
     },
     "execution_count": 4,
     "metadata": {},
     "output_type": "execute_result"
    }
   ],
   "source": [
    "# Selection Sort algorithm\n",
    "\n",
    "# Selection sort function\n",
    "def selection_sort(A):\n",
    "    for i in range(len(A)): # Traverse through all array elements\n",
    "        min_id = i # suggest that i-th element is a minimum element\n",
    "        for j in range(i+1, len(A)): # Find the minimum element in remaining unsorted array\n",
    "            if A[min_id] > A[j]: # compare the min element with the next elements\n",
    "                min_id = j # change the index of the min (which was i) to j\n",
    "        A[i], A[min_id] = A[min_id], A[i] # Swap the found minimum element with the first element\n",
    "    return A\n",
    "\n",
    "# output a sorted array\n",
    "selection_sort(lst)"
   ]
  },
  {
   "cell_type": "markdown",
   "id": "a6f9bb5d-7ae6-4879-85e6-a9a72a4c2635",
   "metadata": {
    "tags": []
   },
   "source": [
    "## **`Bubble Sort`**"
   ]
  },
  {
   "cell_type": "markdown",
   "id": "c18611d6-7cb1-407a-b420-a00ba767e3f1",
   "metadata": {},
   "source": [
    "*Bubble Sort is a bit faster, than selection sort, but still with $O(n^2)$ time complexity*"
   ]
  },
  {
   "cell_type": "markdown",
   "id": "eb2bef4b-4ed0-4757-a512-fb02a84aaa88",
   "metadata": {},
   "source": [
    "**`Bubble Sort`** is a sorting algorithm that compares two adjacent elements and swaps them until they are not in the intended order."
   ]
  },
  {
   "cell_type": "markdown",
   "id": "bbd156bf-3a31-4c41-82a0-383d66777186",
   "metadata": {
    "pycharm": {
     "name": "#%% md\n"
    }
   },
   "source": [
    "<img src=\"pics/bubble_sort.gif\" width = 600, height = 400, align = 'left' />"
   ]
  },
  {
   "cell_type": "markdown",
   "id": "1798367f-9bd9-4f79-b2f5-3ef326d2bf9f",
   "metadata": {},
   "source": [
    "Let's randomly shuffle our list"
   ]
  },
  {
   "cell_type": "code",
   "execution_count": 5,
   "id": "f9071c0b-6245-436d-b0d7-c5fc5708bdad",
   "metadata": {},
   "outputs": [
    {
     "data": {
      "text/plain": [
       "[13, -2, 1, 10, 16, 19, 7, -5, 4]"
      ]
     },
     "execution_count": 5,
     "metadata": {},
     "output_type": "execute_result"
    }
   ],
   "source": [
    "random.shuffle(lst)\n",
    "lst"
   ]
  },
  {
   "cell_type": "markdown",
   "id": "e2c5682b-e744-4c0a-94bd-fd1528a76e7e",
   "metadata": {},
   "source": [
    "#### Let's implement `Bubble Sort` algorithm to get the sorted list"
   ]
  },
  {
   "cell_type": "code",
   "execution_count": 6,
   "id": "f75018ae-2c12-4f72-9936-714ca4a34f9c",
   "metadata": {
    "pycharm": {
     "name": "#%%\n"
    },
    "tags": []
   },
   "outputs": [
    {
     "data": {
      "text/plain": [
       "[-5, -2, 1, 4, 7, 10, 13, 16, 19]"
      ]
     },
     "execution_count": 6,
     "metadata": {},
     "output_type": "execute_result"
    }
   ],
   "source": [
    "# Bubble Sort algorithm\n",
    "\n",
    "# a bubble sort function\n",
    "def bubble_sort(A):\n",
    "    for i in range(len(A)): # Going through all elements in an array\n",
    "        for j in range(i+1, len(A)): # traverse the array from i+1 element to the end of array\n",
    "            if A[i] > A[j] : # if the element found is greater than the next element...\n",
    "                A[i], A[j] = A[j], A[i] # swap it\n",
    "    return A\n",
    "\n",
    "# output a sorted array\n",
    "bubble_sort(lst)"
   ]
  },
  {
   "cell_type": "markdown",
   "id": "d3f1c6c0-c4d0-45d6-bd6a-a170d92876df",
   "metadata": {
    "tags": []
   },
   "source": [
    "## **`Insertion Sort`**"
   ]
  },
  {
   "cell_type": "markdown",
   "id": "3dc2e1fa-7486-4cd9-8444-383c7b99328e",
   "metadata": {},
   "source": [
    "*Insertion Sort is twice fast as Bubble Sort, but still with $O(n^2)$ time complexity*"
   ]
  },
  {
   "cell_type": "markdown",
   "id": "64ccf12c-2c4a-44bf-a131-c5d153d152b0",
   "metadata": {},
   "source": [
    "**`Insertion sort`** is a sorting algorithm that places an unsorted element at its suitable place in each iteration (as like we sort cards in our hands)"
   ]
  },
  {
   "cell_type": "markdown",
   "id": "c38ed009-20c1-465a-834f-f7fbc1fcebd3",
   "metadata": {
    "pycharm": {
     "name": "#%% md\n"
    }
   },
   "source": [
    "<img src=\"pics/insertion_sort.gif\" width = 600, height = 400, align = 'left' />"
   ]
  },
  {
   "cell_type": "markdown",
   "id": "b162cf22-1b11-49d4-8293-e6b2c9c20530",
   "metadata": {},
   "source": [
    "Let's randomly shuffle our list"
   ]
  },
  {
   "cell_type": "code",
   "execution_count": 7,
   "id": "48afffc7-efb1-444e-a3a7-4a0187a2eb39",
   "metadata": {},
   "outputs": [
    {
     "data": {
      "text/plain": [
       "[16, 13, -2, 19, 10, 1, 4, -5, 7]"
      ]
     },
     "execution_count": 7,
     "metadata": {},
     "output_type": "execute_result"
    }
   ],
   "source": [
    "random.shuffle(lst)\n",
    "lst"
   ]
  },
  {
   "cell_type": "markdown",
   "id": "e1cd70eb-bfc9-42e2-a8d0-ea4f13ac4dcd",
   "metadata": {},
   "source": [
    "#### Let's implement `Insertion Sort` algorithm to get the sorted list"
   ]
  },
  {
   "cell_type": "code",
   "execution_count": 8,
   "id": "90fe4603-594d-42c7-9e1d-288e5f2542db",
   "metadata": {},
   "outputs": [
    {
     "data": {
      "text/plain": [
       "[-5, -2, 1, 4, 7, 10, 13, 16, 19]"
      ]
     },
     "execution_count": 8,
     "metadata": {},
     "output_type": "execute_result"
    }
   ],
   "source": [
    "# Insertion Sort algorithm\n",
    "\n",
    "# an insertion step function\n",
    "def insertion_step(A, j):\n",
    "    for i in range(j-1,-1,-1): # going through the array backwards from the j-th element (left direction)\n",
    "        if A[i] > A[i+1] : # if the element on the left is greater than the i-th element, then...\n",
    "                A[i], A[i+1] = A[i+1], A[i] # swap\n",
    "\n",
    "\n",
    "# make insertion step for each element of an array\n",
    "for j in range(len(lst)):\n",
    "    insertion_step(lst, j)\n",
    "    \n",
    "# output a sorted array\n",
    "lst"
   ]
  },
  {
   "cell_type": "markdown",
   "id": "60cf5244-bd89-4b30-b006-8b3ae42aa576",
   "metadata": {
    "tags": []
   },
   "source": [
    "## **`Merge Sort`**"
   ]
  },
  {
   "cell_type": "markdown",
   "id": "e65ac48c-d679-4847-bcf4-2f7b398dec6d",
   "metadata": {},
   "source": [
    "*Merge Sort is a faster sorting algorithm with $O(nlog(n))$ time complexity*"
   ]
  },
  {
   "cell_type": "markdown",
   "id": "7ad1e5a3-b90d-453f-8e65-0bf809280649",
   "metadata": {},
   "source": [
    "**`Merge sort`** is a Divide and Conquer algorithm. It divides the input array into two halves, calls itself for the two halves, and then merges the two sorted halves."
   ]
  },
  {
   "cell_type": "markdown",
   "id": "a3cea365-467b-4fb1-b6df-675ae56424ba",
   "metadata": {
    "pycharm": {
     "name": "#%% md\n"
    }
   },
   "source": [
    "<img src=\"pics/merge_sort.gif\" width = 600, height = 400, align = 'left' />"
   ]
  },
  {
   "cell_type": "markdown",
   "id": "91c22a30-bd0e-4b5a-9402-58ddff1b26a0",
   "metadata": {},
   "source": [
    "<img src=\"pics/merge-sort-tutorial.png\" width = 500, height = 400, align = 'left' />"
   ]
  },
  {
   "cell_type": "markdown",
   "id": "d1ae1fa4-c6eb-4996-878d-16078940fd1c",
   "metadata": {},
   "source": [
    "Let's randomly shuffle our list"
   ]
  },
  {
   "cell_type": "code",
   "execution_count": 9,
   "id": "9875eb1a-4189-4bb8-92c9-9c1a76b4f854",
   "metadata": {},
   "outputs": [
    {
     "data": {
      "text/plain": [
       "[-2, 7, 13, 1, 4, -5, 19, 10, 16]"
      ]
     },
     "execution_count": 9,
     "metadata": {},
     "output_type": "execute_result"
    }
   ],
   "source": [
    "random.shuffle(lst)\n",
    "lst"
   ]
  },
  {
   "cell_type": "markdown",
   "id": "62e01cab-af67-40dc-a737-d8672dce44fd",
   "metadata": {},
   "source": [
    "#### Let's implement `Merge Sort` algorithm to sort a list __(return a new list)__"
   ]
  },
  {
   "cell_type": "code",
   "execution_count": 10,
   "id": "03f8d832-60cd-4eaf-a12d-2c107093c734",
   "metadata": {},
   "outputs": [
    {
     "data": {
      "text/plain": [
       "[-5, -2, 1, 4, 7, 10, 13, 16, 19]"
      ]
     },
     "execution_count": 10,
     "metadata": {},
     "output_type": "execute_result"
    }
   ],
   "source": [
    "def merge_sort(list):\n",
    "    list_length = len(list)    # 1. Store the length of the list\n",
    "    if list_length == 1:       # 2. List with length less than is already sorted\n",
    "        return list\n",
    "    \n",
    "    mid_point = list_length // 2 # 3. Identify the list midpoint and partition the list into a left_part and a right_part\n",
    "    # 4. To ensure all partitions are broken down into their individual components,\n",
    "    # the merge_sort function is called and a partitioned portion of the list is passed as a parameter\n",
    "    left_part = merge_sort(list[:mid_point]) # 4. To ensure all partitions are broken down into their individual components,\n",
    "    right_part = merge_sort(list[mid_point:]) # the merge_sort function is called for both partitions\n",
    "    \n",
    "    return merge(left_part, right_part) # 5. merging sorted left and right partitions\n",
    "\n",
    "\n",
    "def merge(left, right): # 6. takes in two lists (partitions) and returns a sorted list made up of the content within the two lists\n",
    "    output = []         # 7. Initialize an empty list output that will be populated with sorted elements\n",
    "    i = j = 0           # Initialize two variables i and j which are used as pointers when iterating through the lists\n",
    "\n",
    "    while i < len(left) and j < len(right):  # 8. Executes the while loop if both pointers i and j are less than the length of the left and right lists\n",
    "        if left[i] < right[j]:      # 9. Compare the elements at every position of both lists during each iteration\n",
    "            output.append(left[i])  # output is populated with the lesser value\n",
    "            i += 1                  # 10. Move pointer to the right\n",
    "        else:\n",
    "            output.append(right[j])\n",
    "            j += 1\n",
    "    output.extend(left[i:]) # 11. The remnant elements are picked from the current pointer value to the end of the respective list\n",
    "    output.extend(right[j:])\n",
    "\n",
    "    return output\n",
    "\n",
    "merge_sort(lst)"
   ]
  },
  {
   "cell_type": "markdown",
   "id": "25269ddc-38ca-4dce-92c0-dc6156e9dd1b",
   "metadata": {},
   "source": [
    "#### Let's implement `Merge Sort` algorithm that sorts a list __in place__"
   ]
  },
  {
   "cell_type": "code",
   "execution_count": 11,
   "id": "069b537b-0ac8-446e-9e7c-bee11b527083",
   "metadata": {},
   "outputs": [
    {
     "data": {
      "text/plain": [
       "[-5, 7, 19, 4, 13, 10, -2, 16, 1]"
      ]
     },
     "execution_count": 11,
     "metadata": {},
     "output_type": "execute_result"
    }
   ],
   "source": [
    "random.shuffle(lst)\n",
    "lst"
   ]
  },
  {
   "cell_type": "code",
   "execution_count": 12,
   "id": "58207a8c-d513-499b-9d96-e03ff9283897",
   "metadata": {
    "pycharm": {
     "name": "#%%\n"
    },
    "tags": []
   },
   "outputs": [],
   "source": [
    "def swap(lst, i, j):\n",
    "    n = len(lst)\n",
    "    assert( i >= 0 and i < n)\n",
    "    assert( j >= 0 and j < n)\n",
    "    # We can use a simultaneous assignmment to swap\n",
    "    lst[i], lst[j] = lst[j], lst[i]\n",
    "    return \n",
    "\n",
    "def copy_back(output_lst, lst, left, right):\n",
    "    # Ensure that the output has the right length for us to copy back\n",
    "    assert(len(output_lst) == right - left + 1)\n",
    "    for i in range(left, right+1):\n",
    "        lst[i] = output_lst[i - left]\n",
    "    return \n",
    "    \n",
    "def mergeHelper(lst, left, mid, right):\n",
    "    # Perform a merge on sublists lst[left:mid+1] and lst[mid+1:right+1]\n",
    "    # This is the algorithm for merging with copying things back to the original list\n",
    "    if left > mid or mid > right:  # one of the two sublists is empty\n",
    "        return\n",
    "    i1 = left\n",
    "    i2 = mid + 1\n",
    "    output_lst = []\n",
    "    while (i1 <= mid or i2 <= right):\n",
    "        if (i1 <= mid and i2 <= right):\n",
    "            if lst[i1] <= lst[i2]:\n",
    "                output_lst.append(lst[i1])\n",
    "                i1 = i1 + 1\n",
    "            else:\n",
    "                output_lst.append(lst[i2])\n",
    "                i2 = i2 + 1\n",
    "        elif i1 <= mid:\n",
    "            output_lst.append(lst[i1])\n",
    "            i1 = i1 + 1\n",
    "        else:\n",
    "            output_lst.append(lst[i2])\n",
    "            i2 = i2 + 1\n",
    "    copy_back(output_lst, lst, left, right)\n",
    "    return \n",
    "    \n",
    "def mergesortHelper(lst, left, right):\n",
    "    if left == right: # Region to sort is just a singleton\n",
    "        return \n",
    "    elif (left + 1 == right): # region to sort has two elements\n",
    "        if (lst[left] > lst[right]): # compare \n",
    "            swap(lst, left, right)   # and swap if needed\n",
    "    else: \n",
    "        mid = (left + right ) // 2  # compute mid point\n",
    "        mergesortHelper(lst, left, mid) # Sort left half\n",
    "        mergesortHelper(lst, mid + 1 , right) # Sort right half\n",
    "        mergeHelper(lst, left, mid, right) # merge them together.\n",
    "        \n",
    "# Function mergesort\n",
    "#   Sort the list in place and modify it so that \n",
    "#   lst is sorted when the function returns.\n",
    "def mergesort(lst):\n",
    "    if len(lst) <= 1:\n",
    "        return # nothing to do\n",
    "    else:\n",
    "        mergesortHelper(lst, 0, len(lst)-1)\n",
    "\n",
    "mergesort(lst) "
   ]
  },
  {
   "cell_type": "code",
   "execution_count": 13,
   "id": "97ecf77d-7dc8-4f24-a5a9-a10dd4807ac3",
   "metadata": {
    "tags": []
   },
   "outputs": [
    {
     "data": {
      "text/plain": [
       "[-5, -2, 1, 4, 7, 10, 13, 16, 19]"
      ]
     },
     "execution_count": 13,
     "metadata": {},
     "output_type": "execute_result"
    }
   ],
   "source": [
    "lst"
   ]
  },
  {
   "cell_type": "markdown",
   "id": "cc74d90a-e6f8-4c5f-aa9b-119bd58e95a9",
   "metadata": {
    "tags": []
   },
   "source": [
    "## **`Heap Sort`**"
   ]
  },
  {
   "cell_type": "markdown",
   "id": "90a25861-0805-49bf-865a-b93257a23148",
   "metadata": {},
   "source": [
    "*Heap Sort is a sorting algorithm with $O(nlog(n))$ time complexity*"
   ]
  },
  {
   "cell_type": "markdown",
   "id": "021952a1-d1df-4860-bf41-becfacbba1f4",
   "metadata": {},
   "source": [
    "**`Heap sort`** is an algorithm based on a data structure that called a __`Heap`__."
   ]
  },
  {
   "cell_type": "markdown",
   "id": "40a0373a-ab24-4b7a-9c5e-21c3a2102e30",
   "metadata": {
    "pycharm": {
     "name": "#%% md\n"
    },
    "tags": []
   },
   "source": [
    "### Heap Data Structure\n",
    "*Heap - an array in which a heap property is implemented:*\n",
    "1. for MinHeap - A is an array, A[i] is a first element (root), then A[i] <= A[2i] (left child) and A[i] <= A[2i+1] (right child)\n",
    "2. for MaxHeap - A is an array, A[i] >= A[2i] and A[i] >= A[2i+1] <br>\n",
    "*A heap can be displayed as a tree*"
   ]
  },
  {
   "cell_type": "markdown",
   "id": "25015434-fade-4afd-a367-b1692131b6e2",
   "metadata": {},
   "source": [
    "We'll need to define some functions to convert a list into a Heap"
   ]
  },
  {
   "cell_type": "code",
   "execution_count": 14,
   "id": "704a500a-fa3c-4019-8685-07e46b545779",
   "metadata": {
    "pycharm": {
     "name": "#%%\n"
    },
    "tags": []
   },
   "outputs": [],
   "source": [
    "# if we append a new element into a heap, then we need to apply a bubble_up function to place this element in correct place\n",
    "def bubble_up(A, index):\n",
    "    if index == 0: \n",
    "        return A[index]\n",
    "    parent_index = index // 2\n",
    "    if A[parent_index] < A[index]:\n",
    "        return A[parent_index]\n",
    "    else:\n",
    "        A[parent_index], A[index] = A[index], A[parent_index]\n",
    "        return bubble_up(A, parent_index)\n",
    "    \n",
    "\n",
    "# we can use bubble_down function to turn an array into a heap\n",
    "def bubble_down(A, index):\n",
    "        lchild_index = 2 * (index) + 1\n",
    "        rchild_index = 2 * (index) + 2\n",
    "        lchild_value = A[lchild_index] if lchild_index < len(A) else float('inf')\n",
    "        rchild_value = A[rchild_index] if rchild_index < len(A) else float('inf')\n",
    "        if A[index] <= min(lchild_value, rchild_value):\n",
    "            return A\n",
    "        min_child_value, min_child_index = min((lchild_value, lchild_index), (rchild_value, rchild_index))\n",
    "        A[index], A[min_child_index] = A[min_child_index], A[index]\n",
    "        bubble_down(A, min_child_index)        \n",
    "\n",
    "        \n",
    "# Function: heap_insert\n",
    "# Insert element into a heap\n",
    "def insert(A, elt):\n",
    "    A.append(elt)        \n",
    "    index = len(A)-1\n",
    "    return bubble_up(A, index)        \n",
    "\n",
    "\n",
    "# Function: heap_delete_min\n",
    "# delete the smallest element in the heap - it is always a root (A[0])\n",
    "def delete_min(A):\n",
    "    if len(A) == 1:\n",
    "        A.pop()\n",
    "        return\n",
    "    else:\n",
    "        A[0], A[len(A)-1] = A[len(A)-1], A[0]\n",
    "        A.pop()\n",
    "        return bubble_down(A, 0)   \n",
    "    \n",
    "\n",
    "# Function heapify converts an array a into a minheap using bubble_down function\n",
    "def heapify(a):\n",
    "    n = len(a)\n",
    "    for i in range(n//2, -1, -1):\n",
    "        bubble_down(a, i)\n",
    "    return a  "
   ]
  },
  {
   "cell_type": "markdown",
   "id": "453044f2-7d46-41dd-8ae7-98eb7694ed59",
   "metadata": {},
   "source": [
    "#### ***`Heap sort`*** *is an algorithm that uses a `heap property`*"
   ]
  },
  {
   "cell_type": "markdown",
   "id": "b9b20b79-60ab-4ed0-8a0f-9717a7564fb1",
   "metadata": {
    "pycharm": {
     "name": "#%% md\n"
    },
    "tags": []
   },
   "source": [
    "<img src=\"pics/heap_sort.gif\" width = 600, height = 400, align = 'left' />"
   ]
  },
  {
   "cell_type": "code",
   "execution_count": 15,
   "id": "6696ffc0-4c50-44a6-9323-44a37dc0f9d7",
   "metadata": {},
   "outputs": [
    {
     "data": {
      "text/plain": [
       "[19, -5, 10, 16, 4, 7, 1, -2, 13]"
      ]
     },
     "execution_count": 15,
     "metadata": {},
     "output_type": "execute_result"
    }
   ],
   "source": [
    "random.shuffle(lst)\n",
    "lst"
   ]
  },
  {
   "cell_type": "markdown",
   "id": "f477a719-76ce-4f84-b2dd-5e29c8f04e7c",
   "metadata": {},
   "source": [
    "#### Let's implement __`Heap Sort`__ algorithm that sorts list __in place__ in ascending order\n",
    "1. Convert an array list into a heap\n",
    "2. Keep the first element, which is always the min as a root in MinHeap\n",
    "3. Heapify the rest of an array\n",
    "4. Repeat till the end of an array"
   ]
  },
  {
   "cell_type": "code",
   "execution_count": 16,
   "id": "9f89c75d-5b25-45d3-9577-c9c7ac22a394",
   "metadata": {},
   "outputs": [
    {
     "data": {
      "text/plain": [
       "[-5, -2, 1, 4, 7, 10, 13, 16, 19]"
      ]
     },
     "execution_count": 16,
     "metadata": {},
     "output_type": "execute_result"
    }
   ],
   "source": [
    "# Heap Sort in place\n",
    "# using MinHeap for ascending sorting\n",
    "def AscHeapSort(A):\n",
    "    heapify(A)\n",
    "    n = len(A)-1\n",
    "    for i in range(0, n):\n",
    "        A[i:n+1] = heapify(A[i:n+1])\n",
    "    return A \n",
    "\n",
    "AscHeapSort(lst)"
   ]
  },
  {
   "cell_type": "markdown",
   "id": "10c4412d-0b2f-4592-a9fe-17bd78ca817b",
   "metadata": {},
   "source": [
    "#### Let's implement __`Heap Sort`__ algorithm that sorts list __in place__ in descending order\n",
    "1. Convert a list into a heap\n",
    "2. Take the root element from the heap which is always a min element of the heap and swap it with the last element of a list\n",
    "3. Reduce the length of an array\n",
    "4. Heapify the rest of the array\n",
    "4. Repeat till the end of an array"
   ]
  },
  {
   "cell_type": "code",
   "execution_count": 17,
   "id": "114720cd-63a6-475b-b714-143af77c9755",
   "metadata": {},
   "outputs": [
    {
     "data": {
      "text/plain": [
       "[19, 16, 13, 10, 7, 4, 1, -2, -5]"
      ]
     },
     "execution_count": 17,
     "metadata": {},
     "output_type": "execute_result"
    }
   ],
   "source": [
    "# Heap Sort in place\n",
    "# using MinHeap for descending sorting\n",
    "def HeapSort(A):\n",
    "    heapify(A)\n",
    "    n = len(A)-1\n",
    "    for i in range(0, n):\n",
    "        A[0], A[n] = A[n], A[0]\n",
    "        n -= 1\n",
    "        A[0:n+1] = heapify(A[0:n+1])\n",
    "    return A \n",
    "\n",
    "HeapSort(lst)"
   ]
  },
  {
   "cell_type": "markdown",
   "id": "4f7e4571-1c8c-4839-ab20-b4cd63fabad9",
   "metadata": {},
   "source": [
    "#### Let's implement `Heap Sort` algorithm that sorts list __not in place__ in ascending order\n",
    "1. Convert a list into a heap\n",
    "2. Take the first element and append it to a result list\n",
    "3. Delete this element from a heap (delete_min function includes bubble_down)\n",
    "4. Repeat till the end of an array"
   ]
  },
  {
   "cell_type": "code",
   "execution_count": 18,
   "id": "b2542aa0-29b6-4396-87be-e4d00fe33e9f",
   "metadata": {},
   "outputs": [
    {
     "data": {
      "text/plain": [
       "[13, 19, 7, 16, -5, -2, 1, 10, 4]"
      ]
     },
     "execution_count": 18,
     "metadata": {},
     "output_type": "execute_result"
    }
   ],
   "source": [
    "random.shuffle(lst)\n",
    "lst"
   ]
  },
  {
   "cell_type": "code",
   "execution_count": 19,
   "id": "694226c2-d780-4d5e-b0d0-5f260e7ce700",
   "metadata": {
    "pycharm": {
     "name": "#%%\n"
    },
    "tags": []
   },
   "outputs": [
    {
     "data": {
      "text/plain": [
       "[-5, -2, 1, 4, 7, 10, 13, 16, 19]"
      ]
     },
     "execution_count": 19,
     "metadata": {},
     "output_type": "execute_result"
    }
   ],
   "source": [
    "# Heap Sort NOT in place\n",
    "# using MinHeap for ascending sorting\n",
    "def HeapSort_new_array(A):\n",
    "    heapify(A)\n",
    "    result = []\n",
    "    n = len(A)-1\n",
    "    for i in range(0, n + 1):\n",
    "        result.append(A[0])\n",
    "        delete_min(A)\n",
    "    return result \n",
    "\n",
    "HeapSort_new_array(lst)"
   ]
  },
  {
   "cell_type": "markdown",
   "id": "ec5939d1-0838-4a0a-bff2-e9b6b6a28ef6",
   "metadata": {
    "tags": []
   },
   "source": [
    "## **`Quick Sort`**"
   ]
  },
  {
   "cell_type": "markdown",
   "id": "8e40c460-b553-4d38-926f-bdadf7c408f3",
   "metadata": {},
   "source": [
    "*Quick Sort is a fast sorting algorithm with average $O(nlog(n))$ time complexity, but with $O(n^2)$ in worst case. Unlike Merge Sort a Quick Sort algorithm sorts a list in place using no extra memory*"
   ]
  },
  {
   "cell_type": "markdown",
   "id": "21469aa5-3db8-41af-86a5-324084c969b3",
   "metadata": {},
   "source": [
    "**`Quick sort`** is an algorithm based `partitioning`"
   ]
  },
  {
   "cell_type": "markdown",
   "id": "45280370-94a2-49f7-8127-0f9061d1f9d3",
   "metadata": {
    "pycharm": {
     "name": "#%% md\n"
    }
   },
   "source": [
    "<img src=\"pics/quick_sort.gif\" width = 600, height = 400, align = 'left' />"
   ]
  },
  {
   "cell_type": "markdown",
   "id": "70c21c0f-5071-46b5-a2a1-f70b6418d43b",
   "metadata": {},
   "source": [
    "1. Partition: rearrange an array $A[p ... r]$ into two (possibly empty) subarrays $A[p ... q - 1]$ and $A[q + 1 ... r]$ such that each element of $A[p ... q - 1]$ is less than or equal to $A[q]$, which is, in turn, less than or equal to each element of $A[q + 1 ... r]$. Compute the index $q$ as part of this partitioning procedure\n",
    "2. Recursively partition the two subarrays $A[p ... q - 1]$ and $A[q + 1 ... r]$ calling to quicksort. \n",
    "3. Combine: Because the subarrays are already sorted, no work is needed to combine them: the entire array $A[p ... r]$ is now sorted."
   ]
  },
  {
   "cell_type": "markdown",
   "id": "d7a29bcc-5619-49e0-a14d-6c617cc9596e",
   "metadata": {
    "pycharm": {
     "name": "#%% md\n"
    },
    "tags": []
   },
   "source": [
    "##### ***Partitioning:***\n",
    "1. Select the pivot (can be any element, but on default it is the last element of an array)\n",
    "2. Determine the i-index to (p-1) or simply (-1) - a pre-first element - it will be an endpoint of the first region (elements which are less than pivot)\n",
    "3. Create a loop starting from the first element to r - 1 (up to the one before the pivot)\n",
    "4. In the loop: if an element is less than the pivot, we increment index i (it goes to the first element of the second region) and swap this element with $A[i]$, so that $A[i]$ is now the last element in the region 1 which less than pivot. If an element is larger than the pivot, we don't touch i and this element and simply go to the next element in the loop\n",
    "5. After the loop we swap $A[i+1]$ element (which is the first element that is bigger than pivot) with the pivot. \n",
    "5. Now the pivot stands in its correct place - there are lower elements on the left and bigger elements on the right "
   ]
  },
  {
   "cell_type": "raw",
   "id": "460c455b-fc39-434f-8236-4e81e2d6d72e",
   "metadata": {
    "pycharm": {
     "name": "#%% raw\n"
    },
    "tags": []
   },
   "source": [
    "# Pseudocode of the Quicksort\n",
    "QUICKSORT (A, p, r) # initially it is (A, 0, len(A)-1)\n",
    "1 if p < r\n",
    "2      q = PARTITION (A, p, r)\n",
    "3      QUICKSORT (A, p, q - 1)\n",
    "4      QUICKSORT (A, q + 1, r)"
   ]
  },
  {
   "cell_type": "raw",
   "id": "2f534c15-a000-48b4-846c-227ac384099d",
   "metadata": {
    "pycharm": {
     "name": "#%% raw\n"
    },
    "tags": []
   },
   "source": [
    "# Pseudocode of the Partition step\n",
    "PARTITION (A, p, r)\n",
    "1  x = A[r]\n",
    "2  i = p - 1\n",
    "3  for j = p to r - 1\n",
    "4      if A[j] ≤ x\n",
    "5          i = i + 1\n",
    "6          swap(A[i], A[j])\n",
    "7  swap(A[i + 1], A[r])\n",
    "8  return i + 1"
   ]
  },
  {
   "cell_type": "code",
   "execution_count": 20,
   "id": "bb12a002-d8e6-41fe-beba-3cd648c031fe",
   "metadata": {},
   "outputs": [
    {
     "data": {
      "text/plain": [
       "[4, -5, 19, 1, 16, 13, 7, 10, -2]"
      ]
     },
     "execution_count": 20,
     "metadata": {},
     "output_type": "execute_result"
    }
   ],
   "source": [
    "lst = list(range(-5, 22, 3))\n",
    "random.shuffle(lst)\n",
    "lst"
   ]
  },
  {
   "cell_type": "markdown",
   "id": "9f63e5b5-68e1-4ad2-af9e-bfc345b5019d",
   "metadata": {},
   "source": [
    "#### Let's implement a `Quick Sort` algorithm that sorts a list in ascending order __in place__\n",
    "1. Partiotion step:\n",
    "    - determine a pivot as a last element of an array\n",
    "    - determine i-index as a pre-first index (p-1)\n",
    "    - run a partitioning\n",
    "2. Recorsively call a Quicksort for all partiotions"
   ]
  },
  {
   "cell_type": "code",
   "execution_count": 21,
   "id": "a078c456-ceea-4264-8892-2fa7eafd1442",
   "metadata": {
    "pycharm": {
     "name": "#%%\n"
    }
   },
   "outputs": [],
   "source": [
    "# Quicksort algorithm\n",
    "def Partition(A, p, r):\n",
    "    x = A[r]\n",
    "    i = p - 1\n",
    "    for j in range (p, r):\n",
    "        if A[j] <= x:\n",
    "            i += 1\n",
    "            A[i], A[j] = A[j], A[i]\n",
    "    A[i + 1], A[r] = A[r], A[i + 1]\n",
    "    return i + 1\n",
    "\n",
    "def Quicksort(A, p, r):\n",
    "    if p < r:\n",
    "        q = Partition(A, p, r)\n",
    "        Quicksort(A, p, q - 1)\n",
    "        Quicksort(A, q + 1, r)"
   ]
  },
  {
   "cell_type": "code",
   "execution_count": 22,
   "id": "c63decad-1319-4092-881e-626a99c9b99a",
   "metadata": {},
   "outputs": [
    {
     "data": {
      "text/plain": [
       "[-5, -2, 1, 4, 7, 10, 13, 16, 19]"
      ]
     },
     "execution_count": 22,
     "metadata": {},
     "output_type": "execute_result"
    }
   ],
   "source": [
    "Quicksort(lst, 0, len(lst)-1)\n",
    "lst"
   ]
  },
  {
   "cell_type": "markdown",
   "id": "6d901cec-c738-42b7-b6b3-a2ded5c2ce8c",
   "metadata": {},
   "source": [
    "#### Simple implementation of `Quick Sort` that creates a new sorted list"
   ]
  },
  {
   "cell_type": "code",
   "execution_count": 23,
   "id": "0c0387e5-3b36-47b6-ae68-554af4bf8fe7",
   "metadata": {},
   "outputs": [],
   "source": [
    "def SimpleQuickSort(sequence):\n",
    "    if len(sequence) <= 1:\n",
    "        return sequence\n",
    "    else:\n",
    "        pivot = sequence.pop()\n",
    "    \n",
    "    items_lower = []\n",
    "    items_greater = []\n",
    "    \n",
    "    for item in sequence:\n",
    "        if item > pivot:\n",
    "            items_greater.append(item)\n",
    "        else:\n",
    "            items_lower.append(item)\n",
    "        \n",
    "    return SimpleQuickSort(items_lower) + [pivot] + SimpleQuickSort(items_greater)            "
   ]
  },
  {
   "cell_type": "code",
   "execution_count": 24,
   "id": "05395a71-55e8-4552-a379-b16455873f32",
   "metadata": {},
   "outputs": [],
   "source": [
    "lst = list(range(-5, 22, 3))\n",
    "random.shuffle(lst)"
   ]
  },
  {
   "cell_type": "code",
   "execution_count": 25,
   "id": "e5532f5d-e7da-413a-8bff-223858fd96b2",
   "metadata": {},
   "outputs": [
    {
     "data": {
      "text/plain": [
       "[-5, -2, 1, 4, 7, 10, 13, 16, 19]"
      ]
     },
     "execution_count": 25,
     "metadata": {},
     "output_type": "execute_result"
    }
   ],
   "source": [
    "SimpleQuickSort(lst)"
   ]
  },
  {
   "cell_type": "markdown",
   "id": "8649c898-77d6-4546-9d42-18d3605ad4ca",
   "metadata": {
    "pycharm": {
     "name": "#%% md\n"
    },
    "tags": []
   },
   "source": [
    "#### *The working time depends on the pivot chosen in the partition step. If the pivot divides an array into 2 unbalanced parts (0 elts and n-1 elts), then the algorithm run asymptotically as slowly as insertion sort. The best case is when the pivot is close or equal to median of the array, then it runs as fast as Merge Sort*"
   ]
  }
 ],
 "metadata": {
  "kernelspec": {
   "display_name": "Python 3 (ipykernel)",
   "language": "python",
   "name": "python3"
  },
  "language_info": {
   "codemirror_mode": {
    "name": "ipython",
    "version": 3
   },
   "file_extension": ".py",
   "mimetype": "text/x-python",
   "name": "python",
   "nbconvert_exporter": "python",
   "pygments_lexer": "ipython3",
   "version": "3.9.12"
  }
 },
 "nbformat": 4,
 "nbformat_minor": 5
}
