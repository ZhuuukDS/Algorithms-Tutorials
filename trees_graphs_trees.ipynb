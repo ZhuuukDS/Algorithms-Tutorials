{
 "cells": [
  {
   "cell_type": "markdown",
   "id": "c145ffbf-66d7-485a-a73b-ac18282ebcde",
   "metadata": {
    "pycharm": {
     "name": "#%% md\n"
    },
    "tags": []
   },
   "source": [
    "# **Trees and graphs**\n",
    "______________________________"
   ]
  },
  {
   "cell_type": "markdown",
   "id": "551385f7-3dba-40f3-ad6e-6ff38466ae62",
   "metadata": {},
   "source": [
    "# Binary Search Trees and Algorithms on Trees"
   ]
  },
  {
   "cell_type": "markdown",
   "id": "d768fef9-0941-40f0-b39f-1e4c859195db",
   "metadata": {},
   "source": [
    "## Contents:\n",
    "- [Binary Search Trees](#Binary-Search-Trees)\n",
    "    - [BST traversals](#BST-traversals)\n",
    "    - [BST implementation](#Implement-a-BST)\n",
    "    - [Problems](#Problems)\n",
    "- [Red-Black Binary Search Trees](#Red-Black-Binary-Search-Trees)\n",
    "- [Skip Lists](#Skip-Lists)"
   ]
  },
  {
   "cell_type": "markdown",
   "id": "a747247a-2548-4f43-b995-2647eaeef865",
   "metadata": {},
   "source": [
    "___________\n",
    "##  Binary Search Trees\n",
    "\n",
    "***It is a tree data structure which stores a collection and it keeps the main properties:***\n",
    " - elements can not repeat in collection (set-based collections)\n",
    " - each element (node) has a key, which is always a number\n",
    " - every node of a tree has two children\n",
    " - NILs have no children and no keys\n",
    " - `a key of the left child is less than its parent's key and a right child's key is greater than a parent's key`\n",
    " - performance of a tree depends on a height\n",
    " - height of a BST - longest path from a root to a NIL (not incl. root, but incl. NIL)\n",
    "\n",
    "$$ height(NIL) = 0 $$\n",
    "$$ height(n) = max[height(n.left), height(n.right)] + 1 $$"
   ]
  },
  {
   "cell_type": "markdown",
   "id": "9ba10f02-9da7-4192-8776-b6cfabcc95d0",
   "metadata": {
    "pycharm": {
     "name": "#%% md\n"
    }
   },
   "source": [
    "<img src = 'pics/Binary-Search-Tree.png' width = 500>"
   ]
  },
  {
   "cell_type": "markdown",
   "id": "a97bde8e-5b9a-4253-94ac-80c24fd5692d",
   "metadata": {},
   "source": [
    "### BST traversals\n",
    "Visitor patterns $ \\Theta (n) $ :\n",
    "- Inorder traversal - first visit ***left*** child, then ***node*** itself and then its ***right*** child "
   ]
  },
  {
   "cell_type": "code",
   "execution_count": 1,
   "id": "f880544f-9ac0-4198-b56a-54fa7b0bdba8",
   "metadata": {},
   "outputs": [],
   "source": [
    "def inorder(Node):\n",
    "    if Node != None:\n",
    "        inorder(Node.left)\n",
    "        print(Node.key)\n",
    "        inorder(Node.right)"
   ]
  },
  {
   "cell_type": "markdown",
   "id": "fa1e1f73-5a7d-45b5-8a77-fb0b86fec99e",
   "metadata": {},
   "source": [
    "`In this case Nodes are printed in sorted order`"
   ]
  },
  {
   "cell_type": "markdown",
   "id": "631d7013-fa29-42fd-b98e-b70ca3f25813",
   "metadata": {},
   "source": [
    "- Preorder traversal - first visit ***Node***, then ***left*** child and then ***right*** child"
   ]
  },
  {
   "cell_type": "code",
   "execution_count": 2,
   "id": "d8377c6a-1471-4701-9d41-08f9377df34a",
   "metadata": {},
   "outputs": [],
   "source": [
    "def preoder(Node):\n",
    "    if Node != None:\n",
    "        print(Node.key)\n",
    "        preorder(Node.left)\n",
    "        preorder(Node.right)    "
   ]
  },
  {
   "cell_type": "markdown",
   "id": "283a7629-f827-459f-8f06-eb79e2c5a2e5",
   "metadata": {},
   "source": [
    "- Postorder traversal - first visit ***left*** child, then ***right*** child and then ***Node*** itself"
   ]
  },
  {
   "cell_type": "code",
   "execution_count": 3,
   "id": "1c3ca8b5-0231-4308-b99a-de5e5d23715a",
   "metadata": {},
   "outputs": [],
   "source": [
    "def postoder(Node):\n",
    "    if Node != None:\n",
    "        postorder(Node.left)\n",
    "        postorder(Node.right)\n",
    "        print(Node.key)"
   ]
  },
  {
   "cell_type": "markdown",
   "id": "35fe418a-1498-4ba5-bf13-3ca184bb8734",
   "metadata": {
    "pycharm": {
     "name": "#%% md\n"
    },
    "tags": []
   },
   "source": [
    "### Implement a BST\n",
    "\n",
    "<u>Operations:</u>\n",
    "\n",
    "1. create a node \n",
    "2. find a node\n",
    "3. insert a node\n",
    "4. delete a node\n",
    "5. compute a height\n"
   ]
  },
  {
   "cell_type": "code",
   "execution_count": 4,
   "id": "3da5f8f9-09f6-4ba0-8da0-4b24f6ac9f47",
   "metadata": {
    "pycharm": {
     "name": "#%%\n"
    },
    "tags": []
   },
   "outputs": [],
   "source": [
    "class Node: \n",
    "    # Implement a node of the binary search tree.\n",
    "    # Constructor for a node with key and a given parent\n",
    "    # Parent can be None for a root node.\n",
    "    def __init__(self, key, parent = None): \n",
    "        self.key = key\n",
    "        self.parent = parent \n",
    "        self.left = None # We will set left and right child to None\n",
    "        self.right = None\n",
    "        # Make sure that the parent's left/right pointer\n",
    "        # will point to the newly created node.\n",
    "        if parent != None:\n",
    "            if key < parent.key:\n",
    "                assert(parent.left == None), 'parent already has a left child -- unable to create node'\n",
    "                parent.left = self\n",
    "            else: \n",
    "                assert key > parent.key, 'key is same as parent.key. We do not allow duplicate keys in a BST since it breaks some of the algorithms.'\n",
    "                assert(parent.right == None ), 'parent already has a right child -- unable to create node'\n",
    "                parent.right = self\n",
    "        \n",
    "    # Utility function that keeps traversing left until it finds \n",
    "    # the leftmost descendant\n",
    "    def get_leftmost_descendant(self):\n",
    "        if self.left != None:\n",
    "            return self.left.get_leftmost_descendant()\n",
    "        else:\n",
    "            return self\n",
    "    \n",
    "    # The search algorithm\n",
    "    # Calling search recursively on left or right child.\n",
    "    # If search succeeds: \n",
    "    # returning a tuple True and the node in the tree with the key we are searching for.\n",
    "    # If the search fails to find the key: \n",
    "    # returning a tuple False and the node which would be the parent if we were to insert the key subsequently.\n",
    "    def search(self, key):\n",
    "        if self.key == key: \n",
    "            return (True, self)\n",
    "        else:\n",
    "            if self.key == key:\n",
    "                return (True, self)\n",
    "            elif self.key > key:\n",
    "                # check left child\n",
    "                if self.left == None:\n",
    "                    return (False, self)\n",
    "                else:\n",
    "                    return self.left.search(key)\n",
    "            else:\n",
    "                # check right child\n",
    "                if self.right == None:\n",
    "                    return (False, self)\n",
    "                else:\n",
    "                    return self.right.search(key)        \n",
    "    \n",
    "    # The insert algorithm\n",
    "    # To insert first searching for it and find out\n",
    "    # the parent whose child the currently inserted key will be.\n",
    "    # Then creating a new node with that key and insert.\n",
    "    # Returning None if key already exists in the tree.\n",
    "    # Returning the new node corresponding to the inserted key otherwise.\n",
    "    def insert(self, key):\n",
    "        (b, p) = self.search(key)\n",
    "        if b:\n",
    "            return None\n",
    "        else:\n",
    "            return Node(key, parent=p)\n",
    "        \n",
    "    # An algorithm to compute height of the tree.\n",
    "    # height of a node whose children are both None is defined to be 1.\n",
    "    # height of any other node is 1 + maximum of the height of its children.\n",
    "    # Returning a number that is the height.\n",
    "    def height(self):\n",
    "        if self.left is None and self.right is None:\n",
    "            return 1\n",
    "        else:\n",
    "            l, r = 1, 1\n",
    "            if self.left is not None:\n",
    "                l += self.left.height()\n",
    "            if self.right is not None:\n",
    "                r += self.right.height()\n",
    "        return max(l, r)        \n",
    "    \n",
    "    # An algorithm to delete a key in the tree.\n",
    "    # First, finding the node in the tree with the key.\n",
    "    # Case 1: both children of the node are None\n",
    "    #   -- in this case, deletion is easy: simply find out if the node with key is its\n",
    "    #      parent's left/right child and set the corr. child to None in the parent node.\n",
    "    # Case 2: one of the child is None and the other is not.\n",
    "    #   -- replace the node with its only child. In other words,\n",
    "    #      modify the parent of the child to be the to be deleted node's parent.\n",
    "    #      also change the parent's left/right child appropriately.\n",
    "    # Case 3: both children of the parent are not None.\n",
    "    #    -- first find its successor (go one step right and all the way to the left).\n",
    "    #    -- function get_leftmost_descendant may be helpful here.\n",
    "    #    -- replace the key of the node by its successor.\n",
    "    #    -- delete the successor node.\n",
    "    # return: no return value specified\n",
    "    \n",
    "    def delete(self, key):\n",
    "        (found, node_to_delete) = self.search(key)\n",
    "        assert(found == True), f\"key to be deleted:{key}- does not exist in the tree\"\n",
    "        # 1\n",
    "        if node_to_delete.left == None and node_to_delete.right == None:\n",
    "            if node_to_delete == node_to_delete.parent.left:\n",
    "                node_to_delete.parent.left = None\n",
    "            elif node_to_delete == node_to_delete.parent.right:\n",
    "                node_to_delete.parent.right == None\n",
    "        # 2.1        \n",
    "        elif node_to_delete.left != None and node_to_delete.right == None:\n",
    "            node_to_delete.left.parent = node_to_delete.parent\n",
    "            if node_to_delete == node_to_delete.parent.left:\n",
    "                node_to_delete.parent.left = node_to_delete.right\n",
    "            elif node_to_delete == node_to_delete.parent.right:\n",
    "                node_to_delete.parent.right = node_to_delete.left\n",
    "        # 2.2\n",
    "        elif node_to_delete.right != None and node_to_delete.left == None:\n",
    "            node_to_delete.right.parent = node_to_delete.parent\n",
    "            if node_to_delete == node_to_delete.parent.left:\n",
    "                node_to_delete.parent.left = node_to_delete.right\n",
    "            elif node_to_delete == node_to_delete.parent.right:\n",
    "                node_to_delete.parent.right = node_to_delete.left\n",
    "        # 3\n",
    "        elif node_to_delete.left != None and node_to_delete.right != None:\n",
    "            suc = node_to_delete.right.get_leftmost_descendant()\n",
    "            node_to_delete.key = suc.key\n",
    "            suc.parent.left = None"
   ]
  },
  {
   "cell_type": "code",
   "execution_count": 5,
   "id": "d0052ca6-f1e5-4d48-a93e-363d5e5cd521",
   "metadata": {},
   "outputs": [
    {
     "name": "stdout",
     "output_type": "stream",
     "text": [
      "-- Testing basic node construction (originally provided code) -- \n",
      "-- Testing search -- \n",
      "-- Testing insert -- \n",
      "-- Testing height -- \n",
      "Success!\n"
     ]
    }
   ],
   "source": [
    "# Testing\n",
    "t1 = Node(25, None)\n",
    "t2 = Node(12, t1)\n",
    "t3 = Node(18, t2)\n",
    "t4 = Node(40, t1)\n",
    "\n",
    "print('-- Testing basic node construction (originally provided code) -- ')\n",
    "assert(t1.left == t2), 'test 1 failed'\n",
    "assert(t2.parent == t1),  'test 2 failed'\n",
    "assert(t2.right == t3), 'test 3 failed'\n",
    "assert (t3.parent == t2), 'test 4 failed'\n",
    "assert(t1.right == t4), 'test 5 failed'\n",
    "assert(t4.left == None), 'test 6 failed'\n",
    "assert(t4.right == None), 'test 7 failed'\n",
    "# The tree should be : \n",
    "#             25\n",
    "#             /\\\n",
    "#         12     40\n",
    "#         /\\\n",
    "#     None  18\n",
    "#\n",
    "\n",
    "print('-- Testing search -- ')\n",
    "(b, found_node) = t1.search(18)\n",
    "assert b and found_node.key == 18, 'test 8 failed'\n",
    "(b, found_node) = t1.search(25)\n",
    "assert b and found_node.key == 25, 'test 9 failed -- you should find the node with key 25 which is the root'\n",
    "(b, found_node) = t1.search(26)\n",
    "assert(not b), 'test 10 failed'\n",
    "assert(found_node.key == 40), 'test 11 failed -- you should be returning the leaf node which would be the parent to the node you failed to find if it were to be inserted in the tree.'\n",
    "\n",
    "print('-- Testing insert -- ')\n",
    "ins_node = t1.insert(26)\n",
    "assert ins_node.key == 26, ' test 12 failed '\n",
    "assert ins_node.parent == t4,  ' test 13 failed '\n",
    "assert t4.left == ins_node,  ' test 14 failed '\n",
    "\n",
    "ins_node2 = t1.insert(33)\n",
    "assert ins_node2.key == 33, 'test 15 failed'\n",
    "assert ins_node2.parent == ins_node, 'test 16 failed'\n",
    "assert ins_node.right == ins_node2, 'test 17 failed'\n",
    "\n",
    "print('-- Testing height -- ')\n",
    "\n",
    "assert t1.height() == 4, 'test 18 failed'\n",
    "assert t4.height() == 3, 'test 19 failed'\n",
    "assert t2.height() == 2, 'test 20 failed'\n",
    "\n",
    "print('Success!')"
   ]
  },
  {
   "cell_type": "code",
   "execution_count": 6,
   "id": "c1e2536d-8e62-4391-9bde-76b04201ee4f",
   "metadata": {},
   "outputs": [
    {
     "name": "stdout",
     "output_type": "stream",
     "text": [
      "-- All tests passed!--\n"
     ]
    }
   ],
   "source": [
    "# Testing deletion\n",
    "t1 = Node(16, None)\n",
    "# insert the nodes in the list\n",
    "lst = [18,25,10, 14, 8, 22, 17, 12]\n",
    "for elt in lst:\n",
    "    t1.insert(elt)\n",
    "\n",
    "# The tree should look like this\n",
    "#               16\n",
    "#            /     \\\n",
    "#          10      18\n",
    "#        /  \\     /  \\\n",
    "#       8   14   17  25\n",
    "#          /         /  \n",
    "#         12        22\n",
    "\n",
    "\n",
    "# Let us test the three deletion cases.\n",
    "# case 1 let's delete node 8\n",
    "# node 8 does not have left or right children.\n",
    "t1.delete(8) # should have both children nil.\n",
    "(b8,n8) = t1.search(8)\n",
    "assert not b8, 'Test A: deletion fails to delete node.'\n",
    "(b,n) = t1.search(10)\n",
    "assert( b) , 'Test B failed: search does not work'\n",
    "assert n.left == None, 'Test C failed: Node 8 was not properly deleted.'\n",
    "\n",
    "# Let us test deleting the node 14 whose right child is none.\n",
    "# n is still pointing to the node 10 after deleting 8.\n",
    "# let us ensure that it's right child is 14\n",
    "assert n.right != None, 'Test D failed: node 10 should have right child 14'\n",
    "assert n.right.key == 14, 'Test E failed: node 10 should have right child 14'\n",
    "\n",
    "# Let's delete node 14\n",
    "t1.delete(14)\n",
    "(b14, n14) = t1.search(14)\n",
    "assert not b14, 'Test F: Deletion of node 14 failed -- it still exists in the tree.'\n",
    "(b,n) = t1.search(10)\n",
    "assert n.right != None , 'Test G failed: deletion of node 14 not handled correctly'\n",
    "assert n.right.key == 12, f'Test H failed: deletion of node 14 not handled correctly: {n.right.key}'\n",
    "\n",
    "# Let's delete node 18 in the tree. \n",
    "# It should be replaced by 22.\n",
    "\n",
    "t1.delete(18)\n",
    "(b18, n18) = t1.search(18)\n",
    "assert not b18, 'Test I: Deletion of node 18 failed'\n",
    "assert t1.right.key == 22 , ' Test J: Replacement of node with successor failed.'\n",
    "assert t1.right.right.left == None, ' Test K: replacement of node with successor failed -- you did not delete the successor leaf properly?'\n",
    "\n",
    "print('-- All tests passed!--')"
   ]
  },
  {
   "cell_type": "markdown",
   "id": "723ee37b-40d9-47c1-82be-25e201230721",
   "metadata": {
    "jp-MarkdownHeadingCollapsed": true,
    "tags": []
   },
   "source": [
    "### Problems"
   ]
  },
  {
   "cell_type": "markdown",
   "id": "a18a3656-4369-4c01-9dd1-7024d1722148",
   "metadata": {},
   "source": [
    "#### Problem 1\n",
    "\n",
    "In this problem, you are given a binary search tree whose keys are numbers. We would like to convert it to a list of all nodes with keys at depth 1 (root), depth 2 (children of root), and so on. At each depth, the keys must appear from left to right.\n",
    "\n",
    "The example below will clarify the problem.\n",
    "\n",
    "**Example:**\n",
    "\n",
    "Consider the BST below as input:\n",
    "<img src=\"pics/tree1.png\" width=\"40%\"/>\n",
    "\n",
    "You will need to output the list\n",
    "~~~\n",
    "[11, 4, 18, 15, 21, 13, 17]\n",
    "~~~\n",
    "\n",
    "The algorithm should work in time that is linear in the number of nodes of the tree.\n",
    "\n",
    "For convenience, there's a binary search tree data structure `class TreeNode` with functions for insertion. "
   ]
  },
  {
   "cell_type": "code",
   "execution_count": 7,
   "id": "041caa5a-f761-4f6c-999a-20a6724d1df1",
   "metadata": {},
   "outputs": [],
   "source": [
    "class TreeNode:\n",
    "    # Constructor for tree nodde\n",
    "    def __init__(self, key, parent_node=None):\n",
    "        self.key = key # set the key\n",
    "        self.parent = parent_node # set the parent_node\n",
    "        self.left = None # set the left child to None -- no left child to begin with\n",
    "        self.right = None # set the right child to None - no right child to begin with.\n",
    "    \n",
    "    def is_root(self):\n",
    "        return parent_node == None\n",
    "    \n",
    "    # Function: insert\n",
    "    # insert a node with key `new_key` into the current tree.\n",
    "    def insert(self, new_key):\n",
    "        key = self.key \n",
    "        if new_key == key:\n",
    "            print(f'Already inserted key {key}. Ignoring')\n",
    "        elif new_key < key: # new_key must go into the left subtree\n",
    "            if self.left == None: # no left child?\n",
    "                new_node = TreeNode(new_key, self) # create one with self as parent\n",
    "                self.left = new_node # set the left pointer\n",
    "            else:\n",
    "                self.left.insert(new_key) # recursively call insert on left subtree\n",
    "        else:  # new_key must go into the right subtree.\n",
    "            assert new_key > key\n",
    "            if self.right == None: # no right child?\n",
    "                new_node = TreeNode(new_key, self) # create one\n",
    "                self.right = new_node\n",
    "            else: \n",
    "                self.right.insert(new_key) # recusively call insert on right subtree.\n",
    "\n",
    "\n",
    "def depthWiseTraverse(root_node):\n",
    "    Q = [root_node]\n",
    "    ans = [root_node.key]\n",
    "    while len(Q) != 0:\n",
    "        u = Q.pop(0)\n",
    "        for v in (u.left, u.right):\n",
    "            if v is not None and v.key not in ans:\n",
    "                ans.append(v.key)\n",
    "                Q.append(v)\n",
    "    return ans"
   ]
  },
  {
   "cell_type": "code",
   "execution_count": 8,
   "id": "a0651800-b310-4bc4-b146-83c4159b6b1d",
   "metadata": {},
   "outputs": [
    {
     "name": "stdout",
     "output_type": "stream",
     "text": [
      "-- Test 1 --\n",
      "[11, 4, 18, 15, 21, 13, 17]\n",
      "-- Test 2 --\n",
      "[3, 1, 4, 2, 6, 7]\n",
      "-- Test 3 --\n",
      "[7, 3, 15, 1, 4, 8, 2, 6, 11, 10, 9]\n",
      "All tests passed!\n"
     ]
    }
   ],
   "source": [
    "def make_tree(insertion_list):\n",
    "    assert len(insertion_list) > 0\n",
    "    root_node = TreeNode(insertion_list[0])\n",
    "    for elt in insertion_list[1:]:\n",
    "        root_node.insert(elt)\n",
    "    return root_node\n",
    "\n",
    "print('-- Test 1 --')\n",
    "# Same as the example above\n",
    "tree1 = make_tree([11, 18, 15,  13, 21, 17, 4])\n",
    "lst1 = depthWiseTraverse(tree1)\n",
    "print(lst1)\n",
    "assert lst1 == [11, 4, 18, 15, 21, 13, 17]\n",
    "\n",
    "print('-- Test 2 --')\n",
    "\n",
    "tree2 = make_tree([3, 1, 2, 4, 6, 7])\n",
    "lst2 = depthWiseTraverse(tree2)\n",
    "print(lst2)\n",
    "assert lst2 == [3, 1, 4, 2, 6, 7]\n",
    "\n",
    "print('-- Test 3 --')\n",
    "tree3 = make_tree([7, 3, 1, 2, 4, 6, 15, 8, 11, 10, 9])\n",
    "lst3 = depthWiseTraverse(tree3)\n",
    "print(lst3)\n",
    "assert lst3 == [7, 3, 15, 1, 4, 8, 2, 6, 11, 10, 9]\n",
    "\n",
    "print('All tests passed!')"
   ]
  },
  {
   "cell_type": "markdown",
   "id": "3e083e18-47f6-47b6-93a9-c4da5d450d8e",
   "metadata": {},
   "source": [
    "#### Problem 2\n",
    "\n",
    "Once again consider a binary search tree (BST) whose keys are numbers. Given such a BST, we are asked to compute the sum along each branch from root to a leaf node starting with the leftmost branch and moving on to the rightmost.\n",
    "  - For the purposes of this problem a leaf node is defined as having neither a left child nor a right child.\n",
    "\n",
    "The example below will clarify the problem.\n",
    "\n",
    "__Example__\n",
    "\n",
    "Consider the BST below as input:\n",
    "<img src=\"pics/tree2.png\" width=\"45%\">\n",
    "\n",
    "We will need to output the list\n",
    "~~~\n",
    "[16, 22, 57, 61, 50]\n",
    "~~~\n",
    "\n",
    "Note: \n",
    "  - 16 = 11 + 4 -1 + 2\n",
    "  - 22 = 11 + 4 + 7\n",
    "  - 57 = 11 + 18 + 15 + 13\n",
    "  - 61 = 11 + 18 + 15 + 17\n",
    "  - 50 = 11 + 18 + 21\n",
    "\n",
    "The algorithm should work in time that is linear in the number of nodes of the tree.\n",
    "\n",
    "For convenience, we will reuse the binary search tree data structure `class TreeNode` with functions for insertion from the previous problem. "
   ]
  },
  {
   "cell_type": "code",
   "execution_count": 9,
   "id": "81d4a82f-7d64-4a49-a581-3af7949282c2",
   "metadata": {},
   "outputs": [],
   "source": [
    "def sumOfBranches(root_node):\n",
    "    branches = []\n",
    "\n",
    "    def dfs(node, visited):\n",
    "        visited.append(node.key)\n",
    "        if node.left is None and node.right is None:\n",
    "            branches.append(visited)        \n",
    "        for v in [node.left, node.right]:\n",
    "            if v is not None and v.key not in visited:\n",
    "                dfs(v, visited.copy())\n",
    "    \n",
    "    dfs(root_node, [])\n",
    "\n",
    "    return [sum(i) for i in branches]"
   ]
  },
  {
   "cell_type": "code",
   "execution_count": 10,
   "id": "adc3c663-22c2-4151-990d-e9875a0f07b9",
   "metadata": {},
   "outputs": [
    {
     "name": "stdout",
     "output_type": "stream",
     "text": [
      "-- Test 1 --\n",
      "[15, 57, 61, 50]\n",
      "-- Test 2 --\n",
      "[16, 22, 57, 61, 50]\n",
      "-- Test 3 --\n",
      "[15]\n",
      "-- Test 4 --\n",
      "[10, 30, 31]\n",
      "All tests passed!\n"
     ]
    }
   ],
   "source": [
    "def make_tree(insertion_list):\n",
    "    assert len(insertion_list) > 0\n",
    "    root_node = TreeNode(insertion_list[0])\n",
    "    for elt in insertion_list[1:]:\n",
    "        root_node.insert(elt)\n",
    "    return root_node\n",
    "\n",
    "print('-- Test 1 --')\n",
    "# Same as the example from problem 1\n",
    "tree1 = make_tree([11, 18, 15,  13, 21, 17, 4])\n",
    "lst1 = sumOfBranches(tree1)\n",
    "print(lst1)\n",
    "assert lst1 == [15, 57, 61, 50]\n",
    "\n",
    "print('-- Test 2 --')\n",
    "# Same as example from problem 2\n",
    "\n",
    "tree2 = make_tree([11,4, 18, -1, 7, 15, 21, 2, 13, 17])\n",
    "lst2 = sumOfBranches(tree2)\n",
    "print(lst2)\n",
    "assert lst2 == [16, 22, 57, 61, 50]\n",
    "\n",
    "print('-- Test 3 --')\n",
    "tree3 = make_tree([15])\n",
    "lst3 = sumOfBranches(tree3)\n",
    "print(lst3)\n",
    "assert lst3 == [15]\n",
    "\n",
    "print('-- Test 4 --')\n",
    "tree4 = make_tree([4, 1, 2, 3, 8, 5, 6, 7,  10, 9])\n",
    "lst4 = sumOfBranches(tree4)\n",
    "print(lst4)\n",
    "assert lst4 == [10, 30, 31]\n",
    "\n",
    "print('All tests passed!')"
   ]
  },
  {
   "cell_type": "markdown",
   "id": "a4d68da4-bab4-4601-a6da-b87bc982144c",
   "metadata": {
    "tags": []
   },
   "source": [
    "#### Problem 3\n",
    "\n",
    "We have a rectangular grid of points where one corner is $(0,0)$ and the other corner is $(W,H)$, where $W,H$ represent the width and height of the grid, respectively. From each point $(x,y)$, we can move along one of the cardinal directions to $$(x', y') \\in \\left\\{ (x+1, y), (x-1, y), (x, y+1), (x, y-1) \\right\\},$$ as long as $0 \\leq x' \\leq W$ and $0 \\leq y' \\leq H$ (i.e, we are not allowed to move out of the grid). \n",
    "\n",
    "Furthermore, we specify a set of $k$ circles $$C = \\left\\{(x_1, y_1, r_1), \\ldots, (x_k, y_k, r_k ) \\right\\}$$\n",
    "where each circle has center $(x_i, y_i)$ and radius $r_i$.\n",
    "\n",
    "The goal is to find a path from $(0,0)$ to $(W,H)$ while avoiding any point on the surface of or inside the circles in $C$. If such a path is found, your algorithm should return the path as a list of grid points. If not, your algorithm should return the empty list.\n",
    "\n",
    "__Example 1__\n",
    "\n",
    "Consider $W = H = 3$ and two circles $C= \\{ (1,2,1), (2,2,0.5) \\}$.\n",
    "\n",
    "<img src=\"pics/grid1.jpg\" width=\"40%\">\n",
    "\n",
    "The red lines show a path from $(0,0)$ to $(3,3)$. Your algorithm may return a list\n",
    "`[(0,0), (1,0), (2,0), (3, 0), (3,1), (3,2), (3,3) ]` (there is another path in this case and any of them may be returned.\n"
   ]
  },
  {
   "cell_type": "markdown",
   "id": "e4039693-1eab-4d0b-bb64-d93774d3afb4",
   "metadata": {},
   "source": [
    "__Example 2__\n",
    "\n",
    "Consider $W = H = 3$ and two circles $C= \\{ (1,2,1), (2,2,1) \\}$.\n",
    "\n",
    "<img src='pics/grid2.jpg' width='40%'>\n",
    "\n",
    "There are no paths in this case (in particular (3,2) lies on the orange circle though this is not 100% clear from the picture). Your algorithm should return the empty list."
   ]
  },
  {
   "cell_type": "code",
   "execution_count": 11,
   "id": "7ad73ecd-c7f5-4d27-8484-69631037c09f",
   "metadata": {},
   "outputs": [],
   "source": [
    "from math import sqrt\n",
    "\n",
    "# We may use this function to test if a point lies inside given circle.\n",
    "def ptInCircle(x,y, circles_list):\n",
    "    for (xc,yc,rc) in circles_list:\n",
    "        d = sqrt ( (x-xc)**2 + (y-yc)**2)\n",
    "        if d <= rc:\n",
    "            return True\n",
    "    return False\n",
    "\n",
    "def findPath(width, height, forbidden_circles_list):\n",
    "    # width is a positive number\n",
    "    # height is a positive number\n",
    "    # forbidden_circles_list is a list of triples [(x1, y1, r1),..., (xk, yk, rk)]\n",
    "    assert width >= 1\n",
    "    assert height >= 1\n",
    "    assert all(x <= width and x >=0 and y <= height and y >= 0 and r > 0 for (x,y,r) in forbidden_circles_list)\n",
    "\n",
    "    vertices = []\n",
    "    for i in range(width + 1):\n",
    "        for j in range(height + 1):\n",
    "            if not ptInCircle(i, j, forbidden_circles_list):\n",
    "                vertices.append((i, j))\n",
    "\n",
    "    root = (0,0)\n",
    "    all_paths = []\n",
    "    def dfs(node, visited):\n",
    "        visited.append(node)\n",
    "        if (node[0], node[1]+1) not in vertices and (node[0]+1, node[1]) not in vertices:\n",
    "            all_paths.append(visited)\n",
    "        for v in [(node[0], node[1] + 1), (node[0] + 1, node[1])]:\n",
    "            if v in vertices and v not in visited:\n",
    "                dfs(v, visited.copy())\n",
    "\n",
    "    dfs(root, [])\n",
    "    path = ([i for i in all_paths if (i[0] == root and i[-1] == (width, height))])\n",
    "    if len(path) == 0: return []\n",
    "    else: return min(path)"
   ]
  },
  {
   "cell_type": "code",
   "execution_count": 12,
   "id": "24b54e36-b175-452c-8c87-87fdffd65ace",
   "metadata": {},
   "outputs": [
    {
     "name": "stdout",
     "output_type": "stream",
     "text": [
      "-- Test 1 -- \n",
      "[(0, 0), (1, 0), (2, 0), (2, 1), (3, 1), (3, 2), (3, 3)]\n",
      "-- Test 2 -- \n",
      "[]\n",
      "-- Test 3 -- \n",
      "[(0, 0), (1, 0), (2, 0), (3, 0), (3, 1), (4, 1), (4, 2), (4, 3), (4, 4), (4, 5), (5, 5)]\n",
      "-- Test 4 --\n",
      "[(0, 0), (0, 1), (0, 2), (0, 3), (0, 4), (0, 5), (1, 5), (2, 5), (3, 5), (4, 5), (5, 5)]\n",
      "-- Test 5 --\n",
      "[]\n",
      "All tests passed!\n"
     ]
    }
   ],
   "source": [
    "# testing\n",
    "def checkPath(width, height, circles, path):\n",
    "    assert path[0] == (0,0), 'Path must begin at (0,0)'\n",
    "    assert path[-1] == (width, height), f'Path must end at {(width, height)}'\n",
    "    (cur_x, cur_y) = path[0]\n",
    "    for (new_x, new_y) in path[1:]:\n",
    "        dx = new_x - cur_x\n",
    "        dy = new_y - cur_y\n",
    "        assert (dx,dy) in [(1,0),(-1,0), (0,1),(0,-1)]\n",
    "        assert 0 <= new_x and new_x <= width\n",
    "        assert 0 <= new_y and new_y <= height\n",
    "        assert not ptInCircle(new_x, new_y, circles)\n",
    "        cur_x, cur_y = new_x, new_y\n",
    "    return\n",
    "print('-- Test 1 -- ')\n",
    "\n",
    "circles = [(2,2,0.5), (1,2,1)]\n",
    "p = findPath(3, 3, circles)\n",
    "print(p)\n",
    "checkPath(3, 3, circles, p)\n",
    "print('-- Test 2 -- ')\n",
    "\n",
    "circles1 = [(2,2,1), (1,2,1)]\n",
    "p1 = findPath(3, 3, circles1)\n",
    "print(p1)\n",
    "assert p1 == [], 'Answer does not match with ours'\n",
    "\n",
    "print('-- Test 3 -- ')\n",
    "p2 = findPath(5,5, circles1)\n",
    "print(p2)\n",
    "checkPath(5, 5, circles1, p2)\n",
    "\n",
    "print('-- Test 4 --')\n",
    "\n",
    "circles3 = [(1,2,0.5), (2,2,1), (3,3,1),(4,3,1)]\n",
    "p3 = findPath(5, 5, circles3)\n",
    "print(p3)\n",
    "checkPath(5, 5, circles3, p3)\n",
    "\n",
    "print('-- Test 5 --')\n",
    "circles5 = [ (4,1, 1), (4,4,1),(2,6,1)]\n",
    "p5 = findPath(6,6,circles5)\n",
    "print(p5)\n",
    "assert p5 == []\n",
    "print('All tests passed!')"
   ]
  },
  {
   "cell_type": "markdown",
   "id": "d0267b5e-59f8-4586-af0b-839946d9a028",
   "metadata": {
    "pycharm": {
     "name": "#%% md\n"
    },
    "tags": []
   },
   "source": [
    "__________\n",
    "##  Red-Black Binary Search Trees\n",
    "\n",
    "***It is a Self-Balancing Binary Search Tree with extra stuff:***\n",
    "- each node can be either red or black color by the following rules:\n",
    "    1. Root and NILs are black\n",
    "    2. Every red node must have black children (both)\n",
    "    3. The number of black nodes on any path from any node to a leaf must be the same\n",
    "- it helps to be a tree balanced"
   ]
  },
  {
   "cell_type": "markdown",
   "id": "8b643f61-be1c-43f0-a4c5-3f50b12bc265",
   "metadata": {
    "pycharm": {
     "name": "#%% md\n"
    }
   },
   "source": [
    "<img src = 'pics/red-black-tree.png' width = 350>"
   ]
  },
  {
   "cell_type": "markdown",
   "id": "c154b61c-1c3c-4de7-9721-c2473abf7343",
   "metadata": {
    "pycharm": {
     "name": "#%% md\n"
    }
   },
   "source": [
    "#### Find\n",
    "\n",
    "Find operation is the same as in BST\n",
    "\n",
    "#### Insert\n",
    "\n",
    "Insert operation includes extra points:\n",
    "- to avoid red-red violation\n",
    "- to maintain red-black properties\n",
    "\n",
    "`The rules for insertion a node:`\n",
    "\n",
    "Newly inserted node is always colored red, then there are several cases:\n",
    "1. the parent of a newly inserted node is black -> everything is OK, nothing to do\n",
    "2. the parent is red -> red-red violation -> a grandparent is black and an uncle is red -> we change the color of a grandparent and its children, so that grandpa becomes red, and our parent and uncle - black"
   ]
  },
  {
   "cell_type": "markdown",
   "id": "7add09b6-e917-430d-85b5-eb30de950d9e",
   "metadata": {
    "pycharm": {
     "name": "#%% md\n"
    }
   },
   "source": [
    "<img src='pics/redBlackCase2.png' width = 400>"
   ]
  },
  {
   "cell_type": "markdown",
   "id": "eb0da226-e341-423d-9920-d3b84b0ace37",
   "metadata": {
    "pycharm": {
     "name": "#%% md\n"
    }
   },
   "source": [
    "3. the parent is red -> red-red violation -> both grandparent and uncle are black -> perform a tree rotation (left or right)"
   ]
  },
  {
   "cell_type": "markdown",
   "id": "8af73704-ded9-4a58-be2a-6540f11f8035",
   "metadata": {
    "pycharm": {
     "name": "#%% md\n"
    }
   },
   "source": [
    "<img src='pics/red-black-rotations.png' width = 400>"
   ]
  },
  {
   "cell_type": "markdown",
   "id": "49346cdb-536a-4fc8-a3f8-b8a1be4b9729",
   "metadata": {
    "pycharm": {
     "name": "#%% md\n"
    }
   },
   "source": [
    "#### Delete\n",
    "\n",
    "There are tons of deletion cases - look in the book for pseudocode"
   ]
  },
  {
   "cell_type": "markdown",
   "id": "070b01ad-b292-4804-aca2-09f9e71b8dc7",
   "metadata": {},
   "source": [
    "_____________\n",
    "## Skip Lists\n",
    "\n",
    "***It is an alternative to Balanced Binary Search Trees data structure, that supports the following operations:***\n",
    "- Insert(key, value)\n",
    "- Search for key\n",
    "- Delete key\n",
    "- Iterate through all items in sorted order\n",
    "\n",
    "Skip List is a ***randomized*** data structure with many layers:\n",
    "- Provides probabilistic guarantees\n",
    "- Elegant approach to data structure design\n",
    "\n",
    "#### Main idea:"
   ]
  },
  {
   "cell_type": "markdown",
   "id": "944ea37c-da07-4347-bc37-a8f7214e2c01",
   "metadata": {},
   "source": [
    "<img src = 'pics/skip_lists.jpg' width = 500>"
   ]
  },
  {
   "cell_type": "markdown",
   "id": "270a86d0-e66a-4b7d-97b9-03f67f14cacd",
   "metadata": {},
   "source": [
    "- Layers of lists\n",
    "    - each layer is sorted in ascending order\n",
    "    - bottom layer contains all elements in the skip list\n",
    "    - each layer has 'sentinels' -INF and +INF\n",
    "    - each layer has a subset of elements of previous layer\n",
    "\n",
    "\n",
    "- Two types of pointers\n",
    "    - down pointer -> pointer to same value in the layer below\n",
    "    - right pointer -> pointer to next higher element in the current layer\n",
    "    "
   ]
  },
  {
   "cell_type": "markdown",
   "id": "8f0e4e90-81de-4137-9fdb-2fbaa2e4ea92",
   "metadata": {
    "tags": []
   },
   "source": [
    "#### Finding an element in a skip list\n",
    "\n",
    "1. Input: *key* for the target element\n",
    "2. Start with top most layer\n",
    "3. While current element <= key:\n",
    "    - go to next element to the left of current element in current layer\n",
    "    - go back to the last element <= key\n",
    "    - if current layer is NOT the last layer:\n",
    "        - traverse down pointer to next layer and do step 3\n",
    "    - else:\n",
    "        if last element == key, then return it, else NOT FOUND"
   ]
  },
  {
   "cell_type": "markdown",
   "id": "4c28ca7f-9a27-4d5a-bfc8-6c39e5c68eff",
   "metadata": {},
   "source": [
    "#### Inserting an element into a skip list\n",
    "\n",
    "- First find where the element will be inserted in the last layer\n",
    "- Insert element in the last layer while maintaining sorted order\n",
    "- ***Toss a coin*** with probability 1/2 of turning *heads*\n",
    "- While *latest coin toss turned up heads*:\n",
    "    - if current layer is top layer,\n",
    "        - then create a new layer and set it to current layer\n",
    "        - else make the current layer point to one layer above\n",
    "    - create a new node in the current layer and insert so that it is in sorted order\n",
    "    - add a down pointer from new node to corresponding node in the layer below\n",
    "    - *toss coin again*\n",
    "    \n",
    "Average height for each node in skip list is 2"
   ]
  }
 ],
 "metadata": {
  "kernelspec": {
   "display_name": "Python 3 (ipykernel)",
   "language": "python",
   "name": "python3"
  },
  "language_info": {
   "codemirror_mode": {
    "name": "ipython",
    "version": 3
   },
   "file_extension": ".py",
   "mimetype": "text/x-python",
   "name": "python",
   "nbconvert_exporter": "python",
   "pygments_lexer": "ipython3",
   "version": "3.9.12"
  }
 },
 "nbformat": 4,
 "nbformat_minor": 5
}
