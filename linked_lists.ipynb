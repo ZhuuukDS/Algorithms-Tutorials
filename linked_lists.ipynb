{
 "cells": [
  {
   "cell_type": "markdown",
   "id": "0e643e13-2f50-419f-b17f-da7925c78fa4",
   "metadata": {},
   "source": [
    "# **Linked Lists**\n",
    "_________"
   ]
  },
  {
   "cell_type": "markdown",
   "id": "0af035a3-d174-4490-99e1-aaead1687425",
   "metadata": {},
   "source": [
    "**Linked list** is a data structure in which the objects are arranged in a linear order.\n",
    "\n",
    "The order in **linked lists** is determined by a pointer in each object.\n",
    "\n",
    "Each item stores the address of the next item (or next and previous in *doubly linked lists*) in the list. So, the bunch of random memory addresses are linked together.\n",
    "\n",
    "## Time complexity\n",
    "\n",
    "- Reading - O(n) - to find/read the i-th element, we need to run through all previous items from the beginning of the list \n",
    "- Insertion - O(1) - just upadte a pointer to a new element\n",
    "- Deletion - O(1) - just change what previous item points to\n",
    "\n",
    "Linked lists allow fast inserts and deletes, however reading is quite slow."
   ]
  },
  {
   "cell_type": "markdown",
   "id": "30de1ef1-e622-4c93-bdb5-49e1211d9a2c",
   "metadata": {
    "tags": []
   },
   "source": [
    "## Operations"
   ]
  },
  {
   "cell_type": "markdown",
   "id": "e2ee4bbd-334f-4d37-b872-36f490b043dc",
   "metadata": {},
   "source": [
    "1. Search an element"
   ]
  },
  {
   "cell_type": "raw",
   "id": "e341a545-cd81-4bf9-b2ed-2fa45bdf4720",
   "metadata": {},
   "source": [
    "ListSearch(L, k):\n",
    "    x = L.head\n",
    "    while x != None and x.key != k:\n",
    "        x = x.next\n",
    "    return x"
   ]
  },
  {
   "cell_type": "markdown",
   "id": "6b5becd0-3d6d-403a-aeaa-5079529edcd1",
   "metadata": {},
   "source": [
    "2. Insert an element"
   ]
  },
  {
   "cell_type": "raw",
   "id": "f9435a62-ce4b-4580-b7d0-4441b39afddd",
   "metadata": {},
   "source": [
    "ListInsert(L, x):\n",
    "    if L.head != None:\n",
    "        L.head.prev = x\n",
    "    L.head = x\n",
    "    x.prev = None"
   ]
  },
  {
   "cell_type": "markdown",
   "id": "f32a788e-2bf7-4124-91a4-a769e81445a8",
   "metadata": {},
   "source": [
    "3. Delete an element"
   ]
  },
  {
   "cell_type": "raw",
   "id": "604bf582-9d89-4ace-8436-84794e751225",
   "metadata": {},
   "source": [
    "ListDelete(L, x):\n",
    "    if x.prev != None:\n",
    "        x.prev.next = x.next\n",
    "    else:\n",
    "        L.head = x.next\n",
    "    if x.next != None:\n",
    "        x.next.prev = x.prev"
   ]
  },
  {
   "cell_type": "markdown",
   "id": "633bcefa-8b52-43ea-846b-e62bc00eb7e9",
   "metadata": {
    "tags": []
   },
   "source": [
    "## Implementation"
   ]
  },
  {
   "cell_type": "code",
   "execution_count": 1,
   "id": "3feefb20-dd15-4f04-9a4c-2a2b9e78a2bf",
   "metadata": {},
   "outputs": [
    {
     "name": "stdout",
     "output_type": "stream",
     "text": [
      "3\n",
      "4\n",
      "5\n"
     ]
    }
   ],
   "source": [
    "# A single node of a singly linked list\n",
    "class Node:\n",
    "    # constructor\n",
    "    def __init__(self, key = None, next=None): \n",
    "        self.key = key\n",
    "        self.next = next\n",
    "\n",
    "# A Linked List class with a single head node\n",
    "class LinkedList:\n",
    "    def __init__(self):  \n",
    "        self.head = None\n",
    "\n",
    "# insertion method for the linked list\n",
    "    def insert(self, key):\n",
    "        newNode = Node(key)\n",
    "        if(self.head):\n",
    "            current = self.head\n",
    "            while(current.next):\n",
    "                current = current.next\n",
    "            current.next = newNode\n",
    "        else:\n",
    "            self.head = newNode\n",
    "\n",
    "# print method for the linked list\n",
    "    def printLL(self):\n",
    "        current = self.head\n",
    "        while(current):\n",
    "            print(current.key)\n",
    "            current = current.next\n",
    "\n",
    "# Singly Linked List with insertion and print methods\n",
    "LL = LinkedList()\n",
    "LL.insert(3)\n",
    "LL.insert(4)\n",
    "LL.insert(5)\n",
    "LL.printLL()"
   ]
  },
  {
   "cell_type": "markdown",
   "id": "4a79b10e-469b-48f2-ae59-b6c0bc5ba2ad",
   "metadata": {
    "tags": []
   },
   "source": [
    "## Problems"
   ]
  },
  {
   "cell_type": "markdown",
   "id": "0c673bda-e5e6-4586-9a83-215d821029f7",
   "metadata": {},
   "source": [
    "There are sorts of problems for linked lists"
   ]
  },
  {
   "cell_type": "markdown",
   "id": "3de2afbd-7796-41a0-ac5d-3e9d2337736d",
   "metadata": {
    "tags": []
   },
   "source": [
    "#### Leetcode 876. Middle of the Linked List\n",
    "**Given the head of a singly linked list, return the middle node of the linked list**\n",
    "\n",
    "If there are two middle nodes, return the second middle node."
   ]
  },
  {
   "cell_type": "markdown",
   "id": "1423bc4a-0e18-46df-ad7e-c3fc83e2be6e",
   "metadata": {},
   "source": [
    "**Intuition and Algorithm**\n",
    "\n",
    "When traversing the list with a pointer slow, make another pointer fast that traverses twice as fast. When fast reaches the end of the list, slow must be in the middle."
   ]
  },
  {
   "cell_type": "code",
   "execution_count": 1,
   "id": "de8e646b-bfaa-4a6c-8578-f8a6d11aceef",
   "metadata": {},
   "outputs": [],
   "source": [
    "def middleNode(self, head):\n",
    "    slow = fast = head\n",
    "    while fast and fast.next:\n",
    "        slow = slow.next\n",
    "        fast = fast.next.next\n",
    "    return slow"
   ]
  },
  {
   "cell_type": "markdown",
   "id": "0c31bba6-9662-4bb6-b265-dfd6f7d770fa",
   "metadata": {},
   "source": [
    "#### Leetcode 234. Palindrome Linked List\n",
    "**Given the head of a singly linked list, return true if it is a palindrome**"
   ]
  },
  {
   "cell_type": "code",
   "execution_count": 4,
   "id": "8e754aac-6e06-41a1-a972-bd29e8255606",
   "metadata": {},
   "outputs": [],
   "source": [
    "def isPalindrome(self, head) -> bool:\n",
    "    temp = head\n",
    "    ls = []\n",
    "        \n",
    "    while temp:\n",
    "        ls.append(temp.val)\n",
    "        temp = temp.next\n",
    "        \n",
    "    if ls == ls[::-1]:\n",
    "        return True\n",
    "    else: return False        "
   ]
  },
  {
   "cell_type": "code",
   "execution_count": null,
   "id": "e8d49d36-513c-4c5e-a81b-8087fc37f046",
   "metadata": {},
   "outputs": [],
   "source": []
  }
 ],
 "metadata": {
  "kernelspec": {
   "display_name": "Python 3 (ipykernel)",
   "language": "python",
   "name": "python3"
  },
  "language_info": {
   "codemirror_mode": {
    "name": "ipython",
    "version": 3
   },
   "file_extension": ".py",
   "mimetype": "text/x-python",
   "name": "python",
   "nbconvert_exporter": "python",
   "pygments_lexer": "ipython3",
   "version": "3.9.12"
  }
 },
 "nbformat": 4,
 "nbformat_minor": 5
}
