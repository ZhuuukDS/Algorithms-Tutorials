{
 "cells": [
  {
   "cell_type": "markdown",
   "id": "68b43ba3-9d8f-4fcd-b1e7-d204b871591d",
   "metadata": {
    "pycharm": {
     "name": "#%% md\n"
    },
    "tags": []
   },
   "source": [
    "# **Searching algorithms**\n",
    "______________________________"
   ]
  },
  {
   "cell_type": "markdown",
   "id": "d87c6d4c-cee6-48e7-8340-6116acad4d74",
   "metadata": {},
   "source": [
    "## Contents:\n",
    "- [Binary Search](#Binary-Search)\n",
    "- [Quick Select](#Quick-Select)"
   ]
  },
  {
   "cell_type": "markdown",
   "id": "b076757c-eadb-421f-bd48-a53e707f6681",
   "metadata": {
    "pycharm": {
     "name": "#%% md\n"
    },
    "tags": []
   },
   "source": [
    "## Binary Search"
   ]
  },
  {
   "cell_type": "markdown",
   "id": "c48ff241-de80-4610-854a-a313fb2be5ff",
   "metadata": {},
   "source": [
    " $O(log(n))$"
   ]
  },
  {
   "cell_type": "markdown",
   "id": "822a10aa-0ce7-4cac-8363-c926ec74d75d",
   "metadata": {},
   "source": [
    "Given a _sorted_ list (assume ascending order sorted) of $n$ elements, we wish to find out if a given element `elt` belongs to the list. \n",
    "\n",
    "Binary search algorithm repeatedly narrows down the possible location of the element by comparing the middle element in the search range to the one we are searching for. We are hoping to find at each step using the fact that the array is sorted.\n",
    "\n",
    "**We wish to  implement a function `binarySearchHelper(lst, elt, left, right)` wherein:**\n",
    "  - `lst` is a non empty list with at least 2 or more elements.\n",
    "  - `elt` is the element whose index we are searching for.\n",
    "  - `left` and `right` represent the \"bounds\" in terms of indices of the list.\n",
    "    - Note that indices in python start at 0 and go until `len(lst)`. \n",
    "    - Let us use `n` to denote the length of the list.\n",
    "    - We will always ensure that 0 <= `left` <= `right` <= n-1. \n",
    "    \n",
    "The expected output is a number `index` or the python value `None`.\n",
    "  - If a number `index` is returned, it is a valid index of the list between left and right AND `lst[index] == elt` must hold.\n",
    "  - Otherwise, `None` is returned if and only if the list `lst` does not contain `elt`.\n",
    "  \n",
    "#### Here is the implementation of `binarySearchHelper`."
   ]
  },
  {
   "cell_type": "code",
   "execution_count": 1,
   "id": "35730108-2576-40c0-8c33-66454ff6cb51",
   "metadata": {
    "pycharm": {
     "name": "#%%\n"
    }
   },
   "outputs": [],
   "source": [
    "def binarySearchHelper(lst, elt, left, right):\n",
    "    n = len(lst)\n",
    "    if (left > right):\n",
    "        return None # Search region is empty -- let us bail.\n",
    "    else: \n",
    "        # If elt exists in the list, it must be between left and right indices.\n",
    "        mid = (left + right)//2 # Note that // is integer division \n",
    "        if lst[mid] == elt: \n",
    "            return mid # BINGO -- we found it. Return its index and that we found it\n",
    "        elif lst[mid] < elt: \n",
    "            return binarySearchHelper(lst, elt, mid+1, right)\n",
    "        else: # lst[mid] > elt\n",
    "            return binarySearchHelper(lst, elt, left, mid-1)"
   ]
  },
  {
   "cell_type": "code",
   "execution_count": 2,
   "id": "eed93980-cc0d-45d8-8615-60167af5bb0d",
   "metadata": {
    "pycharm": {
     "name": "#%%\n"
    }
   },
   "outputs": [],
   "source": [
    "def binarySearch(lst, elt):\n",
    "    n = len(lst)\n",
    "    if (elt < lst[0] or elt > lst[n-1]):\n",
    "        return None\n",
    "    else: # Note: we will only get here if\n",
    "          # lst[0] <= elt <= lst[n-1]\n",
    "        return binarySearchHelper(lst, elt, 0, n-1)"
   ]
  },
  {
   "cell_type": "code",
   "execution_count": 3,
   "id": "c6cd14b1-721b-4b4c-a945-e60fe9c64fab",
   "metadata": {
    "pycharm": {
     "name": "#%%\n"
    }
   },
   "outputs": [
    {
     "name": "stdout",
     "output_type": "stream",
     "text": [
      "Searching for 9 in list [0,2,3,4,6,9,12]\n",
      "5\n",
      "Searching for 8 in list [1, 3, 4, 6, 8, 9,10, 11, 12, 15]\n",
      "4\n",
      "Searching for 5 in list [1, 3, 4, 6, 8, 9,10, 11, 12, 15]\n",
      "None\n",
      "Searching for 0 in list [0,2]\n",
      "0\n",
      "Searching for 1 in list [0,2]\n",
      "None\n",
      "Searching for 2 in list [0,2]\n",
      "1\n",
      "Searching for 1 in list [1]\n",
      "0\n",
      "Searching for 2 in list [1]\n",
      "None\n"
     ]
    }
   ],
   "source": [
    "print(\"Searching for 9 in list [0,2,3,4,6,9,12]\")\n",
    "print(binarySearch([0,2,3,4,6,9,12], 9))\n",
    "\n",
    "print(\"Searching for 8 in list [1, 3, 4, 6, 8, 9,10, 11, 12, 15]\")\n",
    "print(binarySearch([1, 3, 4, 6, 8, 9,10, 11, 12, 15], 8))\n",
    "\n",
    "print(\"Searching for 5 in list [1, 3, 4, 6, 8, 9,10, 11, 12, 15]\")\n",
    "print(binarySearch([1, 3, 4, 6, 8, 9,10, 11, 12, 15], 5))\n",
    "\n",
    "print(\"Searching for 0 in list [0,2]\")\n",
    "print(binarySearch([0,2], 0))\n",
    "\n",
    "print(\"Searching for 1 in list [0,2]\")\n",
    "print(binarySearch([0,2], 1))\n",
    "\n",
    "print(\"Searching for 2 in list [0,2]\")\n",
    "print(binarySearch([0,2], 2))\n",
    "\n",
    "print(\"Searching for 1 in list [1]\")\n",
    "print(binarySearch([1], 1))\n",
    "\n",
    "print(\"Searching for 2 in list [1]\")\n",
    "print(binarySearch([1], 2))\n",
    "\n"
   ]
  },
  {
   "cell_type": "markdown",
   "id": "c18f0471-3240-491e-a0f7-6a3b22eaed03",
   "metadata": {
    "pycharm": {
     "name": "#%% md\n"
    },
    "tags": []
   },
   "source": [
    "### Implementing Using Loops"
   ]
  },
  {
   "cell_type": "code",
   "execution_count": 4,
   "id": "ae62d74f-f033-4043-90ae-9c6181eb38f0",
   "metadata": {
    "pycharm": {
     "name": "#%%\n"
    }
   },
   "outputs": [],
   "source": [
    "def binSearch(lst, elt):\n",
    "    n = len(lst)\n",
    "    if (elt < lst[0] or elt > lst[n-1]):\n",
    "        return None\n",
    "    else:\n",
    "        left = 0\n",
    "        right = n - 1\n",
    "        while (left <= right):\n",
    "            # Exact same logic as the recursion.\n",
    "            mid = (left + right)//2 # Note that in python3 and above // is integer division \n",
    "            if lst[mid] == elt: \n",
    "                return mid # BINGO -- we found it. Return its index and that we found it\n",
    "            elif lst[mid] < elt:  \n",
    "                left = mid + 1\n",
    "            else: # lst[mid] > elt\n",
    "                right = mid - 1 \n",
    "        return None"
   ]
  },
  {
   "cell_type": "code",
   "execution_count": 5,
   "id": "5372bee8-d201-42c7-86ed-509825b892dc",
   "metadata": {
    "pycharm": {
     "name": "#%%\n"
    }
   },
   "outputs": [
    {
     "name": "stdout",
     "output_type": "stream",
     "text": [
      "Searching for 9 in list [0,2,3,4,6,9,12]\n",
      "5\n",
      "Searching for 8 in list [1, 3, 4, 6, 8, 9,10, 11, 12, 15]\n",
      "4\n",
      "Searching for 5 in list [1, 3, 4, 6, 8, 9,10, 11, 12, 15]\n",
      "None\n",
      "Searching for 0 in list [0,2]\n",
      "0\n",
      "Searching for 1 in list [0,2]\n",
      "None\n",
      "Searching for 2 in list [0,2]\n",
      "1\n"
     ]
    }
   ],
   "source": [
    "print(\"Searching for 9 in list [0,2,3,4,6,9,12]\")\n",
    "print(binSearch([0,2,3,4,6,9,12], 9))\n",
    "\n",
    "print(\"Searching for 8 in list [1, 3, 4, 6, 8, 9,10, 11, 12, 15]\")\n",
    "print(binSearch([1, 3, 4, 6, 8, 9,10, 11, 12, 15], 8))\n",
    "\n",
    "print(\"Searching for 5 in list [1, 3, 4, 6, 8, 9,10, 11, 12, 15]\")\n",
    "print(binSearch([1, 3, 4, 6, 8, 9,10, 11, 12, 15], 5))\n",
    "\n",
    "print(\"Searching for 0 in list [0,2]\")\n",
    "print(binSearch([0,2], 0))\n",
    "\n",
    "print(\"Searching for 1 in list [0,2]\")\n",
    "print(binSearch([0,2], 1))\n",
    "\n",
    "print(\"Searching for 2 in list [0,2]\")\n",
    "print(binSearch([0,2], 2))"
   ]
  },
  {
   "cell_type": "markdown",
   "id": "fcc7bbff-7079-4921-abf3-f4a78d98fe2d",
   "metadata": {},
   "source": [
    "### Complexity Analysis\n",
    "\n",
    "Thus, the initial search region size is $n$, the size of the list. At each subsequent call, the search region shrinks by half of  the previous search region.\n",
    "\n",
    "Therefore, if we made $k$ iterations of `binarySearchHelper`, the search region would be at most $ \\frac{n}{2^k}$. \n",
    "\n",
    "When the search region size is less than $1$, we have to stop since we would reach the condition `left < right`.\n",
    "\n",
    "In the worst case therefore, binary search can run for `k` steps as long as $ \\frac{n}{2^k} \\geq 1 $.\n",
    "\n",
    "On other words, $2^k \\leq n$, i.e,  $k \\leq \\log_2(n)$.\n",
    "\n",
    "Each recursive call involves constant number of operations. Thus, we concluded that  the running time is bounded from above by $O(\\log(n))$.\n",
    "\n",
    "A similar analysis shows that for every $n$, we can produce a list of size $n$ and a missing element such that the algorithm must take time proportional to $\\log_2(n)$ to run. This lets us conclude that the running time must be $\\Omega(\\log(n))$ in the worst case.\n",
    "\n",
    "Combining, we get that the running time is $\\Theta(\\log(n))$."
   ]
  },
  {
   "cell_type": "markdown",
   "id": "0353eeb2-fcf0-4142-b6af-647e409dc91a",
   "metadata": {
    "pycharm": {
     "name": "#%% md\n"
    },
    "tags": []
   },
   "source": [
    "##  Quick Select"
   ]
  },
  {
   "cell_type": "markdown",
   "id": "7db717a4-6c6e-44a7-b63c-b27e20b3d756",
   "metadata": {},
   "source": [
    " $O(n)$"
   ]
  },
  {
   "cell_type": "markdown",
   "id": "77aff399-50c7-4750-a56b-c880ddc940a0",
   "metadata": {},
   "source": [
    "The problem of selecting the i-th smallest element from a set of n numbers.\n",
    "\n",
    "This can be done easily in `O(nlog(n))` time using `Merge Sort` or `Heap Sort` and then indexing an element, but `Quick Select` makes it faster in an average `O(n)` time using a partition idea from a quicksort"
   ]
  },
  {
   "cell_type": "code",
   "execution_count": 6,
   "id": "c145f897-e2fe-4469-ac85-6177d63239bf",
   "metadata": {
    "pycharm": {
     "name": "#%%\n"
    },
    "tags": []
   },
   "outputs": [],
   "source": [
    "# Quick Select algorithm\n",
    "# Select the k-th smallest element in an array\n",
    "\n",
    "# Partition part is the same as in QuickSort algorithm\n",
    "def Partition(A, p, r):\n",
    "    x = A[r]\n",
    "    i = p - 1\n",
    "    for j in range (p, r):\n",
    "        if A[j] <= x:\n",
    "            i += 1\n",
    "            A[i], A[j] = A[j], A[i]\n",
    "    A[i + 1], A[r] = A[r], A[i + 1]\n",
    "    return i + 1\n",
    "\n",
    "def QuickSelectHelper(A, p, r, k): # p = 0, r = len(A)-1 in the beginning\n",
    "    if len(A) < k:\n",
    "        print(f'Can\\'t find {k}-th smallest element, as there are less than {k} elements in an array')\n",
    "    elif len(A) == 1:\n",
    "        if k == 1: return k\n",
    "        else: print(f'Can\\'t find {k}-th smallest element, as there are only 1 element in an array')\n",
    "    else:\n",
    "        j = Partition(A, p, r)\n",
    "        if j == k: \n",
    "            return A[j]\n",
    "        elif j > k: \n",
    "            return QuickSelectHelper(A, p, j-1, k) # partition the left part of an array\n",
    "        else: \n",
    "            return QuickSelectHelper(A, j+1, r, k-j) # partition the right part and check k-j element\n",
    "\n",
    "def QuickSelect(a, k):\n",
    "    p = 0\n",
    "    r = len(a) - 1\n",
    "    return QuickSelectHelper(a, p, r, k)\n",
    "    "
   ]
  },
  {
   "cell_type": "code",
   "execution_count": 7,
   "id": "17bcbf9a-5aa2-46a1-bd1e-0209e32603bc",
   "metadata": {
    "pycharm": {
     "name": "#%%\n"
    },
    "tags": []
   },
   "outputs": [
    {
     "data": {
      "text/plain": [
       "2"
      ]
     },
     "execution_count": 7,
     "metadata": {},
     "output_type": "execute_result"
    }
   ],
   "source": [
    "a = [2,4,6,2,5,3,4,-1,-4]\n",
    "QuickSelect(a, 3)"
   ]
  }
 ],
 "metadata": {
  "kernelspec": {
   "display_name": "Python 3 (ipykernel)",
   "language": "python",
   "name": "python3"
  },
  "language_info": {
   "codemirror_mode": {
    "name": "ipython",
    "version": 3
   },
   "file_extension": ".py",
   "mimetype": "text/x-python",
   "name": "python",
   "nbconvert_exporter": "python",
   "pygments_lexer": "ipython3",
   "version": "3.9.12"
  }
 },
 "nbformat": 4,
 "nbformat_minor": 5
}
