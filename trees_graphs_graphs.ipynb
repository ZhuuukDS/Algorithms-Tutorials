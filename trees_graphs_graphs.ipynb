{
 "cells": [
  {
   "cell_type": "markdown",
   "id": "2002bb6e-72f6-4414-ae9c-a99f11f91774",
   "metadata": {
    "pycharm": {
     "name": "#%% md\n"
    },
    "tags": []
   },
   "source": [
    "# **Trees and graphs**\n",
    "______________________________"
   ]
  },
  {
   "cell_type": "markdown",
   "id": "c3aba6dc-0220-4fc7-8926-3e589a5a8bab",
   "metadata": {},
   "source": [
    "# Basics of Graphs and Graphs Traversals"
   ]
  },
  {
   "cell_type": "markdown",
   "id": "41fda3ff-d63e-4465-ba97-7675bc956b41",
   "metadata": {},
   "source": [
    "## Contents:\n",
    "- [Graphs and Their Representations](#Graphs-and-Their-Representations)\n",
    "- [Graph Traversals](#Graph-Traversals)\n",
    "    - [Breadth First Search (BFS)](#Breadth-First-Search-(BFS))\n",
    "    - [Depth First Search (DFS)](#Depth-First-Search-(DFS))\n",
    "    - [Problems](#Problems)\n",
    "- [Topological Sorting](#Topological-Sorting)\n",
    "- [Strongly Connected Components](#Strongly-Connected-Components)\n",
    "    - [Problem](#Problem)"
   ]
  },
  {
   "cell_type": "markdown",
   "id": "c8ef9674-61d9-461d-8e4b-265049361f24",
   "metadata": {},
   "source": [
    "_________\n",
    "## Graphs and Their Representations\n",
    "#### Introduction to Graphs\n",
    "* Vertices - a set of nodes in the graph\n",
    "* Edges - a set of links between the nodes\n",
    "* There are no loops over a vertex\n",
    "* There are no multiedges (only one edge between 2 distinct nodes)\n",
    "* Graphs can be Directed or Undirected\n",
    "* Graphs can by Cyclic or Acyclic\n",
    "\n",
    "#### Simple Representations of Graphs\n",
    "\n",
    "1. ***Adjacency matrix*** - the vertices form the rows and columns. If there's an edge between nodes, then 1 in matrix, otherwize 0. Size = $k^2$\n",
    "\n",
    "2. ***Adjacency list*** - a list of vertices with a list of correspondend edges for each node. Size = \\[k-nodes + m-nodes\\]"
   ]
  },
  {
   "cell_type": "markdown",
   "id": "cdd71371-95ff-44ce-8323-1e2d3018df98",
   "metadata": {},
   "source": [
    "## Graph Traversals\n",
    "\n",
    "**Traversal** - visiting nodes in a graph in some order with some rules:\n",
    "1. Visit a node at most once\n",
    "2. Visited node must be along an edge starting from an already visited node"
   ]
  },
  {
   "cell_type": "markdown",
   "id": "b63abe20-8400-45db-83d0-43e2748ea229",
   "metadata": {},
   "source": [
    "### Breadth First Search (BFS)\n",
    "\n",
    "***Searching nodes in a graph driven by a FIFO Queue approach*** <br>\n",
    "***BFS allows to find the shortest path to a node***\n",
    "\n",
    "BFS is a ***shortest path algorithm*** - if you start a BFS from the node 1 you get the shortest edge length path from it to a given node (by looking to its parents and counting them)***\n",
    "\n",
    "Each node has a list of properties:\n",
    "- p - parent\n",
    "- d - depth of the node\n",
    "- seen - true | false\n",
    "\n",
    "<img src='pics/graph_traversal.png' width=400>\n",
    "\n",
    "#### Main idea:\n",
    "1. Start with a node (1)\n",
    "2. Place adjacent nodes (2,4) of the node (1) into a queue (FIFO)\n",
    "3. Pop up a top node (2) from from a queue\n",
    "4. Add nodes (3) that adjacent to node (2) that we took out from the queue\n",
    "5. Pop up a top node, which is now node (4)\n",
    "6. Add its adjacent nodes (only 5, because 3 is already in a queue)\n",
    "7. Take out node (3)...\n",
    "8. Repeat"
   ]
  },
  {
   "cell_type": "markdown",
   "id": "432eda65-74be-4271-93f8-d18f0e0bd1db",
   "metadata": {},
   "source": [
    "***Pseudocode***"
   ]
  },
  {
   "cell_type": "raw",
   "id": "33afe629-1944-469f-886f-b78139fbce64",
   "metadata": {},
   "source": [
    "def bfs(G, s)\n",
    "    Q <- {s} # FIFO Queue\n",
    "    s.d <- 0\n",
    "    s.seen <- True\n",
    "    s.p <- NIL\n",
    "    While (Q != 0):\n",
    "        u <- Dequeue (Q)\n",
    "        for all v in Adj(u,G):\n",
    "            if not v.seen:\n",
    "                v.d <- u.d + 1\n",
    "                v.p <- u\n",
    "                v.seen <- True\n",
    "                Enqueue(v, Q)\n",
    "    "
   ]
  },
  {
   "cell_type": "markdown",
   "id": "aef0048f-7b29-4724-a1a7-a3560ea96c55",
   "metadata": {
    "tags": []
   },
   "source": [
    "### Depth First Search (DFS)\n",
    "\n",
    "***One of the applications of DFS - allows to check if there is a cycle in a graph***\n",
    "\n",
    "Each node has a list of attributes:\n",
    "- p = parent (initially NIL)\n",
    "- d = first time discovery node (initially undefined)\n",
    "- f = finish time (initially undefined)\n",
    "- seen = True | False (initially False)\n",
    "\n",
    "#### Main idea:\n",
    "1. Start from some node\n",
    "2. Go in depth to its successor\n",
    "3. Go in depth until no successor found\n",
    "4. Go back\n",
    "5. Go in deep again from another successor"
   ]
  },
  {
   "cell_type": "markdown",
   "id": "9c5260bb-db47-4381-be90-d3ba4440b3c5",
   "metadata": {
    "tags": []
   },
   "source": [
    "***Pseudocode***"
   ]
  },
  {
   "cell_type": "raw",
   "id": "b72ad835-2988-4d0a-a3e0-0c6984de58bb",
   "metadata": {},
   "source": [
    "global time = 1\n",
    "def dfsVisit(G, u)\n",
    "    if u.seen:\n",
    "        return\n",
    "    else:\n",
    "        time += 1\n",
    "        u.d = time\n",
    "        for all v in Adjacent(u): # for each node that is adjacent to u\n",
    "            if v.d = NIL:\n",
    "                v.p = u\n",
    "                dfsVisit(G, v)\n",
    "                v.seen = True\n",
    "        u.f = time\n",
    "        time += 1"
   ]
  },
  {
   "cell_type": "markdown",
   "id": "ea4f97b4-5922-436f-a164-998d82d7e837",
   "metadata": {},
   "source": [
    "When DFS running it creates a **DFS Tree**\n",
    "\n",
    "**DFS Tree** includes all nodes but not all edges (and no cycles)\n",
    "\n",
    "*Assume we have a graph:*\n",
    "\n",
    "<img src='pics/directed_graph.png' width=400>\n",
    "\n",
    "*If we run dfsVisit() on each node (for i = 1 to n), we'll have a table with node's properties:*\n",
    "\n",
    "| Node | $\\pi$ | $d$ | $f$ | *seen* |\n",
    "| - | - | - | - | - |\n",
    "| `1` | NIL | 1 | 10 | T |\n",
    "| `2` | NIL | 11 | 12 | T |\n",
    "| `3` | `4` | 3 | 4 | T |\n",
    "| `4` | `1` | 1 | 9 | T |\n",
    "| `5` | `4` | 5 | 8 | T |\n",
    "| `6` | `5` | 6 | 7 | T |\n",
    "| `7` | NIL | 13 | 16 | T |\n",
    "| `8` | `7` | 14 | 15 | T |\n",
    "\n",
    "*... and a tree or forest in this case:*\n",
    "\n",
    "<img src='pics/graph_dfs.png' width=400>\n",
    "\n",
    "There are names for edges that are not in DFS tree:\n",
    "1. **Back edges** - edges from a descendent back to an ancestor\n",
    "2. **Cross edges** - edges between neither direct ancestors nor descendents\n",
    "2. **Forward edges** - edges from ancestor to a descendent but not to a child\n",
    "\n",
    "If DFS produces a back edge, then there is a cycle in a graph.\n",
    "\n",
    "- Does a given graph have a cycle?\n",
    "- If there's a back edge after a DFS, then yes, there's a cycle in a graph"
   ]
  },
  {
   "cell_type": "markdown",
   "id": "50e493d7-5f69-4dce-b73b-075ce627f9d3",
   "metadata": {
    "jp-MarkdownHeadingCollapsed": true,
    "tags": []
   },
   "source": [
    "### Problems"
   ]
  },
  {
   "cell_type": "markdown",
   "id": "239230de-8dfe-44ed-a4d3-b7fa6486b346",
   "metadata": {
    "tags": []
   },
   "source": [
    "#### Program DFS for Undirected Graph Data Structure\n",
    "\n",
    "We will now program an undirected graph using the adjacency list representation in Python along with some utility functions including a depth first search algorithm over undirected graphs. \n",
    "\n",
    "Recall that a graph is undirected if for every edge $(u,v)$ in the graph from $u$ to $v$ there is also the edge in the reverse direction  $(v,u)$ from $v$ to $u$."
   ]
  },
  {
   "cell_type": "markdown",
   "id": "45223801-2d64-4af7-aef0-443872bd4ff8",
   "metadata": {
    "tags": []
   },
   "source": [
    "#### 1A \n",
    "\n",
    "Run through DFS for the example graph below.\n",
    "\n",
    "<img src='pics/graph1.png' width='50%'>\n",
    "\n",
    "Assume that the DFS visit starts from the node 0. Assume adjacent nodes are visited in \n",
    "ascending order of node IDs.\n",
    "\n",
    "(a) Write down the order in which the nodes are visited.\n",
    "\n",
    "(b) Complete the table of discovery and finish times for each node.\n",
    "\n",
    "(c) For each node write down its parent node in the DFS tree. Recall that if DFS discovers node j from node i, then the parent of j in the DFS tree is i. Draw the DFS tree.\n",
    "\n",
    "(d) What are the back edges discovered by DFS? Disregard all trivial back edges $(i,j)$ where $j$ is a parent of node i in the DFS tree.\n"
   ]
  },
  {
   "cell_type": "markdown",
   "id": "24840e7a-cbd8-484e-aec7-dca773532620",
   "metadata": {
    "nbgrader": {
     "cell_type": "markdown",
     "checksum": "338af218f3dbd57dd5eced0ad47a6705",
     "grade": true,
     "grade_id": "cell-1a63ca5fa5b25017",
     "locked": false,
     "points": 0,
     "schema_version": 3,
     "solution": true,
     "task": false
    }
   },
   "source": [
    "| node | parent | d | f |\n",
    "|---|---|---|---|\n",
    "|0|NIL|0|9|\n",
    "|1|0|1|2|\n",
    "|2|0|3|8|\n",
    "|3|2|4|7|\n",
    "|4|3|5|6|\n",
    "back edges: (4,0), (4,2)"
   ]
  },
  {
   "cell_type": "markdown",
   "id": "842e9d28-a086-498c-847e-60ad33c28e3c",
   "metadata": {},
   "source": [
    "#### Solution to Problem 1 (A)\n",
    "\n",
    "DFS works as follows\n",
    " - Start at node 0 (time 0)\n",
    " - Discover node 1 (time 1)\n",
    " - Finish node 1 (time 2)\n",
    " - Discover node 2 (time 3)\n",
    " - Discover node 3 (time 4)\n",
    " - Discover node 4 (time 5)\n",
    " - Finish node 4 (time 6)\n",
    " - Finish node 3 (time 7)\n",
    " - Finish node 2 (time 8)\n",
    " - Finish node 0 (time 9)\n",
    " \n",
    "The table of discovery and finish times are \n",
    "\n",
    "- Node 0 - discovery : 0 finish: 9\n",
    "- Node 1 - discovery : 1 finish : 2\n",
    "- Node 2 - discovery: 3 finish: 8\n",
    "- Node 3 - discovery: 4 finish 7\n",
    "- Node 4 - discovery: 5 finish 6\n",
    "\n",
    "The parents are\n",
    "\n",
    "- Node 0 -- None (root node)\n",
    "- Node 1 -- 0\n",
    "- Node 2 -- 0\n",
    "- Node 3 -- 2\n",
    "- Node 4 -- 3\n",
    "\n",
    "The back edges discovered are : (4,2) and (4,0)\n"
   ]
  },
  {
   "cell_type": "markdown",
   "id": "d3b5cf23-8757-4382-ab26-2a9b9d6f7934",
   "metadata": {},
   "source": [
    "#### 1 B\n",
    "\n",
    "Below is the code for the `dfs_visit` function. \n",
    "\n",
    "The following rules are followed:\n",
    "\n",
    "- When visiting a node i, consider the set of adjacent nodes in increasing order.\n",
    "  - This is automatically done for you when you get `self.adj_list[i]` which is implemented as a python set.\n",
    "- Use the `DFSTimeCounter` class provided to keep track of DFS time.\n",
    "- The timer should be incremented just before we return from `dfs_visit` and record the finish time for a node.\n",
    "- Recall that a back edge in a DFS is encountered whenever we visit a node i and   encounter adjacent node j such that j has been discovered but not finished.\n",
    "  - If this happens, add (i,j) to the set of back edges.\n",
    "  \n",
    "The `dfs_visit` code does not return anything but updates the arguments `discovery_times`, `finish_times`, `dfs_tree_parent` and `dfs_back_edges` in place."
   ]
  },
  {
   "cell_type": "code",
   "execution_count": 1,
   "id": "2a3adc1a",
   "metadata": {
    "nbgrader": {
     "cell_type": "code",
     "checksum": "4111461129b5ab3d517812a77ba6a8fb",
     "grade": false,
     "grade_id": "cell-8e614d9e157c3379",
     "locked": false,
     "schema_version": 3,
     "solution": true,
     "task": false
    }
   },
   "outputs": [],
   "source": [
    "# This is a useful data structure for implementing \n",
    "# a counter that counts the time.\n",
    "class DFSTimeCounter:\n",
    "    def __init__(self):\n",
    "        self.count = 0\n",
    "    \n",
    "    def reset(self):\n",
    "        self.count = 0\n",
    "    \n",
    "    def increment(self):\n",
    "        self.count = self.count + 1\n",
    "        \n",
    "    def get(self):\n",
    "        return self.count \n",
    "    \n",
    "class UndirectedGraph:\n",
    "    \n",
    "    # n is the number of vertices\n",
    "    # we will label the vertices from 0 to self.n -1 \n",
    "    # Initialize to an empty adjacency list\n",
    "    # We will store the outgoing edges using a set data structure\n",
    "    def __init__(self, n):\n",
    "        self.n = n\n",
    "        self.adj_list = [ set() for i in range(self.n) ]\n",
    "        \n",
    "    def add_edge(self, i, j):\n",
    "        assert 0 <= i < self.n\n",
    "        assert 0 <= j < self.n\n",
    "        assert i != j\n",
    "        # Make sure to add edge from i to j\n",
    "        self.adj_list[i].add(j)\n",
    "        # Also add edge from j to i\n",
    "        self.adj_list[j].add(i)\n",
    "        \n",
    "    # get a set of all vertices that \n",
    "    # are neighbors of the\n",
    "    # vertex i\n",
    "    def get_neighboring_vertices(self, i):\n",
    "        assert 0 <= i < self.n\n",
    "        return self.adj_list[i]\n",
    "    \n",
    "    # Function: dfs_visit\n",
    "    # Program a DFS visit of a graph.\n",
    "    # We maintain a list of discovery times and finish times.\n",
    "    # Initially all discovery times and finish times are set to None.\n",
    "    \n",
    "    # When a vertex is first visited, we will set discovery time\n",
    "    # When DFS visit has processed all the neighbors then \n",
    "    # set the finish time.\n",
    "    # DFS visit should update the list of discovery and finish times in-place\n",
    "    # Arguments\n",
    "    #  i --> id of the vertex being visited.\n",
    "    #  dfs_timer --> An instance of DFSTimeCounter structure provided for you.\n",
    "    #  discovery --> discovery time of each vertex -- a list of size self.n\n",
    "    #                None if the vertex is yet to be visited.\n",
    "    #  finish --> finish time of each vertex -- a list of size self.n\n",
    "    #                None if the vertex is yet to be finished.\n",
    "    #  dfs_tree_parent --> the parent for for each node \n",
    "    #                       if we visited node j from node i, then j's parent is i.\n",
    "    #                      Do not forget to set tree_parent when you call dfs_visit \n",
    "    #                                                         on node j from node i.\n",
    "    #  dfs_back_edges --> a list of back edges.\n",
    "    #                     a back edge is an edge from i to j wherein\n",
    "    #                     DFS has already discovered j when i is discovered \n",
    "    #                                     but not finished j\n",
    "    \n",
    "    def dfs_visit(self, i, dfs_timer, discovery_times, finish_times, \n",
    "                        dfs_tree_parent, dfs_back_edges):\n",
    "        assert 0 <= i < self.n\n",
    "        assert discovery_times[i] == None\n",
    "        assert finish_times[i] == None\n",
    "        discovery_times[i] = dfs_timer.get()\n",
    "        dfs_timer.increment()\n",
    "\n",
    "        for j in self.get_neighboring_vertices(i):\n",
    "            if discovery_times[j] == None:\n",
    "                dfs_tree_parent[j] = i\n",
    "                self.dfs_visit(j, dfs_timer, discovery_times, finish_times, dfs_tree_parent, dfs_back_edges)\n",
    "            if j in self.get_neighboring_vertices(i) and j - i > 1:\n",
    "                dfs_back_edges.append((j, i))\n",
    "        finish_times[i] = dfs_timer.get()\n",
    "        dfs_timer.increment()\n",
    "#         if j in self.get_neighboring_vertices(i) and j - i > 1:\n",
    "#             dfs_back_edges.append((j, i))\n",
    "       \n",
    "    \n",
    "    # Function: dfs_traverse_graph\n",
    "    # Traverse the entire graph.\n",
    "    def dfs_traverse_graph(self):\n",
    "        dfs_timer = DFSTimeCounter()\n",
    "        discovery_times = [None]*self.n\n",
    "        finish_times = [None]*self.n\n",
    "        dfs_tree_parents = [None]*self.n\n",
    "        dfs_back_edges = []\n",
    "        for i in range(self.n):\n",
    "            if discovery_times[i] == None:\n",
    "                self.dfs_visit(i,dfs_timer, discovery_times, finish_times, \n",
    "                               dfs_tree_parents, dfs_back_edges)\n",
    "        # Clean up the back edges so that if (i,j) is a back edge then j cannot\n",
    "        # be i's parent.\n",
    "        non_trivial_back_edges = [(i,j) for (i,j) in dfs_back_edges if dfs_tree_parents[i] != j]\n",
    "        return (dfs_tree_parents, non_trivial_back_edges, discovery_times, finish_times)\n",
    "\n",
    "    "
   ]
  },
  {
   "cell_type": "code",
   "execution_count": 2,
   "id": "33833eff-aa2a-4a48-b311-6ddc8893a5e2",
   "metadata": {},
   "outputs": [
    {
     "name": "stdout",
     "output_type": "stream",
     "text": [
      "DFS visit discovery and finish times given by your code.\n",
      "Node\t Discovery\t Finish\n",
      "0 \t 0\t\t 9\n",
      "1 \t 1\t\t 2\n",
      "2 \t 3\t\t 8\n",
      "3 \t 4\t\t 7\n",
      "4 \t 5\t\t 6\n",
      "Success -- discovery and finish times seem correct.\n",
      "\n",
      "Node\t DFS-Tree-Parent\n",
      "0 \t None\n",
      "1 \t 0\n",
      "2 \t 0\n",
      "3 \t 2\n",
      "4 \t 3\n",
      "Success-- DFS parents are set correctly.\n",
      "\n",
      "Back edges are\n",
      "(4, 2)\n",
      "(4, 0)\n",
      "Success!\n"
     ]
    }
   ],
   "source": [
    "# testing\n",
    "\n",
    "# create the graph from problem 1A.\n",
    "g = UndirectedGraph(5)\n",
    "g.add_edge(0,1)\n",
    "g.add_edge(0,2)\n",
    "g.add_edge(0,4)\n",
    "g.add_edge(2,3)\n",
    "g.add_edge(2,4)\n",
    "g.add_edge(3,4)\n",
    "\n",
    "\n",
    "# Test DFS visit\n",
    "discovery_times = [None]*5\n",
    "finish_times = [None]*5\n",
    "dfs_tree_parents = [None]*5\n",
    "dfs_back_edges = []\n",
    "g.dfs_visit(0, DFSTimeCounter(), discovery_times, finish_times, dfs_tree_parents, dfs_back_edges )\n",
    "\n",
    "print('DFS visit discovery and finish times given by your code.')\n",
    "print('Node\\t Discovery\\t Finish')\n",
    "for i in range(5):\n",
    "    print(f'{i} \\t {discovery_times[i]}\\t\\t {finish_times[i]}')\n",
    "\n",
    "assert(discovery_times[0] == 0), f'Fail: Node 0 expected discovery time must be 0'\n",
    "assert(discovery_times[1] == 1), f'Fail: Node 1 expected discovery is 1'\n",
    "assert(finish_times[1] == 2), f'Fail: Node 1 finish time expected value is 2 (are you incrementing counter before you return from dfs_visit function and before recording finish times)'\n",
    "assert(discovery_times[2] == 3), f'Fail: Node 2 expected discovery is 3'\n",
    "assert(finish_times[2] == 8), f'Fail: Node 2 finish time expected value is 8'\n",
    "assert(discovery_times[3] == 4),f'Fail: Node 3 discovery time expected value is 4'\n",
    "assert(finish_times[3] == 7), f'Fail: Node 3 finish time expected value is 7'\n",
    "assert(discovery_times[4] == 5),f'Fail: Node 4 discovery time expected value is 5'\n",
    "assert(finish_times[4] == 6), f'Fail: Node 4 finish time expected value is 6'\n",
    "\n",
    "print('Success -- discovery and finish times seem correct.')\n",
    "print()\n",
    "    \n",
    "print('Node\\t DFS-Tree-Parent')\n",
    "for i in range(5):\n",
    "    print(f'{i} \\t {dfs_tree_parents[i]}')\n",
    "\n",
    "assert(dfs_tree_parents[0] == None), 'Fail: node 0 cannot have a parent (must be root)'\n",
    "assert(dfs_tree_parents[1] == 0), 'Fail: node 1 parent must be 0'\n",
    "assert(dfs_tree_parents[2] == 0), 'Fail: node 2 parent must be 0'\n",
    "assert(dfs_tree_parents[3] == 2), 'Fail: node 3 parent must be 2'\n",
    "assert(dfs_tree_parents[4] == 3), 'Fail: node 4 parent must be 3'\n",
    "\n",
    "print('Success-- DFS parents are set correctly.')\n",
    "\n",
    "\n",
    "print()\n",
    "# Filter out all trivial back eddges (i,j)  where j is simply the parent of i.\n",
    "# such back edges occur because we are treating an undirected edge as two directed edges\n",
    "# in either direction.\n",
    "non_trivial_back_edges = [(i,j) for (i,j) in dfs_back_edges if dfs_tree_parents[i] != j]\n",
    "print('Back edges are')\n",
    "for (i,j) in non_trivial_back_edges:\n",
    "    print(f'{(i,j)}')\n",
    "    \n",
    "    \n",
    "assert len(non_trivial_back_edges) == 2, f'Fail: There must be 2 non trivial back edges -- your code reports {len(non_trivial_back_edges)}. Note that (4,0) and (4,2) are the only non trivial backedges'\n",
    "assert (4,2) in non_trivial_back_edges, '(4,2) must be a backedge that is non trivial'\n",
    "assert (4,0) in non_trivial_back_edges, '(4,3) must be a non-trivial backedges'\n",
    "\n",
    "print('Success!')"
   ]
  },
  {
   "cell_type": "markdown",
   "id": "230e973a-3bd3-4026-a257-8a3084016bdf",
   "metadata": {},
   "source": [
    "#### 1C \n",
    "\n",
    "We now wish to find the set of all nodes in the graph that belong to some cycle.\n",
    "\n",
    "__Example__\n",
    "\n",
    "Consider the example below:\n",
    "![graph3.png](pics/graph3.png)\n",
    "\n",
    "Nodes $\\{0, 2, 3, 4\\}$ lie on some cycle: example node 4 lies on many cycles one such cycle being $2-3-4$. whereas the other nodes do not.\n",
    "\n",
    "__Note__ We do _not_ treat undirected edges as cycles although in our data structure, when an undirected edge $(i,j)$ is represented as two \"directed\" edges $(i,j)$ and $(j,i)$, it gives the impression that they are in a cycle of length 2.\n",
    "\n",
    "Complete the function `find_all_nodes_in_cycle` that given a graph returns a python set of nodes in a cycle.\n",
    "\n",
    "**Hint** Perform a DFS traversal and for each _non trivial_ back edge discovered, use the DFS tree to figure out the nodes that must be on the cycle corresponding to that back edge.\n"
   ]
  },
  {
   "cell_type": "code",
   "execution_count": 3,
   "id": "9715c0a4",
   "metadata": {
    "nbgrader": {
     "cell_type": "code",
     "checksum": "8a29aeb046ab6f14af974a72808fba48",
     "grade": false,
     "grade_id": "cell-24ff7ca8a5d0b319",
     "locked": false,
     "schema_version": 3,
     "solution": true,
     "task": false
    }
   },
   "outputs": [],
   "source": [
    "def find_all_nodes_in_cycle(g): # g is an UndirectedGraph class\n",
    "    set_of_nodes = set()\n",
    "\n",
    "    for i, j in g.dfs_traverse_graph()[1]:\n",
    "        set_of_nodes.add(i)\n",
    "        set_of_nodes.add(j)\n",
    "        set_of_nodes.add(g.dfs_traverse_graph()[0][i])\n",
    "    return set_of_nodes"
   ]
  },
  {
   "cell_type": "code",
   "execution_count": 4,
   "id": "20687bfe-3a55-436a-a4b4-5ed0ef92615d",
   "metadata": {},
   "outputs": [
    {
     "name": "stdout",
     "output_type": "stream",
     "text": [
      "Your code returns set of nodes: {0, 2, 3, 4}\n",
      "Your code returns set of nodes: {0, 2, 3, 4, 5, 6, 7}\n",
      "All tests passed!\n"
     ]
    }
   ],
   "source": [
    "#this is the example that we had for the problem.\n",
    "g3 = UndirectedGraph(8)\n",
    "g3.add_edge(0,1)\n",
    "g3.add_edge(0,2)\n",
    "g3.add_edge(0,4)\n",
    "g3.add_edge(2,3)\n",
    "g3.add_edge(2,4)\n",
    "g3.add_edge(3,4)\n",
    "g3.add_edge(5,6)\n",
    "g3.add_edge(5,7)\n",
    "\n",
    "s = find_all_nodes_in_cycle(g3)\n",
    "print(f'Your code returns set of nodes: {s}')\n",
    "assert s == {0,2,3,4}, 'Fail: Set of nodes must be {0,2,3,4}.'\n",
    "\n",
    "# let's also add the edge 6,7\n",
    "g3.add_edge(6,7)\n",
    "s1 = find_all_nodes_in_cycle(g3)\n",
    "print(f'Your code returns set of nodes: {s1}')\n",
    "assert s1 == {0,2,3,4,5,6,7}, 'Fail: Set of nodes must be {0,2,3,4,5,6,7}.'\n",
    "\n",
    "print('All tests passed!')"
   ]
  },
  {
   "cell_type": "markdown",
   "id": "ac20428c-d543-4ff4-99cf-c455350af946",
   "metadata": {},
   "source": [
    "## Topological Sorting\n",
    "\n",
    "***Topological Sort - one of applications of DFS where we make a sort in Directed Acyclic Graph (DAG)***\n",
    "\n",
    "Making a sort of nodes in a graph where nodes are like tasks. Node 4 must be visited only after node 3 visited, 3 - after 2, etc. , but based on the dependencies, not the number of a node\n",
    "\n",
    "#### Main idea:\n",
    "1. Implement a **DFS**\n",
    "2. **Sort** the nodes in descending order according to their finish times\n",
    "\n",
    "If there's a back edge, then no Topological sort can be implemented\n",
    "\n",
    "<u>Running time</u> = number of vertices + number of edges"
   ]
  },
  {
   "cell_type": "markdown",
   "id": "5f3e3472-50a5-490a-bb68-b747ff11a6e3",
   "metadata": {},
   "source": [
    "## Strongly Connected Components\n",
    "\n",
    "Given a Directed Graph G\n",
    "\n",
    "**Strongly connected components (SCC)** is:\n",
    "1. a subset of vertices ($S\\subseteq V$)\n",
    "2. for all set of vertices ($\\forall \\: v_i, v_j \\in S $) there exists a path from $v_i$ to $v_j$ (path != edge)\n",
    "3. this path must entirely lie inside S\n",
    "\n",
    "**Maximal Strongly Connected Component (MSCC) -** is a SCC, which is as big as we can make, but no bigger, so it can't be extended anymore preserving a SCC property. \n",
    "\n",
    "S is a MSCC iff: S is a SCC and $\\forall \\: \\hat{s} \\supset S,\\: \\hat{s}$ is not a SCC (any superset of S is not a SCC)\n",
    "\n",
    "A graph can be decomposed into a number of MSCC, so the set of these MSCCs is called a **MSCC Decomposition of a graph** ($S_0 \\cup S_1 \\cup S_2 ... = V$)\n",
    "\n",
    "#### MSCC Properties\n",
    "1. If $S_1$ and $S_2$ are two different MSCCs of a graph, then $S_1\\cap S_2 = \\emptyset$ *(any two MSCCs of a graph can't intersect and can't have any common vertex (node))*\n",
    "2. **MSCC supergraph** - is a directed acyclic graph in which the nodes are the MSCC sets of an original graph. *(supergraph can't have cycles!)*\n",
    "3. **Reverse graph** ($G^T$) has the same MSCCs as an original graph\n",
    "\n",
    "#### MSCC Algorithm\n",
    "\n",
    "* DFS on original graph G\n",
    "* Write vertices in descending order of their finish times\n",
    "* Take the list of vertices and do DFS on the reversed graph $G^T$\n",
    "* Got the Supergraph! (a set of MSCCs)\n",
    "\n",
    "**Time is linear (|v|+|e|)**"
   ]
  },
  {
   "cell_type": "markdown",
   "id": "bcbcaa84-e0d2-4893-aa0e-616d3e4d4052",
   "metadata": {
    "tags": []
   },
   "source": [
    "### Problem"
   ]
  },
  {
   "cell_type": "markdown",
   "id": "6d157f45-0f2e-4f9d-bd31-20c189f575a8",
   "metadata": {
    "tags": []
   },
   "source": [
    "Find the number of (maximal) strongly connected components in an undirected graph from the results of a DFS. Implement the function `num_connected_components` that takes in a graph `g` and returns a number that indicates the number of MSCCs in the directed graph.\n",
    "\n",
    "__Example__\n",
    "\n",
    "Consider the graph below \n",
    "\n",
    "![image.png](pics/graph2.png)\n",
    "\n",
    "It has 3 maximal strongly connected components that have vertices $\\{0,1,2,3,4\\}$, \n",
    "$\\{5,6\\}$ and $\\{7\\}$, respectively. Given such a graph, your function must return the number 3.\n",
    "\n",
    "**Hint** Examine  the `dfs_traverse_graph` function carefully. How do you distinguish different connected components in a graph from the DFS tree?"
   ]
  },
  {
   "cell_type": "code",
   "execution_count": 5,
   "id": "14612deb-9337-4269-b204-e30efa98dc8a",
   "metadata": {
    "nbgrader": {
     "cell_type": "code",
     "checksum": "2c2b28211918e4087545915c20efadb1",
     "grade": false,
     "grade_id": "cell-27a98e937e281556",
     "locked": false,
     "schema_version": 3,
     "solution": true,
     "task": false
    }
   },
   "outputs": [],
   "source": [
    "def num_connected_components(g): # g is an UndirectedGraph class\n",
    "    # your code here\n",
    "    return g.dfs_traverse_graph()[0].count(None)"
   ]
  },
  {
   "cell_type": "code",
   "execution_count": 6,
   "id": "5019b3b7-72df-4b16-8df0-8e4553c31fb5",
   "metadata": {},
   "outputs": [
    {
     "name": "stdout",
     "output_type": "stream",
     "text": [
      "--Success!--\n"
     ]
    }
   ],
   "source": [
    "# create the graph from problem 1A.\n",
    "g = UndirectedGraph(5)\n",
    "g.add_edge(0,1)\n",
    "g.add_edge(0,2)\n",
    "g.add_edge(0,4)\n",
    "g.add_edge(2,3)\n",
    "g.add_edge(2,4)\n",
    "g.add_edge(3,4)\n",
    "\n",
    "assert num_connected_components(g) == 1, f' Test A failed: g must have 1 connected component. Your code returns {num_connected_components(g)}'\n",
    "\n",
    "\n",
    "g2 = UndirectedGraph(7)\n",
    "g2.add_edge(0,1)\n",
    "g2.add_edge(0,2)\n",
    "g2.add_edge(0,4)\n",
    "g2.add_edge(2,3)\n",
    "g2.add_edge(2,4)\n",
    "g2.add_edge(3,4)\n",
    "g2.add_edge(5,6)\n",
    "\n",
    "assert num_connected_components(g2) == 2, f' Test B failed: g2 must have 2 connected components. Your code returns {num_connected_components(g2)}'\n",
    "\n",
    "\n",
    "g3 = UndirectedGraph(8)\n",
    "g3.add_edge(0,1)\n",
    "g3.add_edge(0,2)\n",
    "g3.add_edge(0,4)\n",
    "g3.add_edge(2,3)\n",
    "g3.add_edge(2,4)\n",
    "g3.add_edge(3,4)\n",
    "g3.add_edge(5,6)\n",
    "\n",
    "assert num_connected_components(g3) == 3, f' Test C failed: g3 must have 3 connected components. Your code returns {num_connected_components(g3)}'\n",
    "\n",
    "g3.add_edge(7,5)\n",
    "assert num_connected_components(g3) == 2, f' Test D failed: g3 must now have 2 connected components. Your code returns {num_connected_components(g3)}'\n",
    "\n",
    "print('--Success!--')"
   ]
  }
 ],
 "metadata": {
  "kernelspec": {
   "display_name": "Python 3 (ipykernel)",
   "language": "python",
   "name": "python3"
  },
  "language_info": {
   "codemirror_mode": {
    "name": "ipython",
    "version": 3
   },
   "file_extension": ".py",
   "mimetype": "text/x-python",
   "name": "python",
   "nbconvert_exporter": "python",
   "pygments_lexer": "ipython3",
   "version": "3.9.12"
  }
 },
 "nbformat": 4,
 "nbformat_minor": 5
}
