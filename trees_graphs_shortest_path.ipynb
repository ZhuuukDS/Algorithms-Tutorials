{
 "cells": [
  {
   "cell_type": "markdown",
   "id": "694f85c2-3b83-4f73-9ece-ca9a3a101cf3",
   "metadata": {
    "pycharm": {
     "name": "#%% md\n"
    },
    "tags": []
   },
   "source": [
    "# **Trees and graphs**\n",
    "______________________________"
   ]
  },
  {
   "cell_type": "markdown",
   "id": "c3f54ad6-ec59-4e5d-b12e-c20efbeb0eb7",
   "metadata": {},
   "source": [
    "# Shortest Path Algorithms"
   ]
  },
  {
   "cell_type": "markdown",
   "id": "1a67ebbc-1fa4-40de-b6d9-98e977679d93",
   "metadata": {},
   "source": [
    "## Contents:\n",
    "- [Shortest Path Problems](#Shortest-Path-Problems)\n",
    "- [Single Source Shortest Path](#Single-Source-Shortest-Path)\n",
    "    - [Bellman-Ford Algorithm](#Bellman-Ford-Algorithm)\n",
    "    - [Dijkstra's Algorithm](#Dijkstra's-Algorithm)\n",
    "    - [Shortest Paths on Directed Acyclic Graphs (DAGs)](#Shortest-Paths-on-Directed-Acyclic-Graphs-(DAGs))\n",
    "    - [Shortest Paths on Graphs with all equal edge weights](#Shortest-Paths-on-Graphs-with-all-equal-edge-weights)\n",
    "- [All Pairs Shortest Path Problem](#All-Pairs-Shortest-Path-Problem)\n",
    "    - [Floyd-Warshall's Algorithm](#Floyd-Warshall's-Algorithm)\n",
    "- [Shortest Path Algorithm Comparison Table](#Shortest-Path-(SP)-Algorithm-Comparison-Table)\n",
    "- [Problem](#Problem)"
   ]
  },
  {
   "cell_type": "markdown",
   "id": "d042312f-3181-4ccb-806c-b65a654ab3f9",
   "metadata": {
    "tags": []
   },
   "source": [
    "__________\n",
    "## Shortest Path Problems\n",
    "\n",
    "**Main question:** What is the least weight path from the source node to destination node in a Weighted Directed Graph?\n",
    "\n",
    "It's like finding a best route from 1 address to another one on Google map, where each segment has its weight (travel time, distance, price, etc)\n",
    "\n",
    "__There 2 shortest paths problems:__\n",
    " - <u>single source</u> - give me the SP from __1__ source to __all__ destinations (output is a table with destination, cost and path)\n",
    " - <u>all pairs</u> - for __all pairs__ of vertices compute a SP distance and path itself (this is more expensive than single source)\n",
    " \n",
    "*Single destination = reversed single source*"
   ]
  },
  {
   "cell_type": "markdown",
   "id": "2202c034-9c5a-41a3-af11-99b170ecf0f2",
   "metadata": {},
   "source": [
    "## Single Source Shortest Path\n",
    "\n",
    "<u>Inputs:</u> \n",
    "- Weighted, directed graph $G$\n",
    "- $(V,E)$ - sets of Vertices and Edges, where $|V|=n, |E|=m$\n",
    "- $w(u,v)$ - weight of edge between nodes $u$ and $v$ (can be negative)\n",
    "\n",
    "<u>Output:</u> \n",
    "- a table with destinations, distance (cost) and a path (sequence of edges) (*like a memo table in Dynamic Programming*)\n",
    "- instead of a full path we can store a parent node and then recursively recover a path\n",
    "\n",
    "<img src='pics/sssp.png' width=500>\n",
    "\n",
    "<u>Properties:</u> \n",
    "\n",
    "1. Shortest Paths form a tree structure\n",
    "2. If we have a shortest path from $s$ to $t$ through $\\hat{t}$, then it must involve a shortest path from $s$ to $\\hat{t}$ (it's a form of *optimal substructure property* in a reverse direction)\n",
    "3. To recover a SP from a table we just need to look at the parents of nodes from the destination to source\n",
    "\n",
    "\n",
    "<u>Cycles in Shortest Path Problems</u>:\n",
    "1. if $w(cycle)\\geq 0$, then taking cycle makes paths costlier (cycles don't matter)\n",
    "2. if $w(cycle) < 0$, then SP distances from any source to any destination is \"Undefined\" or $-\\infty$\n",
    "\n",
    "*So it's not ideal to talk about shortest paths in graphs with negative weighted cycles*\n"
   ]
  },
  {
   "cell_type": "markdown",
   "id": "21742445-13bb-4c92-a2bd-1d95a8d77d61",
   "metadata": {},
   "source": [
    "### Bellman-Ford Algorithm\n",
    "\n",
    "*This is the main algorithm for a given graph $G: (V,E)$ with edge weights $w$ (__including negative__) to solve a single source s.p. for a given source vertex $s$*\n",
    "\n",
    "<u>Main idea:</u>\n",
    "- Keep repeating an operation called 'edge relax'\n",
    "\n",
    "<u>Output:</u>\n",
    "- filled table with Dest, Cost Est (distance) and $\\pi$\n",
    "\n",
    "Initially, distance estimated $\\infty$ and parent estimated $NIL$\n",
    "\n",
    "<u>Relax operation:</u>\n",
    "\n",
    "<img src='pics/relax.png' width=450>"
   ]
  },
  {
   "cell_type": "raw",
   "id": "168fbc11-c10d-4dd8-abdc-121a9ccac3e1",
   "metadata": {},
   "source": [
    "if  d[u] + w(u,v) < d[v]:\n",
    "    d[v] := d[u] + w(u,v)\n",
    "    pi(v):= u"
   ]
  },
  {
   "cell_type": "markdown",
   "id": "32d76620-7110-4a40-8905-b01a8e17a62a",
   "metadata": {},
   "source": [
    "<u>Key property of relax:</u>\n",
    "\n",
    "1. If $d[u]$ is equal to SP from source to $u$, then $d[v]$ is the length of a valid path from $u$ to $v$ (but not necessary SP)\n",
    "2. If all distance est. are equal to SP estimates (we've successfully discovered all SP), then $d[u] + w(u,v) \\geq d[v]$ -> there cannot be any further opportunity to relax an edge in the graph\n",
    "\n",
    "<u>BF Algorithm</u>\n",
    "\n",
    "1. Initialize a table with $\\infty$ for distances and $NILs$ for $\\pi$\n",
    "2. Do a loop for $i=1$ to $n-1$ times, where $n$ - number of vertices:\n",
    "    - for each edge $e$ in a graph:\n",
    "        - relax($e$)\n",
    "3. check if negative weight cycles exist\n",
    "\n",
    "**Example:**\n",
    " - we have a graph with 4 vertices ($n$)\n",
    " - therefore we need $n-1=3$ iterations\n",
    " - in each iteration we try to relax all edges\n",
    " - we initialize all distances to $\\infty$ (0 for source)\n",
    "<img src='pics/bfalgorithm.png' width= 750>\n",
    "\n",
    "Complexity of this algorithm is $\\Theta(|V|*|E|)$\n",
    "\n",
    "<u>Properties of BF algorithm:</u>\n",
    "1. Monotonicity: if $d^{*}[v]$ is the shortest path distance from source to $v$, then $d[v]\\geq d^{*}[v]$\n",
    "2. If $d[v]\\neq\\infty$, then there exists a path from $s$ to $v$ where path weight $=$ $d[v]$\n",
    "3. After $i$ iterations of BF $d[v]$ must be $leq$ of the shortest path of $i$ edges\n",
    "\n",
    "<u>What about negative weight cycles?</u>\n",
    "\n",
    "1. Init distance table\n",
    "2. for $i = 1$ to $n-1$:  #for each edge in a graph\n",
    "    - relax($e$)\n",
    "3. Check if negative cycles exist:\n",
    "    - walk through the edges one more time and check if any edge can lead to a further relaxation:\n",
    "        - if yes -> we have a neg-ve weight cycle\n",
    "        - if no -> we found all s.p. and no neg-ve weight cycles"
   ]
  },
  {
   "cell_type": "markdown",
   "id": "3fdeb1c9-4e42-471d-be87-8d138eeb8fb4",
   "metadata": {},
   "source": [
    "### Dijkstra's Algorithm\n",
    "\n",
    "*It is a s.p. algorithm for graphs whose edges are **non-negative***\n",
    "\n",
    "*It is also a **greedy algorithm***\n",
    "\n",
    "<u>Main idea:</u>\n",
    "- Relax each edge like in B-F algorithm but *only once* and after some clever order of edges\n",
    "\n",
    "<u>Output:</u>\n",
    "- filled table with destination node, distance $d$, $\\pi$ - like in B-F algorithm - and visited (T/F)\n",
    "\n",
    "Firstly, distance initialized to $\\infty$, parent to $NIL$ and visited to *False*\n",
    "\n",
    "<u>Algorithm:</u>\n",
    "\n",
    "Until all nodes are visited:\n",
    "   - at every step choose a node $v$:\n",
    "        1. previously unvisited \n",
    "        2. whose $d$ value is smallest\n",
    "   - relax all outgoing edges of $v$\n",
    "   - make $v$ as visited\n",
    "\n",
    "<img src='pics/dijkstra.gif' width=500>\n",
    "\n",
    "MinHeap Data Structure is sufficient for maintaining minimum edge value"
   ]
  },
  {
   "cell_type": "markdown",
   "id": "30f02028-df53-4e15-b50e-636449dfc791",
   "metadata": {},
   "source": [
    "***Pseudocode***\n",
    "\n",
    "<u>Initialize step</u>\n",
    "\n",
    "    for all v in V:\n",
    "        if v == s:\n",
    "            v.d = 0\n",
    "            v.pi  = NIL\n",
    "        else:\n",
    "            v.d = inf\n",
    "            v.pi = NIL\n",
    "\n",
    "<u>Construct a Heap step</u>\n",
    "    \n",
    "    Q = [v_1,...,v_n]\n",
    "    Heapify it using v.d as key for vertex v\n",
    "\n",
    "<u>Main loop</u>\n",
    "\n",
    "    While Q != 0:\n",
    "        u <- ExtractMin(Q)\n",
    "        for all outgoing edges from u (v's):\n",
    "            #do relax operation, update parent and Queue\n",
    "                if u.d + w(u,v) < v.d\n",
    "                    v.d = u.d + w(u,v)\n",
    "                    v.pi = u\n",
    "                    BubbleUp(Q,v)\n",
    "                    \n",
    "                    \n",
    "<u>Dijkstra's Algorithm Complexity:</u>\n",
    "\n",
    "$$\\Theta(n+ nlog(n) + mlog(n)) = \\Theta((m+n)log(n))$$                   "
   ]
  },
  {
   "cell_type": "markdown",
   "id": "4c4602ea-ede8-4f1a-8e1d-950d0cd6e64c",
   "metadata": {},
   "source": [
    "### Shortest Paths on Directed Acyclic Graphs (DAGs)\n",
    "\n",
    "*This is a special case where we have a directed graph with no cycles*\n",
    "\n",
    "Instead of standard Bellman-Ford algorithm with $\\Theta(|V||E|)$ time we can do $\\Theta(|V| + |E|)$ (relax only once) by using this trick that works for DAGs:\n",
    "\n",
    "1. __Topologically sort__ all the vertices in a graph (each edge goes from lower ranked to higher ranked)\n",
    "2. Iterate through $v_i$ in topological order:\n",
    "    - for each outgoing edge $e$ of $v_i$:\n",
    "        * relax($e$)\n",
    "3. Done!"
   ]
  },
  {
   "cell_type": "markdown",
   "id": "114f4dff-2f98-40d8-b291-ae733100d3df",
   "metadata": {},
   "source": [
    "### Shortest Paths on Graphs with all equal edge weights \n",
    "\n",
    "*This is a special case where every edge in a graph has equal positive weight*\n",
    "\n",
    "Here, instead of Bellman-Ford algorithm with $\\Theta(|V||E|)$ time we can do a Breadyj First Search with $\\Theta(|V| + |E|)$ time complexity.\n",
    "\n",
    "BFS finds the s.p. where the size of a path is measured in terms of number of edges."
   ]
  },
  {
   "cell_type": "markdown",
   "id": "a0895b83-b1bd-45ab-8913-5d7d89218aff",
   "metadata": {
    "tags": []
   },
   "source": [
    "## All Pairs Shortest Path Problem\n",
    "\n",
    "In this problem we don't have one single source vertex.\n",
    "\n",
    "Instead, with a graph of $n$ nodes we have $n^2$ possible pairs of source-destinations.\n",
    "\n",
    "We can represent the distances in a matrix of s.p. $D$ and to retrieve the paths we also construct a matrix $N$ that encodes the next node along the path:\n",
    "\n",
    "<img src='pics/allpairs.png' width=600>\n",
    "\n",
    "<u>We can use:</u>\n",
    "\n",
    "1. For a graph that has all non-negative weight edges: \n",
    "    - Dijkstra's algorithm for every source node with $\\Theta(n^3logn)$ if the graph is dense and $\\Theta(n^2logn)$ if the graph is sparse\n",
    "2. For a graph with edges that can be negative:\n",
    "    - Bellman-Ford algorithm for every vertex in a graph with $\\Theta(n^4)$ if the graph is dense and $\\Theta(n^3)$ if the graph is sparse\n",
    "    \n",
    "***But a better algorithm is known for this problem***"
   ]
  },
  {
   "cell_type": "markdown",
   "id": "40e52619-3193-4b6c-932e-1d6652ec249a",
   "metadata": {},
   "source": [
    "### Floyd-Warshall's Algorithm\n",
    "\n",
    "*This is a dynamic programming algorithm for finding all pairs s.p. with $\\Theta(n^3)$* complexity\n",
    "\n",
    "<u>Algorithm:</u>\n",
    "\n",
    "let $n$ = number of vertices <br>\n",
    "let $D = n x n$ matrix with minimum distances\n",
    "\n",
    "1. *Initiate a matrix*\n",
    "\n",
    "* for each vertex $v$:\n",
    "  - $D[n][n] = 0$\n",
    "    \n",
    "* for each edge $(u,v)$:\n",
    "  - if $(u,v)$: # if edge exists\n",
    "      - $D[u][v] = w(u,v)$   *#w - weight*\n",
    "  - else:\n",
    "      - $D[u][v] = \\infty$\n",
    "\n",
    "2. *Nested loop for updating distances*\n",
    "\n",
    "* for $k$ from $1$ to $n$:\n",
    "   - for $i$ from $1$ to $n$:\n",
    "        - for $j$ from $1$ to $n$:\n",
    "            - if $D[i][j] > D[i][k] + D[k][j]$:\n",
    "                - $D[i][j] = D[i][k] + D[k][j]$\n",
    "\n",
    "    \n"
   ]
  },
  {
   "cell_type": "markdown",
   "id": "d3836b4e-a314-4370-8988-d90ba6d20bbf",
   "metadata": {
    "tags": []
   },
   "source": [
    "## Shortest Path (SP) Algorithm Comparison Table\n",
    "\n",
    "|  | BFS | Dijkstra's | Bellmman Ford | Floyd Warshall |\n",
    "|---|---|---|---|---|\n",
    "| __Complexity__ | O(V+E) | O((V+E)logV) | O(VE) | O(V$^3$) |\n",
    "| __Recommended graph size__ | Large | Large/Medium | Medium/Small | Small |\n",
    "| __Good for all pairs SP?__ | Only works for unweighted graphs | OK | Bad | Yes |\n",
    "| __Can detect negative cycles?__ | No | No | Yes | Yes |\n",
    "| __SP on graph with weighted edges__ | Incorrect SP answer | Best algorithm | Works | Bad in general |\n",
    "| __SP on graph with unweighted edges__ | Best algorithm | OK | Bad | Bad in general |"
   ]
  },
  {
   "cell_type": "markdown",
   "id": "dc6550df-af4e-4e93-9a77-6d00ccd2ee0c",
   "metadata": {},
   "source": [
    "## Problem\n",
    "\n",
    "#### Solving Image Maze\n",
    "\n",
    "Given a maze as an image with a start and end point, we would like to write code to solve the maze. \n",
    "\n",
    "An image is a 2D matrix of pixels of a particular size that depends on its resolution. Each \n",
    "pixel has a color which is given by its Red, Green and Blue (RGB) values.\n",
    " \n",
    "Given an image, we will view it as a graph where each pixel of the image is a vertex \n",
    "and edges connect a pixel to its neighbor. The weight of an edge should be very small if\n",
    "the pixel colors are similar (i.e, the differences between r, g and b values are close to zero)\n",
    "and correspondingly large as the pixel colors diverge.\n",
    "  \n",
    "Next, given a source pixel $(i_0, j_0)$ and destination pixel, \n",
    "$(i_1, j_1)$, we wish find the shortest weight path from source to destination.\n",
    "\n",
    "We should use the Dijkstra's algorithm modified in two ways:\n",
    "   - It can exit as soon as the destination is reached.\n",
    "   - A 1000 x 1000 pixel image gives rise to a graph with million vertices. Storing such a graph as an adjacency list is going to be very memory intensive. Instead, our goal is to generate the vertices and edges *on-the-fly*.\n",
    "   \n",
    "We will use opencv library, a popular computer vision library to load, and manipulate images of mazes.\n"
   ]
  },
  {
   "cell_type": "markdown",
   "id": "86ec8339-37c3-4bd7-94ad-8faa6774d07b",
   "metadata": {},
   "source": [
    "#### Manipulating Images\n",
    "\n",
    "We can directly manipulate images in python in many ways. The `opencv` library is considered a standard for numerous image manipulation tasks.\n",
    "\n",
    "Here we load an image `maze.jpg` and it nicely plotted with coordinates. We then show the two pixels\n",
    "shown in red and blue. The goal here is to detect a path from one of the colored circle to the other, in the maze without crossing the black pixels."
   ]
  },
  {
   "cell_type": "code",
   "execution_count": 1,
   "id": "9b135ae6-94fb-40ce-89ef-f8c0237f861f",
   "metadata": {},
   "outputs": [
    {
     "data": {
      "image/png": "[encoded data removed]",
      "text/plain": [
       "<Figure size 432x288 with 1 Axes>"
      ]
     },
     "metadata": {
      "needs_background": "light"
     },
     "output_type": "display_data"
    }
   ],
   "source": [
    "from matplotlib import pyplot as plt\n",
    "import cv2\n",
    "# You can read png, jpg and other file types \n",
    "img = cv2.imread('pics/maze.jpg') # read an image from a file using opencv (cv2) library\n",
    "# you can annotate images \n",
    "cv2.circle(img,(16,5), 5, (255,0,0), -1) # add a circle centered at (5, 220) radius 3, color red (RGB: 255,0,0)\n",
    "cv2.circle(img, (200,214), 5, (0,0,255), -1) # add a circle centered at (5,5) radius 3, color blue (RGB: 0,0,255)\n",
    "plt.imshow(img) # show the image on the screen \n",
    "plt.title('Amazing')\n",
    "plt.show()"
   ]
  },
  {
   "cell_type": "markdown",
   "id": "0b8f8613-e5cf-466c-8ede-28a7b6d8d0a4",
   "metadata": {},
   "source": [
    "Given an image it is simple to read the color at a pixel. Let us read the color at pixel (36, 45)"
   ]
  },
  {
   "cell_type": "code",
   "execution_count": 2,
   "id": "b607fa98-3f97-43ce-9eef-75a7b459c574",
   "metadata": {},
   "outputs": [
    {
     "name": "stdout",
     "output_type": "stream",
     "text": [
      "Image size (height, width, num layers) is (220, 223, 3)\n",
      "[0 0 0]\n",
      "[198  31   4]\n",
      "[255 255 255]\n"
     ]
    },
    {
     "data": {
      "image/png": "[encoded data removed]",
      "text/plain": [
       "<Figure size 432x288 with 1 Axes>"
      ]
     },
     "metadata": {
      "needs_background": "light"
     },
     "output_type": "display_data"
    }
   ],
   "source": [
    "print('Image size (height, width, num layers) is', img.shape)\n",
    "\n",
    "px = img[36, 45] # img[y,x] is the color of the pixel of x,y\n",
    "print(px) \n",
    "cv2.circle(img, (80, 18), 5, (198,31,4),-1) # Draw a colored circle centered at (80, 18)\n",
    "plt.imshow(img)\n",
    "px1 = img[18, 80] # It is important to note that rows of the image are y values and columns are x values.\n",
    "print(px1)\n",
    "px2 = img[80, 18] # This is important to note that indexing the img data structure takes y, x values.\n",
    "# Most opencv functions will require (x,y) coordinates for pixel as is natural.\n",
    "print(px2)"
   ]
  },
  {
   "cell_type": "markdown",
   "id": "4d1576a0-307a-4134-9502-ae315bb016ce",
   "metadata": {},
   "source": [
    "The pixel color is expressed in RGB format. R is the red value from 0 -> 255, G is the green value 0 -> 255 and B is the blue value from 0 -> 255 \n",
    "\n",
    "We will now define an edge weight function for an edge in the image."
   ]
  },
  {
   "cell_type": "code",
   "execution_count": 3,
   "id": "7e700eb8-6cb9-412f-9650-365d8b00f791",
   "metadata": {},
   "outputs": [],
   "source": [
    "import math \n",
    "def fixPixelValues(px):\n",
    "    # convert the RGB values into floating point to avoid an overflow that will give me wrong answers\n",
    "    return [ float(px[0]), float(px[1]), float(px[2]) ]\n",
    "\n",
    "\n",
    "    \n",
    "# This is a useful function that given a list of (x,y) values, \n",
    "# draw a series of red lines between each coordinate and next to \n",
    "# show the path in the image\n",
    "def drawPath(img, path, pThick=2):\n",
    "    v = path[0]\n",
    "    x0, y0 = v[0], v[1]\n",
    "    for v in path:\n",
    "        x, y = v[0], v[1]\n",
    "        cv2.line(img,(x,y), (x0,y0), (255,0,0),pThick)\n",
    "        x0, y0 = x,y\n",
    "        "
   ]
  },
  {
   "cell_type": "code",
   "execution_count": 4,
   "id": "36b868fa-3f3a-44bf-ada1-00531f0c0b22",
   "metadata": {},
   "outputs": [
    {
     "data": {
      "image/png": "[encoded data removed]",
      "text/plain": [
       "<Figure size 432x288 with 1 Axes>"
      ]
     },
     "metadata": {
      "needs_background": "light"
     },
     "output_type": "display_data"
    }
   ],
   "source": [
    "# Example\n",
    "img = cv2.imread('pics/maze.jpg') # read an image from a file using opencv (cv2) library\n",
    "drawPath(img, [ (15, 15), (135, 15), (135, 85), (85, 85), (85, 130)])\n",
    "plt.imshow(img) # show the image on the screen \n",
    "plt.title('Illustration of drawPath')\n",
    "plt.show()"
   ]
  },
  {
   "cell_type": "markdown",
   "id": "f8b01cbc-c8ee-41f2-bdcf-cea029b69bd8",
   "metadata": {
    "tags": []
   },
   "source": [
    "#### Step 1: Compute Single Source Shortest Path For an Image\n",
    "\n",
    "Given an image, we compute the  shortest path between source and destination pixels by modifying Dijkstra's algorithm. __The challenge here is to implement it without needing to create the entire the adjacency list for the graph in the first place. However, for simplicity we can try a first cut implementation of a generic Dijkstra algorithm over graphs represented as adjacency matrix or list.__ "
   ]
  },
  {
   "cell_type": "code",
   "execution_count": 5,
   "id": "e9e71366-cbb4-45b4-b28c-23f82792f975",
   "metadata": {},
   "outputs": [],
   "source": [
    "class Vertex: # This is the outline for a vertex data structure\n",
    "    \n",
    "    def __init__ (self,  i, j):\n",
    "        self.x = i # The x coordinate\n",
    "        self.y = j  # The y coordinate\n",
    "        self.d = float('inf') # the shortest path estimate\n",
    "        self.processed = False # Has this vertex's final shortest path distance been computed\n",
    "        # this is important for Dijksatra's algorithm\n",
    "        # We will track where the vertex is in the priority queue.\n",
    "        self.idx_in_priority_queue = -1 # The index of this vertex in the queue\n",
    "        self.pi = None # the parent vertex in the shortest path tree.\n",
    "        \n",
    "    def reset(self):\n",
    "        self.d = float('inf')\n",
    "        self.processed = False # Has this vertex's final shortest path distance been computed\n",
    "        # this is important for Dijksatra's algorithm\n",
    "        # We will track where the vertex is in the priority queue.\n",
    "        self.idx_in_priority_queue = -1 # The index of this vertex in the queue\n",
    "        self.pi = None # the parent vertex in the shortest path tree.\n",
    "    \n",
    "\n",
    "# However, if we want Dijkstra's efficiently, we will need a priority queue\n",
    "# Here's a heap data structure\n",
    "class PriorityQueue:\n",
    "    # Constructor:  Implementation of an empty heap data structure\n",
    "    def __init__(self):\n",
    "        self.q = [None] # pad it with one element\n",
    "    \n",
    "    # Function: insert\n",
    "    # Insert a vertex v of type Vertex into the queue.\n",
    "    # Remember to set the field `idx_in_priority_queue` and keep updating it.\n",
    "    def insert(self, v):\n",
    "        n = len(self.q)\n",
    "        self.q.append(v)\n",
    "        v.idx_in_priority_queue = n\n",
    "        self.bubble_up(n)\n",
    "        \n",
    "    # Function: swap two elements in the priority queue.\n",
    "    # Remember to swap the vertices at positions i and j\n",
    "    # But also remember to update the positions of the vertices in the priority queue.\n",
    "    # We can use this to implement bubble_up and bubble_down\n",
    "    def swap(self, i, j):\n",
    "        tmp = self.q[i]\n",
    "        self.q[i] = self.q[j]\n",
    "        self.q[i].idx_in_priority_queue = i\n",
    "        self.q[j] = tmp\n",
    "        self.q[j].idx_in_priority_queue = j\n",
    "        \n",
    "    # Function: bubble_up\n",
    "    # bubble up an element j until min heap property is restored.\n",
    "    def bubble_up(self, j):\n",
    "        assert j >= 1\n",
    "        assert j < len(self.q)\n",
    "        if j == 1:\n",
    "            return\n",
    "        val = self.q[j].d\n",
    "        parent_idx = j // 2\n",
    "        parent_val = self.q[parent_idx].d\n",
    "        if val < parent_val:\n",
    "            self.swap(j, parent_idx)\n",
    "            self.bubble_up(parent_idx)\n",
    "        return\n",
    "    \n",
    "    # Function: bubble_down\n",
    "    # Bubble down an element j until min heap property is restored.\n",
    "    def bubble_down(self, j):\n",
    "        n = len(self.q)\n",
    "        left_child_idx = 2 * j\n",
    "        right_child_idx = 2 * j + 1\n",
    "        if left_child_idx >= n:\n",
    "            return\n",
    "        if right_child_idx >= n:\n",
    "            child_idx = left_child_idx\n",
    "            child_d = self.q[left_child_idx].d\n",
    "        else:\n",
    "            (child_d, child_idx) = min ( (self.q[left_child_idx].d, left_child_idx), \n",
    "                                         (self.q[right_child_idx].d, right_child_idx)\n",
    "                                       )\n",
    "        if self.q[j].d > child_d:\n",
    "            self.swap(j, child_idx)\n",
    "            self.bubble_down(child_idx)\n",
    "        return \n",
    "        \n",
    "    # Function: get_and_delete_min\n",
    "    # Finding the minimum weight vertex and delete it from the heap.\n",
    "    # Returning the deleted vertex back\n",
    "    def get_and_delete_min(self):\n",
    "        n = len(self.q)\n",
    "        assert n > 1\n",
    "        v = self.q[1]\n",
    "        if n > 2: \n",
    "            self.q[1] = self.q[n-1]\n",
    "            self.q[n-1].idx_in_priority_queue = 1\n",
    "            del self.q[n-1]\n",
    "            self.bubble_down(1)\n",
    "        return v\n",
    "    \n",
    "    # Is the heap empty?\n",
    "    def is_empty(self):\n",
    "        return len(self.q) == 1\n",
    "    \n",
    "    # This is a useful function since in Dijkstra's\n",
    "    # the weight of a vertex updates on the fly.\n",
    "    # We will need to call this to update the vertex weight.\n",
    "    def update_vertex_weight(self, v):\n",
    "        j = v.idx_in_priority_queue\n",
    "        n = len(self.q)\n",
    "        assert j >= 0 and j < n\n",
    "        self.bubble_down(j)\n",
    "        self.bubble_up(j)"
   ]
  },
  {
   "cell_type": "code",
   "execution_count": 6,
   "id": "a2571db4-f088-4e4b-aa94-4ec4f567715e",
   "metadata": {},
   "outputs": [],
   "source": [
    "class DirectedGraphFromImage:\n",
    "    def __init__(self, img):\n",
    "        self.img = img\n",
    "        # constructing a dictionary that maps coordinates [(i,j)] to corresponding vertices in graph\n",
    "        self.coords2vertex = {}\n",
    "    \n",
    "        \n",
    "    def get_vertex_from_coords(self, i, j):\n",
    "        if (i,j) in self.coords2vertex: # is pixel (i,j) already there? \n",
    "            return self.coords2vertex[(i,j)] # if yes, just return the vertex corresponding\n",
    "        v = Vertex(i, j)\n",
    "        self.coords2vertex[(i,j)] = v\n",
    "        return v\n",
    "    \n",
    "    # Given (x,y) coordinates of two neighboring pixels, we calculate the edge weight.\n",
    "    # We take the squared euclidean distance between the pixel values and add 0.1\n",
    "    def getEdgeWeight(self, u, v):\n",
    "        img = self.img\n",
    "        # getting edge weight for edge between u, v\n",
    "        i0,j0 = u.x, u.y\n",
    "        i1,j1 = v.x, v.y\n",
    "        height, width, _ = img.shape\n",
    "        # First making sure that the edge is legit\n",
    "        # Edges can only go from each pixel to neighboring pixel\n",
    "        assert i0 >= 0 and j0 >= 0 and i0 < width and j0 < height # pixel position valid?\n",
    "        assert i1 >= 0 and j1 >= 0 and i1 < width and j1 < height # pixel position valid?\n",
    "        assert -1 <= i0 - i1 <= 1 # edge between node and neighbor?\n",
    "        assert -1 <= j0 - j1 <= 1\n",
    "        px1 = fixPixelValues(img[j0,i0])\n",
    "        px2 = fixPixelValues(img[j1,i1])\n",
    "        return 0.1 + (px1[0] - px2[0])**2 + (px1[1] - px2[1])**2 + (px1[2]- px2[2])**2\n",
    "\n",
    "    # Function: get_list_of_neighbors\n",
    "    # Given a vertex in the graph, get its list of neighbors\n",
    "    #  I.e, for given vertex `vert` return a list [(v1, w1), (v2, w2),..,(vk,wk)]\n",
    "    #  Such that vert has an edge to v1 with weight w1, edge to v2 with weight w2 and ... \n",
    "    #   edge to vk with weight wk\n",
    "    # Note that rather than build an adjacency list up front, we simply call this function\n",
    "    # to get the neighbors of a vertex.\n",
    "    def get_list_of_neighbors(self, vert):\n",
    "        img = self.img\n",
    "        i = vert.x\n",
    "        j = vert.y\n",
    "        height, width, _ = img.shape\n",
    "        lst = []\n",
    "        if i > 0:\n",
    "             # Get the adjacent vertex directly to the WEST\n",
    "            # What is the weight of the edge from pixel (i,j) to (i-1,j)\n",
    "            v0 = self.get_vertex_from_coords(i-1, j)\n",
    "            w0 = self.getEdgeWeight(vert, v0)\n",
    "            # Append the adjacent vertex and its weight.\n",
    "            lst.append((v0, w0))\n",
    "        if j > 0:\n",
    "            # Get the adjacent vertex directly to the SOUTH\n",
    "            v1 = self.get_vertex_from_coords(i, j-1)\n",
    "            w1 = self.getEdgeWeight(vert, v1)\n",
    "            # Append the adjacent vertex and its weight.\n",
    "            lst.append((v1, w1))    \n",
    "        if i < width-1:\n",
    "            # EAST\n",
    "            v2 = self.get_vertex_from_coords(i+1, j)\n",
    "            w2 = self.getEdgeWeight( vert, v2)\n",
    "            lst.append((v2, w2))\n",
    "        if j < height-1:\n",
    "            # NORTH\n",
    "            v3 = self.get_vertex_from_coords(i, j+1)\n",
    "            w3 = self.getEdgeWeight(vert, v3)\n",
    "            lst.append((v3, w3))\n",
    "        return lst\n"
   ]
  },
  {
   "cell_type": "markdown",
   "id": "0473d36a-fb13-4ed9-96a6-0db32d179bc9",
   "metadata": {},
   "source": [
    "Using Dijkstra's algorithm and the classes provided above, now we will implement the function `computeShortestPath`. Its inputs are\n",
    "  - `graph` : an instance of DirectedGraphFromImage class\n",
    "  - `source_coordinates`: The (i,j) coordinates of the starting point.\n",
    "  - `dest_coordinates`: The (i,j) coordinates of the destination. \n",
    "  \n",
    "It will return a tuple `(path, distance)` wherein \n",
    "  - `path` is a list of pixel coordinates `[(i0,j0),...., (ik,jk)]` wherein `(i0,j0)` corresponds to the `soure_coordinates` and `(ik,jk))` corresponds to the destination.\n",
    "  - `distance` is the total weight of the shortest path.\n",
    "  \n",
    " #### Pseudocode \n",
    " Here is an outline of Dijkstra's algorithm with modifications\n",
    " \n",
    " ~~~\n",
    " 1. Initialize an empty priority queue `q` (use `PriorityQueue` class)\n",
    " 2. Get the source vertex (`source`) using the function `graph.get_vertex_from_coords(i,j)`.\n",
    " 3. Set the `source.d` field to 0 to indicate that distance of source from source is 0.\n",
    " 4. Add the source vertex to the priority queue (use `insert` method).\n",
    " 5. While the priority queue is not empty.\n",
    "    5.1 Get the vertex with minimum value of d and delete it (use `get_and_delete_min` function). Let's call this vertex `u`.\n",
    "    5.2 Set the processed field of `u` to True.\n",
    "    5.3 If `u` has the same coordinates as destination (use `u.x` and `u.y`) then \n",
    "        5.3.1 shortest path distance is `u.d` and break from the loop.\n",
    "    5.4 For each outgoing edge from `u` to `v` with weight `w`\n",
    "        5.4.1 If `v` is not already processed and `v.d > u.d + w` then \n",
    "              5.4.1.1 update `v.d` to `u.d + w`. Set `v.pi` to `u`.\n",
    "              5.4.1.2 If `v` is already not in the priority queue, insert it into the queue\n",
    "              5.4.1.3 Else, use the `update_vertex_weight` method of priority queue with `v` as the argument to make sure that `v` is moved to the appropriate place in the priority queue.\n",
    " 6. To get the path, start from the destination vertex and keep taking the parent pointer until we reach the source. Store the sequence of vertices in a path.\n",
    " 7. Return the (path, shortest path distance)\n",
    " ~~~"
   ]
  },
  {
   "cell_type": "code",
   "execution_count": 7,
   "id": "e682173d-47c4-4b05-961f-4de37f4f4384",
   "metadata": {},
   "outputs": [],
   "source": [
    "# Function: computeShortestPath\n",
    "# Let us implement Dijkstra's algorithm\n",
    "# graph - instance of the DirectedGraphFromImage class\n",
    "# source - a vertex that is the source (i,j) pixel coordinates\n",
    "# dest - a vertex that is the destination (i,j) pixel coordinates\n",
    "def computeShortestPath(graph, source_coordinates, dest_coordinates):\n",
    "    q = PriorityQueue()\n",
    "    source = graph.get_vertex_from_coords(*source_coordinates)\n",
    "    dest = graph.get_vertex_from_coords(*dest_coordinates)\n",
    "    source.d = 0\n",
    "    q.insert(source)\n",
    "    \n",
    "    while q.is_empty() == False:\n",
    "        u = q.get_and_delete_min()\n",
    "        u.processed = True\n",
    "        if u.x == dest_coordinates[0] and u.y == dest_coordinates[1]:\n",
    "            shortest_path_distance = u.d\n",
    "            break\n",
    "        for v, w in graph.get_list_of_neighbors(u):\n",
    "            if v.processed == False and v.d > u.d + w:\n",
    "                v.d = u.d + w\n",
    "                v.pi = u\n",
    "                if v.idx_in_priority_queue == -1:\n",
    "                    q.insert(v)\n",
    "                else:\n",
    "                    q.update_vertex_weight(v)\n",
    "    \n",
    "    shortest_path_distance = dest.d     \n",
    "    \n",
    "    path = [(dest.x, dest.y)]\n",
    "    while dest != source:\n",
    "        path.insert(0, (dest.pi.x, dest.pi.y))        \n",
    "        dest = dest.pi\n",
    "    \n",
    "    return (path, shortest_path_distance)"
   ]
  },
  {
   "cell_type": "code",
   "execution_count": 8,
   "id": "8b7c34ff-ecfb-492a-8424-c44090718235",
   "metadata": {},
   "outputs": [
    {
     "name": "stdout",
     "output_type": "stream",
     "text": [
      "[(0, 0), (1, 0), (1, 1), (2, 2)]\n",
      "[(0, 0), (1, 0), (1, 1), (1, 2)]\n",
      "[(2, 2), (2, 1), (1, 1), (0, 1), (0, 0)]\n",
      "All tests passed!\n"
     ]
    }
   ],
   "source": [
    "class DummyGraphClass:\n",
    "    def __init__(self, adj_list, verts):\n",
    "        self.verts=verts\n",
    "        self.adj_list = adj_list\n",
    "        \n",
    "                \n",
    "    def get_vertex_from_coords(self, i, j):\n",
    "        assert (i,j) in self.verts\n",
    "        return self.verts[(i,j)]\n",
    "    \n",
    "    def get_list_of_neighbors(self, vert):\n",
    "        coords = (vert.x, vert.y)\n",
    "        if coords in self.adj_list:\n",
    "            return self.adj_list[(vert.x, vert.y)]\n",
    "        else:\n",
    "            return []\n",
    "    \n",
    "# Test 1\n",
    "verts = {(i,j): Vertex(i,j) for i in range(3) for j in range(3)}\n",
    "adj_list= {}\n",
    "def connect_nodes(src, dest, weight):\n",
    "    v1 = src\n",
    "    v2 = verts[dest]\n",
    "    if v1 in adj_list:\n",
    "        adj_list[v1].append((v2, weight))\n",
    "    else:\n",
    "        adj_list[v1] = [(v2, weight)]\n",
    "# Let's build a graph\n",
    "connect_nodes((0,0),(0,1),1.0)\n",
    "connect_nodes((0,0),(1,0),0.5)\n",
    "connect_nodes((1,0),(0,1), 0.5)\n",
    "connect_nodes((0,1),(0,0), 0.5)\n",
    "connect_nodes((1,0),(1,1), 0.5)\n",
    "connect_nodes((1,1), (2,2), 0.25)\n",
    "connect_nodes((1,1),(1,2), 0.5)\n",
    "connect_nodes((1,1),(2,1), 1.2)\n",
    "connect_nodes((2,1), (2,2), 0.25)\n",
    "connect_nodes((1,2), (2,2), 0.25)\n",
    "\n",
    "graph = DummyGraphClass(adj_list, verts)\n",
    "\n",
    "path, dist = computeShortestPath(graph, (0,0), (2,2))\n",
    "print(path)\n",
    "\n",
    "assert(dist == 1.25) , ' shortest path distance from (0,0) to (2,2) must be 1.25'\n",
    "assert (path == [(0,0), (1,0), (1,1), (2,2)])\n",
    "\n",
    "for (_,v) in verts.items():\n",
    "    v.reset()\n",
    "\n",
    "graph2 = DummyGraphClass(adj_list, verts)\n",
    "(path2, dist2) = computeShortestPath(graph2, (0,0),(1,2))\n",
    "print(path2)\n",
    "assert dist2 == 1.5, ' shortest path distance from (0,0) to (1,2) must be 1.5'\n",
    "assert path2[0] == (0,0)\n",
    "assert path2[-1] == (1,2)\n",
    "\n",
    "for (_,v) in verts.items():\n",
    "    v.reset()\n",
    "\n",
    "connect_nodes((2,2), (2,1), 0.5)\n",
    "connect_nodes((2,1), (1,1), 1.0)\n",
    "connect_nodes((1,1),(0,1), 0.5)\n",
    "\n",
    "\n",
    "graph3 = DummyGraphClass(adj_list, verts)\n",
    "(path3, dist3) = computeShortestPath(graph3, (2,2),(0,0))\n",
    "print(path3)\n",
    "assert(dist3 == 2.5)\n",
    "assert(path3[0]== (2,2))\n",
    "assert(path3[-1] == (0,0))\n",
    "\n",
    "print('All tests passed!')"
   ]
  },
  {
   "cell_type": "code",
   "execution_count": 9,
   "id": "02e3a149-269e-4d99-95ff-67bef285f6cd",
   "metadata": {},
   "outputs": [
    {
     "data": {
      "image/png": "[encoded data removed]",
      "text/plain": [
       "<Figure size 432x288 with 1 Axes>"
      ]
     },
     "metadata": {
      "needs_background": "light"
     },
     "output_type": "display_data"
    }
   ],
   "source": [
    "img = cv2.imread('pics/maze.jpg') # read an image from a file using opencv (cv2) library\n",
    "cv2.circle(img,(205,215), 3, (255,0,0), -1) # add a circle centered at (5, 220) radius 3, color red (RGB: 255,0,0)\n",
    "cv2.circle(img, (15,5), 3, (0,0,255), -1) # add a circle centered at (5,5) radius 3, color red (RGB: 0,0,255)\n",
    "plt.imshow(img) # show the image on the screen \n",
    "plt.title('Amazing')\n",
    "plt.show()"
   ]
  },
  {
   "cell_type": "code",
   "execution_count": 10,
   "id": "8ad19686-d602-49f6-a99e-77d11a9ff2d8",
   "metadata": {},
   "outputs": [
    {
     "name": "stdout",
     "output_type": "stream",
     "text": [
      "Distance = 53.200000000000486\n",
      "Passed!\n"
     ]
    }
   ],
   "source": [
    "img = cv2.imread('pics/maze.jpg') # read an image from a file using opencv (cv2) library\n",
    "graph = DirectedGraphFromImage(img)\n",
    "p,dist = computeShortestPath(graph, (15,5), (205,215))\n",
    "assert dist <= 53.21, 'Expected shortest path distance must be 53.200000000000486'\n",
    "assert p[0] == (15,5)\n",
    "assert p[-1] == (205,215)\n",
    "print(f'Distance = {dist}')\n",
    "print('Passed!')"
   ]
  },
  {
   "cell_type": "code",
   "execution_count": 11,
   "id": "83b96859-83aa-420a-83d9-c039403a6110",
   "metadata": {},
   "outputs": [
    {
     "data": {
      "image/png": "[encoded data removed]",
      "text/plain": [
       "<Figure size 432x288 with 1 Axes>"
      ]
     },
     "metadata": {
      "needs_background": "light"
     },
     "output_type": "display_data"
    },
    {
     "data": {
      "text/plain": [
       "True"
      ]
     },
     "execution_count": 11,
     "metadata": {},
     "output_type": "execute_result"
    }
   ],
   "source": [
    "drawPath(img, p, 2)\n",
    "plt.imshow(img) # show the image on the screen \n",
    "plt.title('Amazing')\n",
    "plt.show()\n",
    "cv2.imwrite('pics/maze_solution.jpg', img)"
   ]
  }
 ],
 "metadata": {
  "kernelspec": {
   "display_name": "Python 3 (ipykernel)",
   "language": "python",
   "name": "python3"
  },
  "language_info": {
   "codemirror_mode": {
    "name": "ipython",
    "version": 3
   },
   "file_extension": ".py",
   "mimetype": "text/x-python",
   "name": "python",
   "nbconvert_exporter": "python",
   "pygments_lexer": "ipython3",
   "version": "3.9.12"
  }
 },
 "nbformat": 4,
 "nbformat_minor": 5
}
